{
 "cells": [
  {
   "cell_type": "code",
   "execution_count": 6,
   "metadata": {},
   "outputs": [],
   "source": [
    "import torch\n",
    "from torch.utils.data import DataLoader\n",
    "from torch.utils.data import Dataset, random_split\n",
    "import torch.nn.functional as F\n",
    "import sys\n",
    "import os\n",
    "import pickle\n",
    "import pandas as pd\n",
    "from torch.utils.tensorboard import SummaryWriter\n",
    "# parent_dir = os.path.abspath(\"../papers/attention_is_all_you_need\")\n",
    "# sys.path.append(parent_dir)\n",
    "parent_dir = os.path.abspath(\"../utils/\")\n",
    "sys.path.append(parent_dir)\n",
    "from pathlib import Path\n",
    "from tqdm import tqdm"
   ]
  },
  {
   "cell_type": "code",
   "execution_count": 7,
   "metadata": {},
   "outputs": [],
   "source": [
    "import yaml\n",
    "\n",
    "YAML_PATH = Path(\"../\")  / \"papers\" / \"attention_is_all_you_need\" / \"config.yaml\"\n",
    "with open(YAML_PATH, \"r\") as file:\n",
    "    config = yaml.safe_load(file)"
   ]
  },
  {
   "cell_type": "markdown",
   "metadata": {},
   "source": []
  },
  {
   "cell_type": "markdown",
   "metadata": {},
   "source": [
    "## Get Training Data and Encode Training Data"
   ]
  },
  {
   "cell_type": "code",
   "execution_count": 9,
   "metadata": {},
   "outputs": [],
   "source": [
    "from BPE.bpe import BPEEncoder, BPEDecoder\n"
   ]
  },
  {
   "cell_type": "code",
   "execution_count": 169,
   "metadata": {},
   "outputs": [],
   "source": [
    "PATH = Path(\"../\")  / \"data\" / \"EnglishGerman\" \n",
    "dataset = pd.read_csv(PATH / \"wmt14_translate_de-en_validation.csv\")"
   ]
  },
  {
   "cell_type": "code",
   "execution_count": 170,
   "metadata": {},
   "outputs": [],
   "source": [
    "BPE_PATH = Path(\"../\")  / \"papers\" / \"attention_is_all_you_need\" / \"BPE\" \n",
    "with open(BPE_PATH / \"vocab_merges_2500.pkl\", \"rb\") as f:\n",
    "    vocab = pickle.load(f)"
   ]
  },
  {
   "cell_type": "code",
   "execution_count": 171,
   "metadata": {},
   "outputs": [
    {
     "ename": "KeyboardInterrupt",
     "evalue": "",
     "output_type": "error",
     "traceback": [
      "\u001b[0;31m---------------------------------------------------------------------------\u001b[0m",
      "\u001b[0;31mKeyboardInterrupt\u001b[0m                         Traceback (most recent call last)",
      "Cell \u001b[0;32mIn[171], line 2\u001b[0m\n\u001b[1;32m      1\u001b[0m bpe_encoder \u001b[38;5;241m=\u001b[39m BPEEncoder(vocab\u001b[38;5;241m=\u001b[39mvocab)\n\u001b[0;32m----> 2\u001b[0m english_encoded \u001b[38;5;241m=\u001b[39m \u001b[43mbpe_encoder\u001b[49m\u001b[38;5;241;43m.\u001b[39;49m\u001b[43mencode\u001b[49m\u001b[43m(\u001b[49m\u001b[43mdataset\u001b[49m\u001b[38;5;241;43m.\u001b[39;49m\u001b[43miloc\u001b[49m\u001b[43m[\u001b[49m\u001b[43m:\u001b[49m\u001b[43m,\u001b[49m\u001b[43m \u001b[49m\u001b[38;5;241;43m1\u001b[39;49m\u001b[43m]\u001b[49m\u001b[43m)\u001b[49m\n\u001b[1;32m      3\u001b[0m german_encoded \u001b[38;5;241m=\u001b[39m bpe_encoder\u001b[38;5;241m.\u001b[39mencode(dataset\u001b[38;5;241m.\u001b[39miloc[:, \u001b[38;5;241m0\u001b[39m])\n",
      "File \u001b[0;32m~/Documents/Documents - Utkarsh’s MacBook Air/AI grind/dl_from_scratch/dl-from-scratch/papers/Attention Is All You Need/BPE/bpe.py:47\u001b[0m, in \u001b[0;36mBPEEncoder.encode\u001b[0;34m(self, text)\u001b[0m\n\u001b[1;32m     45\u001b[0m utf8_encoding \u001b[38;5;241m=\u001b[39m _encode_utf8(text)\n\u001b[1;32m     46\u001b[0m \u001b[38;5;28;01mwhile\u001b[39;00m \u001b[38;5;28;01mTrue\u001b[39;00m:\n\u001b[0;32m---> 47\u001b[0m     stats \u001b[38;5;241m=\u001b[39m \u001b[43m_sum_bigrams\u001b[49m\u001b[43m(\u001b[49m\u001b[43mutf8_encoding\u001b[49m\u001b[43m)\u001b[49m\n\u001b[1;32m     48\u001b[0m     pair \u001b[38;5;241m=\u001b[39m \u001b[38;5;28mmin\u001b[39m(stats, key \u001b[38;5;241m=\u001b[39m \u001b[38;5;28;01mlambda\u001b[39;00m p: \u001b[38;5;28mself\u001b[39m\u001b[38;5;241m.\u001b[39mvocab\u001b[38;5;241m.\u001b[39mget(p, \u001b[38;5;28mfloat\u001b[39m(\u001b[38;5;124m\"\u001b[39m\u001b[38;5;124minf\u001b[39m\u001b[38;5;124m\"\u001b[39m)))\n\u001b[1;32m     49\u001b[0m     \u001b[38;5;28;01mif\u001b[39;00m pair \u001b[38;5;129;01mnot\u001b[39;00m \u001b[38;5;129;01min\u001b[39;00m \u001b[38;5;28mself\u001b[39m\u001b[38;5;241m.\u001b[39mvocab:\n",
      "File \u001b[0;32m~/Documents/Documents - Utkarsh’s MacBook Air/AI grind/dl_from_scratch/dl-from-scratch/papers/Attention Is All You Need/BPE/utils.py:36\u001b[0m, in \u001b[0;36m_sum_bigrams\u001b[0;34m(sentences)\u001b[0m\n\u001b[1;32m     32\u001b[0m \u001b[38;5;250m\u001b[39m\u001b[38;5;124;03m\"\"\"\u001b[39;00m\n\u001b[1;32m     33\u001b[0m \u001b[38;5;124;03mSums the bi-grams for all sentences.\u001b[39;00m\n\u001b[1;32m     34\u001b[0m \u001b[38;5;124;03m\"\"\"\u001b[39;00m\n\u001b[1;32m     35\u001b[0m pair_counts \u001b[38;5;241m=\u001b[39m [_get_bigrams(sentence) \u001b[38;5;28;01mfor\u001b[39;00m sentence \u001b[38;5;129;01min\u001b[39;00m sentences]\n\u001b[0;32m---> 36\u001b[0m \u001b[38;5;28;01mreturn\u001b[39;00m \u001b[43m_sum_dicts\u001b[49m\u001b[43m(\u001b[49m\u001b[43mpair_counts\u001b[49m\u001b[43m)\u001b[49m\n",
      "File \u001b[0;32m~/Documents/Documents - Utkarsh’s MacBook Air/AI grind/dl_from_scratch/dl-from-scratch/papers/Attention Is All You Need/BPE/utils.py:29\u001b[0m, in \u001b[0;36m_sum_dicts\u001b[0;34m(dicts)\u001b[0m\n\u001b[1;32m     27\u001b[0m         accumulator[key] \u001b[38;5;241m=\u001b[39m accumulator\u001b[38;5;241m.\u001b[39mget(key, \u001b[38;5;241m0\u001b[39m) \u001b[38;5;241m+\u001b[39m value\n\u001b[1;32m     28\u001b[0m     \u001b[38;5;28;01mreturn\u001b[39;00m accumulator\n\u001b[0;32m---> 29\u001b[0m \u001b[38;5;28;01mreturn\u001b[39;00m \u001b[43mreduce\u001b[49m\u001b[43m(\u001b[49m\u001b[43mreducer\u001b[49m\u001b[43m,\u001b[49m\u001b[43m \u001b[49m\u001b[43mdicts\u001b[49m\u001b[43m,\u001b[49m\u001b[43m \u001b[49m\u001b[43m{\u001b[49m\u001b[43m}\u001b[49m\u001b[43m)\u001b[49m\n",
      "File \u001b[0;32m~/Documents/Documents - Utkarsh’s MacBook Air/AI grind/dl_from_scratch/dl-from-scratch/papers/Attention Is All You Need/BPE/utils.py:27\u001b[0m, in \u001b[0;36m_sum_dicts.<locals>.reducer\u001b[0;34m(accumulator, element)\u001b[0m\n\u001b[1;32m     25\u001b[0m \u001b[38;5;28;01mdef\u001b[39;00m \u001b[38;5;21mreducer\u001b[39m(accumulator, element):\n\u001b[1;32m     26\u001b[0m     \u001b[38;5;28;01mfor\u001b[39;00m key, value \u001b[38;5;129;01min\u001b[39;00m element\u001b[38;5;241m.\u001b[39mitems():\n\u001b[0;32m---> 27\u001b[0m         accumulator[key] \u001b[38;5;241m=\u001b[39m \u001b[43maccumulator\u001b[49m\u001b[38;5;241;43m.\u001b[39;49m\u001b[43mget\u001b[49m\u001b[43m(\u001b[49m\u001b[43mkey\u001b[49m\u001b[43m,\u001b[49m\u001b[43m \u001b[49m\u001b[38;5;241;43m0\u001b[39;49m\u001b[43m)\u001b[49m \u001b[38;5;241m+\u001b[39m value\n\u001b[1;32m     28\u001b[0m     \u001b[38;5;28;01mreturn\u001b[39;00m accumulator\n",
      "\u001b[0;31mKeyboardInterrupt\u001b[0m: "
     ]
    }
   ],
   "source": [
    "bpe_encoder = BPEEncoder(vocab=vocab)\n",
    "english_encoded = bpe_encoder.encode(dataset.iloc[:, 1])\n",
    "german_encoded = bpe_encoder.encode(dataset.iloc[:, 0])"
   ]
  },
  {
   "cell_type": "markdown",
   "metadata": {},
   "source": [
    "## Preparing the Data"
   ]
  },
  {
   "cell_type": "code",
   "execution_count": 16,
   "metadata": {},
   "outputs": [],
   "source": [
    "max_vocab_size = max(vocab.values())\n",
    "special_tokens = {max_vocab_size + 1 : \"<SOS>\",  max_vocab_size + 2 : \"<EOS>\", max_vocab_size + 3 : \"<pad>\"}\n",
    "bpe_decoder = BPEDecoder(vocab=vocab, special_tokens=special_tokens)"
   ]
  },
  {
   "cell_type": "code",
   "execution_count": 17,
   "metadata": {},
   "outputs": [],
   "source": [
    "class LanguageTranslationDataset(Dataset):\n",
    "    def __init__(self, seq_length, src_encodings, tgt_encodings, sos_token, eos_token, pad_token):\n",
    "        super().__init__()\n",
    "        self.paired_encodings = LanguageTranslationDataset.augment_encodings(src_encodings, tgt_encodings, sos_token, eos_token)\n",
    "        self.seq_len = seq_length\n",
    "        self.pad_token = pad_token\n",
    "\n",
    "    @staticmethod\n",
    "    def augment_encodings(src_encodings, tgt_encodings, sos_token, eos_token):\n",
    "        src_encodings = [[sos_token] + sublist + [eos_token] for sublist in src_encodings]\n",
    "        tgt_encodings = [[sos_token] + sublist for sublist in tgt_encodings]\n",
    "        output_encodings = [sublist + [eos_token] for sublist in tgt_encodings] \n",
    "        full_encoding = list(zip(src_encodings, tgt_encodings, output_encodings))\n",
    "        full_encoding.sort(key=lambda x: len(x[0])) # sort sequence lengths\n",
    "        return full_encoding\n",
    "\n",
    "\n",
    "    def __getitem__(self, idx):\n",
    "        src_seq, tgt_seq, output_seq = self.paired_encodings[idx]\n",
    "        src_tensor = torch.tensor(src_seq, dtype=torch.long)\n",
    "        tgt_tensor = torch.tensor(tgt_seq, dtype=torch.long)\n",
    "        output_tensor = torch.tensor(output_seq, dtype=torch.long)\n",
    "\n",
    "        src_tensor = F.pad(src_tensor, (0, self.seq_len - src_tensor.size(0)), value=self.pad_token)\n",
    "        tgt_tensor = F.pad(tgt_tensor, (0, self.seq_len - tgt_tensor.size(0)), value=self.pad_token)\n",
    "        output_tensor = F.pad(output_tensor, (0, self.seq_len - output_tensor.size(0)), value=self.pad_token)\n",
    "        encoder_mask = (src_tensor != self.pad_token).int()\n",
    "\n",
    "        subsequent_mask = torch.tril(torch.ones((self.seq_len, self.seq_len), dtype=torch.int))\n",
    "        padding_mask = (tgt_tensor != self.pad_token).int()\n",
    "        decoder_mask = subsequent_mask & padding_mask.unsqueeze(0)\n",
    "\n",
    "        \n",
    "\n",
    "        return {\n",
    "            \"src\": src_tensor, # Seq_len\n",
    "            \"tgt\": tgt_tensor, # seq_len\n",
    "            \"output\": output_tensor, # seq_len\n",
    "            \"encoder_mask\" : encoder_mask.unsqueeze(0).unsqueeze(0), # 1 x 1 x seq_len\n",
    "            \"decoder_mask\" : decoder_mask.unsqueeze(0), # 1 x seq_len x seq_len\n",
    "        }\n",
    "\n",
    "    def __len__(self): \n",
    "        return len(self.paired_encodings)"
   ]
  },
  {
   "cell_type": "code",
   "execution_count": 18,
   "metadata": {},
   "outputs": [
    {
     "ename": "NameError",
     "evalue": "name 'english_encoded' is not defined",
     "output_type": "error",
     "traceback": [
      "\u001b[0;31m---------------------------------------------------------------------------\u001b[0m",
      "\u001b[0;31mNameError\u001b[0m                                 Traceback (most recent call last)",
      "Cell \u001b[0;32mIn[18], line 1\u001b[0m\n\u001b[0;32m----> 1\u001b[0m full_data \u001b[38;5;241m=\u001b[39m LanguageTranslationDataset(seq_length\u001b[38;5;241m=\u001b[39mconfig[\u001b[38;5;124m'\u001b[39m\u001b[38;5;124mSEQ_LEN\u001b[39m\u001b[38;5;124m'\u001b[39m], src_encodings\u001b[38;5;241m=\u001b[39m\u001b[43menglish_encoded\u001b[49m, tgt_encodings\u001b[38;5;241m=\u001b[39mgerman_encoded, sos_token\u001b[38;5;241m=\u001b[39mmax_vocab_size \u001b[38;5;241m+\u001b[39m \u001b[38;5;241m1\u001b[39m, eos_token\u001b[38;5;241m=\u001b[39mmax_vocab_size \u001b[38;5;241m+\u001b[39m \u001b[38;5;241m2\u001b[39m,\n\u001b[1;32m      2\u001b[0m                                         pad_token\u001b[38;5;241m=\u001b[39mmax_vocab_size \u001b[38;5;241m+\u001b[39m \u001b[38;5;241m3\u001b[39m)\n\u001b[1;32m      4\u001b[0m train_data, test_data \u001b[38;5;241m=\u001b[39m random_split(full_data, [config[\u001b[38;5;124m'\u001b[39m\u001b[38;5;124mTRAIN_RATIO\u001b[39m\u001b[38;5;124m'\u001b[39m], \u001b[38;5;241m1\u001b[39m\u001b[38;5;241m-\u001b[39mconfig[\u001b[38;5;124m'\u001b[39m\u001b[38;5;124mTRAIN_RATIO\u001b[39m\u001b[38;5;124m'\u001b[39m]])\n",
      "\u001b[0;31mNameError\u001b[0m: name 'english_encoded' is not defined"
     ]
    }
   ],
   "source": [
    "full_data = LanguageTranslationDataset(seq_length=config['SEQ_LEN'], src_encodings=english_encoded, tgt_encodings=german_encoded, sos_token=max_vocab_size + 1, eos_token=max_vocab_size + 2,\n",
    "                                        pad_token=max_vocab_size + 3)\n",
    "\n",
    "train_data, test_data = random_split(full_data, [config['TRAIN_RATIO'], 1-config['TRAIN_RATIO']])"
   ]
  },
  {
   "cell_type": "code",
   "execution_count": 12,
   "metadata": {},
   "outputs": [],
   "source": [
    "train_dataloader = DataLoader(train_data, batch_size=config['BATCH_SIZE'], shuffle=True, pin_memory=True)\n",
    "test_dataloader = DataLoader(test_data, batch_size=config['BATCH_SIZE'], shuffle=True, pin_memory=True)"
   ]
  },
  {
   "cell_type": "markdown",
   "metadata": {},
   "source": [
    "## Model Creation"
   ]
  },
  {
   "cell_type": "code",
   "execution_count": 8,
   "metadata": {},
   "outputs": [],
   "source": [
    "from TransformerComponents.Encoder import Encoder\n",
    "from TransformerComponents.Decoder import Decoder\n",
    "from TransformerComponents.PE import PositionalEmbedding\n",
    "from TransformerComponents.Transformer import Transformer\n",
    "from TransformerComponents.UtilsLayers import Projection"
   ]
  },
  {
   "cell_type": "code",
   "execution_count": 9,
   "metadata": {},
   "outputs": [],
   "source": [
    "# vocab_size = len(vocab) + 256 + 3 # 3 special tokens\n",
    "vocab_size = 8000"
   ]
  },
  {
   "cell_type": "code",
   "execution_count": 10,
   "metadata": {},
   "outputs": [],
   "source": [
    "encoder_transformer = Encoder(config['N_ENCODERS'], config['N_HEADS'], config['D_MODEL'], config['D_MODEL'] // config['N_HEADS'], config['D_MODEL'] // config['N_HEADS'], config['FF_HIDDEN'], config['DROPOUT'])\n",
    "decoder_transformer = Decoder(config['N_DECODERS'], config['N_HEADS'], config['D_MODEL'], config['D_MODEL'] // config['N_HEADS'], config['D_MODEL'] // config['N_HEADS'], config['FF_HIDDEN'], config['DROPOUT'])\n",
    "src_embeddings = PositionalEmbedding(vocab_size, config['D_MODEL'], config['SEQ_LEN'], config['DROPOUT'])\n",
    "tgt_embeddings = PositionalEmbedding(vocab_size, config['D_MODEL'], config['SEQ_LEN'], config['DROPOUT'])\n",
    "projection = Projection(config['D_MODEL'], vocab_size)"
   ]
  },
  {
   "cell_type": "code",
   "execution_count": 11,
   "metadata": {},
   "outputs": [],
   "source": [
    "device = torch.device(\"cuda\" if torch.cuda.is_available() else \"cpu\")\n",
    "model = Transformer(encoder_transformer, decoder_transformer, src_embeddings, tgt_embeddings, projection).to(device)"
   ]
  },
  {
   "cell_type": "code",
   "execution_count": 12,
   "metadata": {},
   "outputs": [],
   "source": [
    "model.initialise()"
   ]
  },
  {
   "cell_type": "markdown",
   "metadata": {},
   "source": [
    "## Model Training"
   ]
  },
  {
   "cell_type": "code",
   "execution_count": 18,
   "metadata": {},
   "outputs": [],
   "source": [
    "def model_prediction(model, batch, max_len, device, sos_token, eos_token, pad_token):\n",
    "    encoder_input = batch['src'].to(device) # B x seq_len\n",
    "    encoder_mask = batch['encoder_mask'].to(device) # B  x 1 x 1 x seq_len\n",
    "    encoder_output = model.encode(encoder_input, encoder_mask)\n",
    "    B = encoder_input.size(0)\n",
    "    decoder_input = torch.full((B, max_len), pad_token).to(device)\n",
    "    decoder_input[: , 0] = sos_token\n",
    "    finished = torch.zeros(B, dtype=torch.bool, device=device)\n",
    "\n",
    "    for t in range(max_len - 1):\n",
    "        subsequent_mask = torch.tril(torch.ones((max_len, max_len), dtype=torch.int)).expand(B, -1, -1) # shape: (B, max_len, max_len)\n",
    "        other_mask =(decoder_input != pad_token).int().unsqueeze(1) # (B, 1, max_len)\n",
    "        out = model.decode(decoder_input, encoder_output, encoder_mask, (subsequent_mask & other_mask).unsqueeze(1).to(device))\n",
    "        prediction = model.proj(out) # Expected shape: (B, max_len, vocab_size)\n",
    "        next_tokens = torch.argmax(prediction[:, t, :], dim=-1) # shape: (B, )\n",
    "        next_tokens = torch.where(finished, pad_token, next_tokens)\n",
    "\n",
    "        decoder_input[:, t + 1] = next_tokens\n",
    "        finished |= (next_tokens == eos_token)\n",
    "\n",
    "        if finished.all():\n",
    "          break\n",
    "\n",
    "    return decoder_input"
   ]
  },
  {
   "cell_type": "code",
   "execution_count": 19,
   "metadata": {},
   "outputs": [],
   "source": [
    "writer = SummaryWriter('../papers/attention_is_all_you_need/Tensorboard/experiment_1')"
   ]
  },
  {
   "cell_type": "code",
   "execution_count": 22,
   "metadata": {},
   "outputs": [],
   "source": [
    "class WarmupAdamOpt:\n",
    "    \"Optim wrapper that implements rate.\"\n",
    "    def __init__(self, model_size, warmup, optimiser):\n",
    "        self.optimiser = optimiser\n",
    "        self._step = 0\n",
    "        self.warmup = warmup\n",
    "        self.model_size = model_size\n",
    "        self._rate = 0\n",
    "    \n",
    "    def state_dict(self):\n",
    "        return {key: value for key, value in self.__dict__.items() if key != 'optimiser'}\n",
    "    \n",
    "    def load_state_dict(self, state_dict):\n",
    "        self.__dict__.update(state_dict) \n",
    "        \n",
    "    def step(self):\n",
    "        self._step += 1\n",
    "        rate = self.rate()\n",
    "        for p in self.optimiser.param_groups:\n",
    "            p['lr'] = rate\n",
    "        self._rate = rate\n",
    "        self.optimiser.step()\n",
    "        \n",
    "    def rate(self, step = None):\n",
    "        if step is None:\n",
    "            step = self._step\n",
    "        return (self.model_size ** (-0.5) *\n",
    "            min(step ** (-0.5), step * self.warmup ** (-1.5))) "
   ]
  },
  {
   "cell_type": "code",
   "execution_count": 33,
   "metadata": {},
   "outputs": [
    {
     "name": "stderr",
     "output_type": "stream",
     "text": [
      "Training epoch: 00:   5%|▌         | 2/38 [00:52<15:51, 26.43s/it, loss=7.820]\n"
     ]
    },
    {
     "ename": "KeyboardInterrupt",
     "evalue": "",
     "output_type": "error",
     "traceback": [
      "\u001b[0;31m---------------------------------------------------------------------------\u001b[0m",
      "\u001b[0;31mKeyboardInterrupt\u001b[0m                         Traceback (most recent call last)",
      "Cell \u001b[0;32mIn[33], line 31\u001b[0m\n\u001b[1;32m     27\u001b[0m writer\u001b[38;5;241m.\u001b[39mflush()\n\u001b[1;32m     30\u001b[0m optimiser\u001b[38;5;241m.\u001b[39moptimiser\u001b[38;5;241m.\u001b[39mzero_grad()\n\u001b[0;32m---> 31\u001b[0m \u001b[43mloss\u001b[49m\u001b[38;5;241;43m.\u001b[39;49m\u001b[43mbackward\u001b[49m\u001b[43m(\u001b[49m\u001b[43m)\u001b[49m\n\u001b[1;32m     32\u001b[0m optimiser\u001b[38;5;241m.\u001b[39mstep()\n\u001b[1;32m     33\u001b[0m global_step_train \u001b[38;5;241m+\u001b[39m\u001b[38;5;241m=\u001b[39m \u001b[38;5;241m1\u001b[39m\n",
      "File \u001b[0;32m/opt/anaconda3/envs/dl_scratch/lib/python3.10/site-packages/torch/_tensor.py:626\u001b[0m, in \u001b[0;36mTensor.backward\u001b[0;34m(self, gradient, retain_graph, create_graph, inputs)\u001b[0m\n\u001b[1;32m    616\u001b[0m \u001b[38;5;28;01mif\u001b[39;00m has_torch_function_unary(\u001b[38;5;28mself\u001b[39m):\n\u001b[1;32m    617\u001b[0m     \u001b[38;5;28;01mreturn\u001b[39;00m handle_torch_function(\n\u001b[1;32m    618\u001b[0m         Tensor\u001b[38;5;241m.\u001b[39mbackward,\n\u001b[1;32m    619\u001b[0m         (\u001b[38;5;28mself\u001b[39m,),\n\u001b[0;32m   (...)\u001b[0m\n\u001b[1;32m    624\u001b[0m         inputs\u001b[38;5;241m=\u001b[39minputs,\n\u001b[1;32m    625\u001b[0m     )\n\u001b[0;32m--> 626\u001b[0m \u001b[43mtorch\u001b[49m\u001b[38;5;241;43m.\u001b[39;49m\u001b[43mautograd\u001b[49m\u001b[38;5;241;43m.\u001b[39;49m\u001b[43mbackward\u001b[49m\u001b[43m(\u001b[49m\n\u001b[1;32m    627\u001b[0m \u001b[43m    \u001b[49m\u001b[38;5;28;43mself\u001b[39;49m\u001b[43m,\u001b[49m\u001b[43m \u001b[49m\u001b[43mgradient\u001b[49m\u001b[43m,\u001b[49m\u001b[43m \u001b[49m\u001b[43mretain_graph\u001b[49m\u001b[43m,\u001b[49m\u001b[43m \u001b[49m\u001b[43mcreate_graph\u001b[49m\u001b[43m,\u001b[49m\u001b[43m \u001b[49m\u001b[43minputs\u001b[49m\u001b[38;5;241;43m=\u001b[39;49m\u001b[43minputs\u001b[49m\n\u001b[1;32m    628\u001b[0m \u001b[43m\u001b[49m\u001b[43m)\u001b[49m\n",
      "File \u001b[0;32m/opt/anaconda3/envs/dl_scratch/lib/python3.10/site-packages/torch/autograd/__init__.py:347\u001b[0m, in \u001b[0;36mbackward\u001b[0;34m(tensors, grad_tensors, retain_graph, create_graph, grad_variables, inputs)\u001b[0m\n\u001b[1;32m    342\u001b[0m     retain_graph \u001b[38;5;241m=\u001b[39m create_graph\n\u001b[1;32m    344\u001b[0m \u001b[38;5;66;03m# The reason we repeat the same comment below is that\u001b[39;00m\n\u001b[1;32m    345\u001b[0m \u001b[38;5;66;03m# some Python versions print out the first line of a multi-line function\u001b[39;00m\n\u001b[1;32m    346\u001b[0m \u001b[38;5;66;03m# calls in the traceback and some print out the last line\u001b[39;00m\n\u001b[0;32m--> 347\u001b[0m \u001b[43m_engine_run_backward\u001b[49m\u001b[43m(\u001b[49m\n\u001b[1;32m    348\u001b[0m \u001b[43m    \u001b[49m\u001b[43mtensors\u001b[49m\u001b[43m,\u001b[49m\n\u001b[1;32m    349\u001b[0m \u001b[43m    \u001b[49m\u001b[43mgrad_tensors_\u001b[49m\u001b[43m,\u001b[49m\n\u001b[1;32m    350\u001b[0m \u001b[43m    \u001b[49m\u001b[43mretain_graph\u001b[49m\u001b[43m,\u001b[49m\n\u001b[1;32m    351\u001b[0m \u001b[43m    \u001b[49m\u001b[43mcreate_graph\u001b[49m\u001b[43m,\u001b[49m\n\u001b[1;32m    352\u001b[0m \u001b[43m    \u001b[49m\u001b[43minputs\u001b[49m\u001b[43m,\u001b[49m\n\u001b[1;32m    353\u001b[0m \u001b[43m    \u001b[49m\u001b[43mallow_unreachable\u001b[49m\u001b[38;5;241;43m=\u001b[39;49m\u001b[38;5;28;43;01mTrue\u001b[39;49;00m\u001b[43m,\u001b[49m\n\u001b[1;32m    354\u001b[0m \u001b[43m    \u001b[49m\u001b[43maccumulate_grad\u001b[49m\u001b[38;5;241;43m=\u001b[39;49m\u001b[38;5;28;43;01mTrue\u001b[39;49;00m\u001b[43m,\u001b[49m\n\u001b[1;32m    355\u001b[0m \u001b[43m\u001b[49m\u001b[43m)\u001b[49m\n",
      "File \u001b[0;32m/opt/anaconda3/envs/dl_scratch/lib/python3.10/site-packages/torch/autograd/graph.py:823\u001b[0m, in \u001b[0;36m_engine_run_backward\u001b[0;34m(t_outputs, *args, **kwargs)\u001b[0m\n\u001b[1;32m    821\u001b[0m     unregister_hooks \u001b[38;5;241m=\u001b[39m _register_logging_hooks_on_whole_graph(t_outputs)\n\u001b[1;32m    822\u001b[0m \u001b[38;5;28;01mtry\u001b[39;00m:\n\u001b[0;32m--> 823\u001b[0m     \u001b[38;5;28;01mreturn\u001b[39;00m \u001b[43mVariable\u001b[49m\u001b[38;5;241;43m.\u001b[39;49m\u001b[43m_execution_engine\u001b[49m\u001b[38;5;241;43m.\u001b[39;49m\u001b[43mrun_backward\u001b[49m\u001b[43m(\u001b[49m\u001b[43m  \u001b[49m\u001b[38;5;66;43;03m# Calls into the C++ engine to run the backward pass\u001b[39;49;00m\n\u001b[1;32m    824\u001b[0m \u001b[43m        \u001b[49m\u001b[43mt_outputs\u001b[49m\u001b[43m,\u001b[49m\u001b[43m \u001b[49m\u001b[38;5;241;43m*\u001b[39;49m\u001b[43margs\u001b[49m\u001b[43m,\u001b[49m\u001b[43m \u001b[49m\u001b[38;5;241;43m*\u001b[39;49m\u001b[38;5;241;43m*\u001b[39;49m\u001b[43mkwargs\u001b[49m\n\u001b[1;32m    825\u001b[0m \u001b[43m    \u001b[49m\u001b[43m)\u001b[49m  \u001b[38;5;66;03m# Calls into the C++ engine to run the backward pass\u001b[39;00m\n\u001b[1;32m    826\u001b[0m \u001b[38;5;28;01mfinally\u001b[39;00m:\n\u001b[1;32m    827\u001b[0m     \u001b[38;5;28;01mif\u001b[39;00m attach_logging_hooks:\n",
      "\u001b[0;31mKeyboardInterrupt\u001b[0m: "
     ]
    }
   ],
   "source": [
    "num_examples = 10\n",
    "optimiser = WarmupAdamOpt(config['D_MODEL'], 500,\n",
    "            torch.optim.Adam(model.parameters(), lr=0, betas=(0.9, 0.98), eps=1e-9))\n",
    "# optimiser = torch.optim.Adam(model.parameters(), lr=config['LR'], eps=1e-9)\n",
    "loss_fn = torch.nn.CrossEntropyLoss(ignore_index=max_vocab_size + 3, label_smoothing=0.1).to(device)\n",
    "\n",
    "global_step_train = 0\n",
    "global_step_test = 0\n",
    "losses = []\n",
    "test_losses = []\n",
    "for epoch in range(config['NUM_EPOCHS']):\n",
    "    model.train()\n",
    "    batch_train = tqdm(train_dataloader, desc=f\"Training epoch: {epoch:02d}\")\n",
    "    batch_loss = 0\n",
    "    for data in batch_train:\n",
    "        target_indices = data['output'].to(device) # B x seq_len\n",
    "\n",
    "        encoder_input = data['src'].to(device) # B x seq_len\n",
    "        tgt_input = data['tgt'].to(device) # B x seq_len\n",
    "        encoder_mask = data['encoder_mask'].to(device) # B x 1 x 1 x seq_len\n",
    "        decoder_mask = data['decoder_mask'].to(device) # B x 1 x seq_len x seq_len\n",
    "        logits = model(encoder_input,  tgt_input, encoder_mask=encoder_mask, decoder_mask=decoder_mask)\n",
    "        loss = loss_fn(logits.view(-1, vocab_size), target_indices.view(-1))\n",
    "        batch_train.set_postfix({\"loss\": f\"{loss.item(): 6.3f}\"})\n",
    "        batch_loss += loss.item()\n",
    "        writer.add_scalar(\"train_loss\", loss.item(), global_step_train)\n",
    "        writer.flush()\n",
    "\n",
    "        \n",
    "        optimiser.optimiser.zero_grad()\n",
    "        loss.backward()\n",
    "        optimiser.step()\n",
    "        global_step_train += 1\n",
    "\n",
    "    writer.add_scalar(\"batch_train_loss\", batch_loss / len(batch_train), global_step_train // len(batch_train))\n",
    "    writer.flush()\n",
    "\n",
    "\n",
    "    model.eval()\n",
    "    val_loss = 0\n",
    "    batch_test = tqdm(test_dataloader, desc=f\"Test epoch: {epoch:02d}\")\n",
    "    sample_taken = False\n",
    "    for idx, data in enumerate(batch_test):\n",
    "        with torch.no_grad():\n",
    "            target_indices = data['output'].to(device)\n",
    "\n",
    "            if not sample_taken:\n",
    "                pred = model_prediction(model, data, config['SEQ_LEN'], device, max_vocab_size + 1, max_vocab_size + 2, max_vocab_size + 3)\n",
    "                ints = torch.randint(low=0, high=pred.size(0), size=(num_examples,))\n",
    "                pred = pred[ints, :]\n",
    "                decoded = [decoded.replace(\"<pad>\", \"\") for decoded in bpe_decoder.decode(pred.detach().cpu().tolist())]\n",
    "                actual_decoded = [decoded.replace(\"<pad>\", \"\") for decoded in bpe_decoder.decode(target_indices[ints, :].detach().cpu().tolist())]\n",
    "                \n",
    "                comparison_text = f\"| Predicted | Actual |\\n|-----------|--------|\\n|\"\n",
    "                for j in range(len(decoded)):\n",
    "                    comparison_text +=  f\"{decoded[j]} | {actual_decoded[j]} | \\n |\"\n",
    "                writer.add_text(\"Translation Comparison\", comparison_text, global_step_test)\n",
    "                writer.flush()\n",
    "                global_step_test += 1\n",
    "                sample_taken = True\n",
    "\n",
    "            encoder_input = data['src'].to(device) # B x seq_len\n",
    "            tgt_input = data['tgt'].to(device) # B x seq_len\n",
    "            encoder_mask = data['encoder_mask'].to(device) # B x 1 x 1 x seq_len\n",
    "            decoder_mask = data['decoder_mask'].to(device) # B x 1 x seq_len x seq_len\n",
    "            logits = model(encoder_input,  tgt_input, encoder_mask=encoder_mask, decoder_mask=decoder_mask)\n",
    "            loss = loss_fn(logits.view(-1, vocab_size), target_indices.view(-1))\n",
    "            val_loss += loss.item()\n",
    "\n",
    "    writer.add_scalar(\"val_loss\", val_loss / len(batch_test), epoch)\n",
    "    writer.flush()\n",
    "\n",
    "    if epoch % 10 == 0:\n",
    "      model_filename = f\"../papers/attention_is_all_you_need/Models/model_{epoch}\"\n",
    "      torch.save({\n",
    "          'epoch' : epoch,\n",
    "          \"model_state_dict\" : model.state_dict(),\n",
    "          \"optimiser_state_dic\" : optimiser.state_dict(),\n",
    "          \"global_step\": global_step_train, \n",
    "          \"global_step_test\" : global_step_test\n",
    "          }, model_filename)"
   ]
  },
  {
   "cell_type": "markdown",
   "metadata": {},
   "source": [
    "## Analysing HPC Data"
   ]
  },
  {
   "cell_type": "code",
   "execution_count": 103,
   "metadata": {},
   "outputs": [],
   "source": [
    "base_path = Path(\"../papers/attention_is_all_you_need/experiments\")\n",
    "exp_2 = \"drop_warm\"\n",
    "exp_3 = \"hindi_drop_warm_smoothen\"\n",
    "exp_1 = \"no_drop_no_warm\""
   ]
  },
  {
   "cell_type": "code",
   "execution_count": 106,
   "metadata": {},
   "outputs": [],
   "source": [
    "train_losses = {}\n",
    "test_losses = {}\n",
    "sentences = {}\n",
    "\n",
    "for exp in [exp_3]:\n",
    "    with open(base_path / f\"{exp}_sentences.pkl\", \"rb\") as f:\n",
    "        sentences[exp] = pickle.load(f)\n",
    "\n",
    "    with open(base_path / f\"{exp}_train_loss.pkl\", \"rb\") as f:\n",
    "        train_losses[exp] = pickle.load(f)\n",
    "\n",
    "    with open(base_path / f\"{exp}_test_loss.pkl\", \"rb\") as f:\n",
    "        test_losses[exp] = pickle.load(f)"
   ]
  },
  {
   "cell_type": "code",
   "execution_count": 108,
   "metadata": {},
   "outputs": [
    {
     "data": {
      "image/png": "[encoded data removed]",
      "text/plain": [
       "<Figure size 1400x600 with 2 Axes>"
      ]
     },
     "metadata": {},
     "output_type": "display_data"
    }
   ],
   "source": [
    "import matplotlib.pyplot as plt\n",
    "\n",
    "fig, axes = plt.subplots(1, 2, figsize=(14, 6))\n",
    "\n",
    "# Plot training losses\n",
    "for exp_name, losses in train_losses.items():\n",
    "    axes[0].plot(losses, label=exp_name)\n",
    "axes[0].set_title(\"Training Loss Across Experiments\")\n",
    "axes[0].set_xlabel(\"Epochs\")\n",
    "axes[0].set_ylabel(\"Training Loss\")\n",
    "axes[0].legend()\n",
    "# axes[0].set_yscale(\"log\")\n",
    "axes[0].grid(True)\n",
    "\n",
    "# Plot test losses\n",
    "for exp_name, losses in test_losses.items():\n",
    "    axes[1].plot(losses, label=exp_name)\n",
    "axes[1].set_title(\"Test Loss Across Experiments\")\n",
    "axes[1].set_xlabel(\"Epochs\")\n",
    "axes[1].set_ylabel(\"Test Loss\")\n",
    "axes[1].legend()\n",
    "# axes[1].set_yscale(\"log\")\n",
    "axes[1].grid(True)\n",
    "\n",
    "# Show the plots"
   ]
  },
  {
   "cell_type": "code",
   "execution_count": 137,
   "metadata": {},
   "outputs": [],
   "source": [
    "def get_concatenated(files):\n",
    "    train = [pd.read_csv(file + \"_train_loss.txt\", header=None) for file in files]\n",
    "    test = [pd.read_csv(file + \"_test_loss.txt\", header=None) for file in files]\n",
    "    return pd.concat(train, ignore_index=True), pd.concat(test, ignore_index=True)"
   ]
  },
  {
   "cell_type": "code",
   "execution_count": 138,
   "metadata": {},
   "outputs": [],
   "source": [
    "train_total, test_total = get_concatenated([\"../papers/attention_is_all_you_need/experiments/multi_hindi_drop_warm_smoothen_small_2\", \n",
    "                  \"../papers/attention_is_all_you_need/experiments/multi_hindi_drop_warm_smoothen_small_2_continued_0\",\n",
    "                  \"../papers/attention_is_all_you_need/experiments/multi_hindi_drop_warm_smoothen_small_2_continued_2\"])\n"
   ]
  },
  {
   "cell_type": "code",
   "execution_count": 195,
   "metadata": {},
   "outputs": [],
   "source": [
    "train_total, test_total = get_concatenated([\"../papers/attention_is_all_you_need/experiments/multi_hindi_s\", \n",
    "                  \"../papers/attention_is_all_you_need/experiments/multi_hindi_small_2\"])"
   ]
  },
  {
   "cell_type": "code",
   "execution_count": 197,
   "metadata": {},
   "outputs": [
    {
     "data": {
      "text/html": [
       "<div>\n",
       "<style scoped>\n",
       "    .dataframe tbody tr th:only-of-type {\n",
       "        vertical-align: middle;\n",
       "    }\n",
       "\n",
       "    .dataframe tbody tr th {\n",
       "        vertical-align: top;\n",
       "    }\n",
       "\n",
       "    .dataframe thead th {\n",
       "        text-align: right;\n",
       "    }\n",
       "</style>\n",
       "<table border=\"1\" class=\"dataframe\">\n",
       "  <thead>\n",
       "    <tr style=\"text-align: right;\">\n",
       "      <th></th>\n",
       "      <th>0</th>\n",
       "      <th>1</th>\n",
       "    </tr>\n",
       "  </thead>\n",
       "  <tbody>\n",
       "    <tr>\n",
       "      <th>0</th>\n",
       "      <td>(7.114044513258823</td>\n",
       "      <td>4.945246969232846)</td>\n",
       "    </tr>\n",
       "    <tr>\n",
       "      <th>1</th>\n",
       "      <td>(5.706829388197078</td>\n",
       "      <td>13.623965519296188)</td>\n",
       "    </tr>\n",
       "    <tr>\n",
       "      <th>2</th>\n",
       "      <td>(4.845957502098971</td>\n",
       "      <td>23.319698625609867)</td>\n",
       "    </tr>\n",
       "    <tr>\n",
       "      <th>3</th>\n",
       "      <td>(4.379551090196122</td>\n",
       "      <td>30.366214141250158)</td>\n",
       "    </tr>\n",
       "    <tr>\n",
       "      <th>4</th>\n",
       "      <td>(4.119131488023802</td>\n",
       "      <td>34.56980612817785)</td>\n",
       "    </tr>\n",
       "    <tr>\n",
       "      <th>...</th>\n",
       "      <td>...</td>\n",
       "      <td>...</td>\n",
       "    </tr>\n",
       "    <tr>\n",
       "      <th>135</th>\n",
       "      <td>(3.0211573767107587</td>\n",
       "      <td>52.993911942365266)</td>\n",
       "    </tr>\n",
       "    <tr>\n",
       "      <th>136</th>\n",
       "      <td>(3.0200702373371566</td>\n",
       "      <td>53.01657236625683)</td>\n",
       "    </tr>\n",
       "    <tr>\n",
       "      <th>137</th>\n",
       "      <td>(3.0190791701161586</td>\n",
       "      <td>53.02482056742473)</td>\n",
       "    </tr>\n",
       "    <tr>\n",
       "      <th>138</th>\n",
       "      <td>(3.017767006851906</td>\n",
       "      <td>53.056694835547766)</td>\n",
       "    </tr>\n",
       "    <tr>\n",
       "      <th>139</th>\n",
       "      <td>(3.0165781908257063</td>\n",
       "      <td>53.062528929056775)</td>\n",
       "    </tr>\n",
       "  </tbody>\n",
       "</table>\n",
       "<p>140 rows × 2 columns</p>\n",
       "</div>"
      ],
      "text/plain": [
       "                       0                     1\n",
       "0     (7.114044513258823    4.945246969232846)\n",
       "1     (5.706829388197078   13.623965519296188)\n",
       "2     (4.845957502098971   23.319698625609867)\n",
       "3     (4.379551090196122   30.366214141250158)\n",
       "4     (4.119131488023802    34.56980612817785)\n",
       "..                   ...                   ...\n",
       "135  (3.0211573767107587   52.993911942365266)\n",
       "136  (3.0200702373371566    53.01657236625683)\n",
       "137  (3.0190791701161586    53.02482056742473)\n",
       "138   (3.017767006851906   53.056694835547766)\n",
       "139  (3.0165781908257063   53.062528929056775)\n",
       "\n",
       "[140 rows x 2 columns]"
      ]
     },
     "execution_count": 197,
     "metadata": {},
     "output_type": "execute_result"
    }
   ],
   "source": []
  },
  {
   "cell_type": "code",
   "execution_count": null,
   "metadata": {},
   "outputs": [
    {
     "name": "stderr",
     "output_type": "stream",
     "text": [
      "sentencepiece_trainer.cc(78) LOG(INFO) Starts training with : \n",
      "trainer_spec {\n",
      "  input: ../data/en-hi/hindi_small_train.txt\n",
      "  input: ../data/en-hi/english_small_train.txt\n",
      "  input_format: \n",
      "  model_prefix: en-hi\n",
      "  model_type: BPE\n",
      "  vocab_size: 8000\n",
      "  self_test_sample_size: 0\n",
      "  character_coverage: 0.9995\n",
      "  input_sentence_size: 0\n",
      "  shuffle_input_sentence: 1\n",
      "  seed_sentencepiece_size: 1000000\n",
      "  shrinking_factor: 0.75\n",
      "  max_sentence_length: 4192\n",
      "  num_threads: 16\n",
      "  num_sub_iterations: 2\n",
      "  max_sentencepiece_length: 16\n",
      "  split_by_unicode_script: 1\n",
      "  split_by_number: 1\n",
      "  split_by_whitespace: 1\n",
      "  split_digits: 0\n",
      "  pretokenization_delimiter: \n",
      "  treat_whitespace_as_suffix: 0\n",
      "  allow_whitespace_only_pieces: 0\n",
      "  required_chars: \n",
      "  byte_fallback: 0\n",
      "  vocabulary_output_piece_score: 1\n",
      "  train_extremely_large_corpus: 0\n",
      "  seed_sentencepieces_file: \n",
      "  hard_vocab_limit: 1\n",
      "  use_all_vocab: 0\n",
      "  unk_id: 0\n",
      "  bos_id: 1\n",
      "  eos_id: 2\n",
      "  pad_id: 3\n",
      "  unk_piece: <UNK>\n",
      "  bos_piece: <SOS>\n",
      "  eos_piece: <EOS>\n",
      "  pad_piece: <PAD>\n",
      "  unk_surface:  ⁇ \n",
      "  enable_differential_privacy: 0\n",
      "  differential_privacy_noise_level: 0\n",
      "  differential_privacy_clipping_threshold: 0\n",
      "}\n",
      "normalizer_spec {\n",
      "  name: nmt_nfkc\n",
      "  add_dummy_prefix: 1\n",
      "  remove_extra_whitespaces: 1\n",
      "  escape_whitespaces: 1\n",
      "  normalization_rule_tsv: \n",
      "}\n",
      "denormalizer_spec {}\n",
      "trainer_interface.cc(353) LOG(INFO) SentenceIterator is not specified. Using MultiFileSentenceIterator.\n",
      "trainer_interface.cc(185) LOG(INFO) Loading corpus: ../data/en-hi/hindi_small_train.txt\n",
      "trainer_interface.cc(380) LOG(WARNING) Found too long line (5144 > 4192).\n",
      "trainer_interface.cc(382) LOG(WARNING) Too long lines are skipped in the training.\n",
      "trainer_interface.cc(383) LOG(WARNING) The maximum length can be changed with --max_sentence_length=<size> flag.\n",
      "trainer_interface.cc(185) LOG(INFO) Loading corpus: ../data/en-hi/english_small_train.txt\n",
      "trainer_interface.cc(409) LOG(INFO) Loaded all 999987 sentences\n",
      "trainer_interface.cc(416) LOG(INFO) Skipped 13 too long sentences.\n",
      "trainer_interface.cc(425) LOG(INFO) Adding meta_piece: <UNK>\n",
      "trainer_interface.cc(425) LOG(INFO) Adding meta_piece: <SOS>\n",
      "trainer_interface.cc(425) LOG(INFO) Adding meta_piece: <EOS>\n",
      "trainer_interface.cc(425) LOG(INFO) Adding meta_piece: <PAD>\n",
      "trainer_interface.cc(430) LOG(INFO) Normalizing sentences...\n",
      "trainer_interface.cc(539) LOG(INFO) all chars count=95770156\n",
      "trainer_interface.cc(550) LOG(INFO) Done: 99.9528% characters are covered.\n",
      "trainer_interface.cc(560) LOG(INFO) Alphabet size=141\n",
      "trainer_interface.cc(561) LOG(INFO) Final character coverage=0.999528\n",
      "trainer_interface.cc(592) LOG(INFO) Done! preprocessed 999987 sentences.\n",
      "trainer_interface.cc(598) LOG(INFO) Tokenizing input sentences with whitespace: 999987\n",
      "trainer_interface.cc(609) LOG(INFO) Done! 672047\n",
      "bpe_model_trainer.cc(159) LOG(INFO) Updating active symbols. max_freq=1606135 min_freq=8445\n",
      "bpe_model_trainer.cc(268) LOG(INFO) Added: freq=387488 size=20 all=7448 active=2292 piece=ें\n",
      "bpe_model_trainer.cc(268) LOG(INFO) Added: freq=272270 size=40 all=9085 active=3929 piece=▁f\n",
      "bpe_model_trainer.cc(268) LOG(INFO) Added: freq=203853 size=60 all=10300 active=5144 piece=ion\n",
      "bpe_model_trainer.cc(268) LOG(INFO) Added: freq=161787 size=80 all=11802 active=6646 piece=▁ग\n",
      "bpe_model_trainer.cc(268) LOG(INFO) Added: freq=120140 size=100 all=13272 active=8116 piece=▁be\n",
      "bpe_model_trainer.cc(159) LOG(INFO) Updating active symbols. max_freq=118646 min_freq=12252\n",
      "bpe_model_trainer.cc(268) LOG(INFO) Added: freq=98933 size=120 all=14925 active=2619 piece=▁l\n",
      "bpe_model_trainer.cc(268) LOG(INFO) Added: freq=84249 size=140 all=16835 active=4529 piece=िया\n",
      "bpe_model_trainer.cc(268) LOG(INFO) Added: freq=72102 size=160 all=19087 active=6781 piece=▁1\n",
      "bpe_model_trainer.cc(268) LOG(INFO) Added: freq=64455 size=180 all=20790 active=8484 piece=▁H\n",
      "bpe_model_trainer.cc(268) LOG(INFO) Added: freq=56307 size=200 all=23218 active=10912 piece=ist\n",
      "bpe_model_trainer.cc(159) LOG(INFO) Updating active symbols. max_freq=56077 min_freq=8952\n",
      "bpe_model_trainer.cc(268) LOG(INFO) Added: freq=50789 size=220 all=25048 active=2841 piece=▁with\n",
      "bpe_model_trainer.cc(268) LOG(INFO) Added: freq=46471 size=240 all=27004 active=4797 piece=▁मु\n",
      "bpe_model_trainer.cc(268) LOG(INFO) Added: freq=42318 size=260 all=28873 active=6666 piece=\"\"\n",
      "bpe_model_trainer.cc(268) LOG(INFO) Added: freq=39282 size=280 all=30753 active=8546 piece=ुल\n",
      "bpe_model_trainer.cc(268) LOG(INFO) Added: freq=35762 size=300 all=32534 active=10327 piece=ort\n",
      "bpe_model_trainer.cc(159) LOG(INFO) Updating active symbols. max_freq=35421 min_freq=5624\n",
      "bpe_model_trainer.cc(268) LOG(INFO) Added: freq=33342 size=320 all=34247 active=3224 piece=▁था\n",
      "bpe_model_trainer.cc(268) LOG(INFO) Added: freq=30428 size=340 all=36423 active=5400 piece=▁India\n",
      "bpe_model_trainer.cc(268) LOG(INFO) Added: freq=28246 size=360 all=38101 active=7078 piece=▁also\n",
      "bpe_model_trainer.cc(268) LOG(INFO) Added: freq=26813 size=380 all=39632 active=8609 piece=द्\n",
      "bpe_model_trainer.cc(268) LOG(INFO) Added: freq=25180 size=400 all=41693 active=10670 piece=▁भारत\n",
      "bpe_model_trainer.cc(159) LOG(INFO) Updating active symbols. max_freq=25092 min_freq=4129\n",
      "bpe_model_trainer.cc(268) LOG(INFO) Added: freq=23350 size=420 all=43950 active=4326 piece=च्\n",
      "bpe_model_trainer.cc(268) LOG(INFO) Added: freq=22037 size=440 all=45345 active=5721 piece=्रे\n",
      "bpe_model_trainer.cc(268) LOG(INFO) Added: freq=20862 size=460 all=47305 active=7681 piece=▁कु\n",
      "bpe_model_trainer.cc(268) LOG(INFO) Added: freq=19923 size=480 all=49258 active=9634 piece=ome\n",
      "bpe_model_trainer.cc(268) LOG(INFO) Added: freq=18871 size=500 all=50638 active=11014 piece=▁had\n",
      "bpe_model_trainer.cc(159) LOG(INFO) Updating active symbols. max_freq=18739 min_freq=3199\n",
      "bpe_model_trainer.cc(268) LOG(INFO) Added: freq=18051 size=520 all=51968 active=3855 piece=li\n",
      "bpe_model_trainer.cc(268) LOG(INFO) Added: freq=17380 size=540 all=53462 active=5349 piece=▁Th\n",
      "bpe_model_trainer.cc(268) LOG(INFO) Added: freq=16766 size=560 all=55114 active=7001 piece=ople\n",
      "bpe_model_trainer.cc(268) LOG(INFO) Added: freq=16052 size=580 all=56437 active=8324 piece=ाना\n",
      "bpe_model_trainer.cc(268) LOG(INFO) Added: freq=15437 size=600 all=58113 active=10000 piece=ence\n",
      "bpe_model_trainer.cc(159) LOG(INFO) Updating active symbols. max_freq=15402 min_freq=2631\n",
      "bpe_model_trainer.cc(268) LOG(INFO) Added: freq=14955 size=620 all=59736 active=4460 piece=▁मैं\n",
      "bpe_model_trainer.cc(268) LOG(INFO) Added: freq=14408 size=640 all=61234 active=5958 piece=▁भा\n",
      "bpe_model_trainer.cc(268) LOG(INFO) Added: freq=14079 size=660 all=62636 active=7360 piece=ctor\n",
      "bpe_model_trainer.cc(268) LOG(INFO) Added: freq=13611 size=680 all=64035 active=8759 piece=▁under\n",
      "bpe_model_trainer.cc(268) LOG(INFO) Added: freq=13075 size=700 all=65606 active=10330 piece=▁ar\n",
      "bpe_model_trainer.cc(159) LOG(INFO) Updating active symbols. max_freq=13068 min_freq=2195\n",
      "bpe_model_trainer.cc(268) LOG(INFO) Added: freq=12618 size=720 all=67159 active=4798 piece=बर\n",
      "bpe_model_trainer.cc(268) LOG(INFO) Added: freq=12319 size=740 all=68841 active=6480 piece=ree\n",
      "bpe_model_trainer.cc(268) LOG(INFO) Added: freq=11940 size=760 all=70360 active=7999 piece=ang\n",
      "bpe_model_trainer.cc(268) LOG(INFO) Added: freq=11637 size=780 all=71983 active=9622 piece=red\n",
      "bpe_model_trainer.cc(268) LOG(INFO) Added: freq=11412 size=800 all=73698 active=11337 piece=▁लगा\n",
      "bpe_model_trainer.cc(159) LOG(INFO) Updating active symbols. max_freq=11399 min_freq=1878\n",
      "bpe_model_trainer.cc(268) LOG(INFO) Added: freq=11122 size=820 all=74866 active=4831 piece=ens\n",
      "bpe_model_trainer.cc(268) LOG(INFO) Added: freq=10705 size=840 all=75996 active=5961 piece=▁BJP\n",
      "bpe_model_trainer.cc(268) LOG(INFO) Added: freq=10291 size=860 all=76996 active=6961 piece=िज\n",
      "bpe_model_trainer.cc(268) LOG(INFO) Added: freq=10103 size=880 all=78402 active=8367 piece=▁time\n",
      "bpe_model_trainer.cc(268) LOG(INFO) Added: freq=9762 size=900 all=79829 active=9794 piece=म्म\n",
      "bpe_model_trainer.cc(159) LOG(INFO) Updating active symbols. max_freq=9758 min_freq=1677\n",
      "bpe_model_trainer.cc(268) LOG(INFO) Added: freq=9492 size=920 all=81198 active=5235 piece=▁first\n",
      "bpe_model_trainer.cc(268) LOG(INFO) Added: freq=9309 size=940 all=82170 active=6207 piece=▁Un\n",
      "bpe_model_trainer.cc(268) LOG(INFO) Added: freq=9064 size=960 all=83364 active=7401 piece=▁फिर\n",
      "bpe_model_trainer.cc(268) LOG(INFO) Added: freq=8791 size=980 all=84694 active=8731 piece=reat\n",
      "bpe_model_trainer.cc(268) LOG(INFO) Added: freq=8629 size=1000 all=85927 active=9964 piece=पर\n",
      "bpe_model_trainer.cc(159) LOG(INFO) Updating active symbols. max_freq=8598 min_freq=1494\n",
      "bpe_model_trainer.cc(268) LOG(INFO) Added: freq=8469 size=1020 all=87226 active=5327 piece=▁पास\n",
      "bpe_model_trainer.cc(268) LOG(INFO) Added: freq=8264 size=1040 all=88735 active=6836 piece=▁add\n",
      "bpe_model_trainer.cc(268) LOG(INFO) Added: freq=8038 size=1060 all=89689 active=7790 piece=▁more\n",
      "bpe_model_trainer.cc(268) LOG(INFO) Added: freq=7866 size=1080 all=90537 active=8638 piece=▁tak\n",
      "bpe_model_trainer.cc(268) LOG(INFO) Added: freq=7752 size=1100 all=91901 active=10002 piece=नाव\n",
      "bpe_model_trainer.cc(159) LOG(INFO) Updating active symbols. max_freq=7751 min_freq=1344\n",
      "bpe_model_trainer.cc(268) LOG(INFO) Added: freq=7545 size=1120 all=92882 active=5518 piece=क्ति\n",
      "bpe_model_trainer.cc(268) LOG(INFO) Added: freq=7374 size=1140 all=94257 active=6893 piece=▁राष्ट्र\n",
      "bpe_model_trainer.cc(268) LOG(INFO) Added: freq=7248 size=1160 all=95533 active=8169 piece=▁जर\n",
      "bpe_model_trainer.cc(268) LOG(INFO) Added: freq=7088 size=1180 all=96844 active=9480 piece=▁बन\n",
      "bpe_model_trainer.cc(268) LOG(INFO) Added: freq=6925 size=1200 all=97787 active=10423 piece=▁झ\n",
      "bpe_model_trainer.cc(159) LOG(INFO) Updating active symbols. max_freq=6921 min_freq=1216\n",
      "bpe_model_trainer.cc(268) LOG(INFO) Added: freq=6750 size=1220 all=98887 active=5923 piece=▁ass\n",
      "bpe_model_trainer.cc(268) LOG(INFO) Ad"
     ]
    },
    {
     "name": "stderr",
     "output_type": "stream",
     "text": [
      "ded: freq=6648 size=1240 all=100406 active=7442 piece=▁गां\n",
      "bpe_model_trainer.cc(268) LOG(INFO) Added: freq=6546 size=1260 all=101261 active=8297 piece=▁बद\n",
      "bpe_model_trainer.cc(268) LOG(INFO) Added: freq=6465 size=1280 all=102399 active=9435 piece=der\n",
      "bpe_model_trainer.cc(268) LOG(INFO) Added: freq=6319 size=1300 all=103752 active=10788 piece=▁दु\n",
      "bpe_model_trainer.cc(159) LOG(INFO) Updating active symbols. max_freq=6307 min_freq=1116\n",
      "bpe_model_trainer.cc(268) LOG(INFO) Added: freq=6198 size=1320 all=104762 active=6141 piece=ctions\n",
      "bpe_model_trainer.cc(268) LOG(INFO) Added: freq=6122 size=1340 all=105784 active=7163 piece=ked\n",
      "bpe_model_trainer.cc(268) LOG(INFO) Added: freq=6006 size=1360 all=107029 active=8408 piece=▁15\n",
      "bpe_model_trainer.cc(268) LOG(INFO) Added: freq=5909 size=1380 all=107814 active=9193 piece=▁बैठ\n",
      "bpe_model_trainer.cc(268) LOG(INFO) Added: freq=5792 size=1400 all=108871 active=10250 piece=▁आधार\n",
      "bpe_model_trainer.cc(159) LOG(INFO) Updating active symbols. max_freq=5783 min_freq=1031\n",
      "bpe_model_trainer.cc(268) LOG(INFO) Added: freq=5700 size=1420 all=109994 active=6550 piece=▁आरोप\n",
      "bpe_model_trainer.cc(268) LOG(INFO) Added: freq=5580 size=1440 all=111040 active=7596 piece=धिक\n",
      "bpe_model_trainer.cc(268) LOG(INFO) Added: freq=5485 size=1460 all=112037 active=8593 piece=▁num\n",
      "bpe_model_trainer.cc(268) LOG(INFO) Added: freq=5398 size=1480 all=112966 active=9522 piece=▁पाकिस्तान\n",
      "bpe_model_trainer.cc(268) LOG(INFO) Added: freq=5338 size=1500 all=114332 active=10888 piece=▁ear\n",
      "bpe_model_trainer.cc(159) LOG(INFO) Updating active symbols. max_freq=5334 min_freq=957\n",
      "bpe_model_trainer.cc(268) LOG(INFO) Added: freq=5272 size=1520 all=115402 active=6779 piece=▁take\n",
      "bpe_model_trainer.cc(268) LOG(INFO) Added: freq=5178 size=1540 all=116155 active=7532 piece=▁सुरक्षा\n",
      "bpe_model_trainer.cc(268) LOG(INFO) Added: freq=5120 size=1560 all=117389 active=8766 piece=ati\n",
      "bpe_model_trainer.cc(268) LOG(INFO) Added: freq=5028 size=1580 all=118371 active=9748 piece=लिए\n",
      "bpe_model_trainer.cc(268) LOG(INFO) Added: freq=4953 size=1600 all=119330 active=10707 piece=▁loc\n",
      "bpe_model_trainer.cc(159) LOG(INFO) Updating active symbols. max_freq=4950 min_freq=896\n",
      "bpe_model_trainer.cc(268) LOG(INFO) Added: freq=4870 size=1620 all=119888 active=6503 piece=▁तैय\n",
      "bpe_model_trainer.cc(268) LOG(INFO) Added: freq=4794 size=1640 all=120575 active=7190 piece=ax\n",
      "bpe_model_trainer.cc(268) LOG(INFO) Added: freq=4717 size=1660 all=121502 active=8117 piece=▁ख़ुदा\n",
      "bpe_model_trainer.cc(268) LOG(INFO) Added: freq=4636 size=1680 all=122647 active=9262 piece=aking\n",
      "bpe_model_trainer.cc(268) LOG(INFO) Added: freq=4577 size=1700 all=123174 active=9789 piece=यह\n",
      "bpe_model_trainer.cc(159) LOG(INFO) Updating active symbols. max_freq=4576 min_freq=849\n",
      "bpe_model_trainer.cc(268) LOG(INFO) Added: freq=4520 size=1720 all=124112 active=7047 piece=▁कुमार\n",
      "bpe_model_trainer.cc(268) LOG(INFO) Added: freq=4478 size=1740 all=124675 active=7610 piece=▁hand\n",
      "bpe_model_trainer.cc(268) LOG(INFO) Added: freq=4414 size=1760 all=125870 active=8805 piece=▁योग\n",
      "bpe_model_trainer.cc(268) LOG(INFO) Added: freq=4351 size=1780 all=126606 active=9541 piece=▁13\n",
      "bpe_model_trainer.cc(268) LOG(INFO) Added: freq=4304 size=1800 all=127623 active=10558 piece=ेंट\n",
      "bpe_model_trainer.cc(159) LOG(INFO) Updating active symbols. max_freq=4303 min_freq=796\n",
      "bpe_model_trainer.cc(268) LOG(INFO) Added: freq=4245 size=1820 all=128470 active=7079 piece=▁incre\n",
      "bpe_model_trainer.cc(268) LOG(INFO) Added: freq=4192 size=1840 all=129227 active=7836 piece=▁col\n",
      "bpe_model_trainer.cc(268) LOG(INFO) Added: freq=4128 size=1860 all=130020 active=8629 piece=▁फ़\n",
      "bpe_model_trainer.cc(268) LOG(INFO) Added: freq=4075 size=1880 all=130745 active=9354 piece=▁स्क\n",
      "bpe_model_trainer.cc(268) LOG(INFO) Added: freq=4022 size=1900 all=131783 active=10392 piece=,\"\n",
      "bpe_model_trainer.cc(159) LOG(INFO) Updating active symbols. max_freq=4017 min_freq=755\n",
      "bpe_model_trainer.cc(268) LOG(INFO) Added: freq=3981 size=1920 all=132714 active=7498 piece=▁Sab\n",
      "bpe_model_trainer.cc(268) LOG(INFO) Added: freq=3931 size=1940 all=133505 active=8289 piece=▁ext\n",
      "bpe_model_trainer.cc(268) LOG(INFO) Added: freq=3887 size=1960 all=133875 active=8659 piece=ामी\n",
      "bpe_model_trainer.cc(268) LOG(INFO) Added: freq=3843 size=1980 all=134644 active=9428 piece=▁आत\n",
      "bpe_model_trainer.cc(268) LOG(INFO) Added: freq=3810 size=2000 all=135164 active=9948 piece=इट\n",
      "bpe_model_trainer.cc(159) LOG(INFO) Updating active symbols. max_freq=3809 min_freq=722\n",
      "bpe_model_trainer.cc(268) LOG(INFO) Added: freq=3777 size=2020 all=135968 active=7464 piece=ey\n",
      "bpe_model_trainer.cc(268) LOG(INFO) Added: freq=3724 size=2040 all=136779 active=8275 piece=ired\n",
      "bpe_model_trainer.cc(268) LOG(INFO) Added: freq=3681 size=2060 all=137401 active=8897 piece=▁देशों\n",
      "bpe_model_trainer.cc(268) LOG(INFO) Added: freq=3638 size=2080 all=137898 active=9394 piece=▁Ass\n",
      "bpe_model_trainer.cc(268) LOG(INFO) Added: freq=3601 size=2100 all=138410 active=9906 piece=्वी\n",
      "bpe_model_trainer.cc(159) LOG(INFO) Updating active symbols. max_freq=3601 min_freq=691\n",
      "bpe_model_trainer.cc(268) LOG(INFO) Added: freq=3580 size=2120 all=138928 active=7391 piece=▁पत्र\n",
      "bpe_model_trainer.cc(268) LOG(INFO) Added: freq=3522 size=2140 all=139423 active=7886 piece=BI\n",
      "bpe_model_trainer.cc(268) LOG(INFO) Added: freq=3495 size=2160 all=140234 active=8697 piece=▁आम\n",
      "bpe_model_trainer.cc(268) LOG(INFO) Added: freq=3453 size=2180 all=140915 active=9378 piece=▁श्र\n",
      "bpe_model_trainer.cc(268) LOG(INFO) Added: freq=3416 size=2200 all=141717 active=10180 piece=▁केवल\n",
      "bpe_model_trainer.cc(159) LOG(INFO) Updating active symbols. max_freq=3415 min_freq=659\n",
      "bpe_model_trainer.cc(268) LOG(INFO) Added: freq=3371 size=2220 all=142194 active=7559 piece=▁lakh\n",
      "bpe_model_trainer.cc(268) LOG(INFO) Added: freq=3349 size=2240 all=142769 active=8134 piece=▁लाभ\n",
      "bpe_model_trainer.cc(268) LOG(INFO) Added: freq=3317 size=2260 all=143417 active=8782 piece=▁leader\n",
      "bpe_model_trainer.cc(268) LOG(INFO) Added: freq=3280 size=2280 all=144540 active=9905 piece=ंगा\n",
      "bpe_model_trainer.cc(268) LOG(INFO) Added: freq=3261 size=2300 all=145550 active=10915 piece=▁समर्थ\n",
      "bpe_model_trainer.cc(159) LOG(INFO) Updating active symbols. max_freq=3260 min_freq=629\n",
      "bpe_model_trainer.cc(268) LOG(INFO) Added: freq=3229 size=2320 all=146390 active=8110 piece=gy\n",
      "bpe_model_trainer.cc(268) LOG(INFO) Added: freq=3195 size=2340 all=147251 active=8971 piece=▁कर्म\n",
      "bpe_model_trainer.cc(268) LOG(INFO) Added: freq=3169 size=2360 all=147954 active=9674 piece=▁आग\n",
      "bpe_model_trainer.cc(268) LOG(INFO) Added: freq=3139 size=2380 all=148488 active=10208 piece=▁result\n",
      "bpe_model_trainer.cc(268) LOG(INFO) Added: freq=3117 size=2400 all=149082 active=10802 piece=▁Sharma\n",
      "bpe_model_trainer.cc(159) LOG(INFO) Updating active symbols. max_freq=3116 min_freq=602\n",
      "bpe_model_trainer.cc(268) LOG(INFO) Added: freq=3085 size=2420 all=149405 active=7777 piece=▁सके\n",
      "bpe_model_trainer.cc(268) LOG(INFO) Added: freq=3062 size=2440 all=150368 active=8740 piece=▁रिपोर्ट\n",
      "bpe_model_trainer.cc(268) LOG(INFO) Added: freq=3022 size=2460 all=151294 active=9666 piece=▁Pat\n",
      "bpe_model_trainer.cc(268) LOG(INFO) Added: freq=2967 size=2480 all=151834 active=10206 piece=▁gr\n",
      "bpe_model_trainer.cc(268) LOG(INFO) Added: freq=2942 size=2500 all=152602 active=10974 piece=pr\n",
      "bpe_model_trainer.cc(159) LOG(INFO) Updating active symbols. max_freq=2941 min_freq=579\n",
      "bpe_model_trainer.cc(268) LOG(INFO) Added: freq=2905 size=2520 all=153211 active=8157 piece=▁महत्वपूर्ण\n",
      "bpe_model_trainer.cc(268) LOG(INFO) Added: freq=2876 size=2540 all=153635 active=8581 piece=▁Bi\n",
      "bpe_model_trainer.cc(268) LOG(INFO) Added: freq=2851 size=2560 all=154057 active=9003 piece=▁पांच\n",
      "bpe_model_trainer.cc(268) LOG(INFO) Added: freq=2826 size=2580 all=154428 active=9374 piece=ination\n",
      "bpe_model_trainer.cc(268) LOG(INFO) Added: freq=2805 size=2600 all=154927 active=9873 piece=व्य\n",
      "bpe_model_trainer.cc(159) LOG(INFO) Updating active symbols. max_freq=2805 min_freq=559\n",
      "bpe_model_trainer.cc(268) LOG(INFO) Added: freq=2767 size=2620 all=155517 active=8229 piece=▁seen\n",
      "bpe_model_trainer.cc(268) LOG(INFO) Added: freq=2743 size=2640 all=156072 active=8784 piece=▁गति\n",
      "bpe_model_trainer.cc(268) LOG(INFO) Added: freq=2716 size=2660 all=156726 active=9438 piece=▁माध्यम\n",
      "bpe_model_trainer.cc(268) LOG(INFO) Added: freq=2686 size=2680 all=157091 active=9803 piece=orth\n",
      "bpe_model_trainer.cc(268) LOG(INFO) Added: freq=2665 size=2700 all=157599 active=10311 piece=▁मं\n",
      "bpe_model_trainer.cc(159) LOG(INFO) Updating active symbols. max_freq=2665 min_freq=538\n",
      "bpe_model_trainer.cc(268) LOG(INFO) Added: freq=2644 size=2720 all=158020 active=8262 piece=▁अच��छा\n",
      "bpe_model_trainer.cc(268) LOG(INFO) Added: freq=2622 size=2740 all=158304 active=8546 piece=ुआ\n",
      "bpe_model_trainer.cc(268) LOG(INFO) Added: freq=2601 size=2760 all=158922 active=9164 piece=द्यालय\n",
      "bpe_model_trainer.cc(268) LOG(INFO) Added: freq=2582 size=2780 all=159458 active=9700 piece=▁बेट\n",
      "bpe_model_trainer.cc(268) LOG(INFO) Added: freq=2551 size=2800 all=160343 active=10585 piece=▁दल\n",
      "bpe_model_trainer.cc(159) LOG(INFO) Updating active symbols. max_freq=2551 min_freq=521\n",
      "bpe_model_trainer.cc(268) LOG(INFO) Added: freq=2538 size=2820 all=160662 active=8305 piece=▁जरूरत\n",
      "bpe_model_trainer.cc(268) LOG(INFO) Added: freq=2521 size=2840 all=160998 active=8641 piece=self\n",
      "bpe_model_trainer.cc(268) LOG(INFO) Added: freq=2499 size=2860 all=161938 active=9581 piece=नल\n",
      "bpe_model_trainer.cc(268) LOG(INFO) Added: freq=2478 size=2880 all=162549 active=10192 piece=अप\n",
      "bpe_model_trainer.cc(268) LOG(INFO) Added: freq=2461 size=2900 all=162979 active=10622 piece=▁persons\n",
      "bpe_model_trainer.cc(159) LOG(INFO) Updating active symbols. max_freq=2460 min_freq=504\n",
      "bpe_model_trainer.cc(268) LOG(INFO) Added: freq=2434 size=2920 all=163714 active=8883 piece=कट\n",
      "bpe_model_trainer.cc(268) LOG(INFO) Added: freq=2421 size=2940 all=164193 active=9362 piece=▁asked\n",
      "bpe_model_trainer.cc(268) LOG(INFO) Added: freq=2403 size=2960 all=164644 active=9813 piece=▁city\n",
      "bpe_model_trainer.cc(268) LOG(INFO) Added: freq=2384 size=2980 all=165192 active=10361 piece=▁प्रकाश\n",
      "bpe_model_trainer.cc(268) LOG(INFO) Added: freq=2359 size=3000 all=165977 active=11146 piece=▁sector\n",
      "bpe_model_trainer.cc(159) LOG(INFO) Updating active symbols. max_freq=2356 min_freq=485\n",
      "bpe_model_trainer.cc(268) LOG(INFO) Added: freq=2342 size=3020 all=166650 active=8969 piece=बे\n",
      "bpe_model_trainer.cc(268) LOG(INFO) Added: freq=2320 size=3040 all=167289 active=9608 piece=▁video\n",
      "bpe_model_trainer.cc(268) LOG(INFO) Added: freq=2300 size=3060 all=167875 active=10194 piece=▁बाजार\n",
      "bpe_model_trainer.cc(268) LOG(INFO) Added: freq=2283 size=3080 all=168626 active=10945 piece=सत\n",
      "bpe_model_trainer.cc(268) LOG(INFO) Added: freq=2269 size=3100 all=169051 active=11370 piece=▁treat\n",
      "bpe_model_trainer.cc(159) LOG(INFO) Updating active symbols. max_freq=2268 min_freq=469\n",
      "bpe_model_trainer.cc(268) LOG(INFO) Added: freq=2251 size=3120 all=169534 active=8927 piece=ium\n",
      "bpe_model_trainer.cc(268) LOG(INFO) Added: freq=2232 size=3140 all=170030 active=9423 piece=▁किसानों\n",
      "bpe_model_trainer.cc(268) LOG(INFO) Added: freq=2209 size=3160 all=170753 active=10146 piece=▁भाषा\n",
      "bpe_model_trainer.cc(268) LOG(INFO) Added: freq=2187 size=3180 all=171369 active=10762 piece=▁hig\n",
      "bpe_model_trainer.cc(268) LOG(INFO) Added: freq=2170 size=3200 all=171823 active=11216 piece=icy\n",
      "bpe_model_trainer.cc(159) LOG(INFO) Updating active symbols. max_freq=2170 min_freq=454\n",
      "bpe_model_trainer.cc(268) LOG(INFO) Added: freq=2157 size=3220 all=172229 active=8980 piece=▁business\n",
      "bpe_model_trainer.cc(268) LOG(INFO) Added: freq=2137 size=3240 all=172677 active=9428 piece=▁वित्त\n",
      "bpe_model_trainer.cc(268) LOG(INFO) Added: freq=2120 size=3260 all=173352 active=10103 piece=ाज़\n",
      "bpe_model_trainer.cc(268) LOG(INFO) Added: freq=2106 size=3280 all=174081 active=10832 piece=ल्स\n",
      "bpe_model_trainer.cc(268) LOG(INFO) Added: freq=2088 size=3300 all=174941 active=11692 piece=ollywood\n",
      "bpe_model_trainer.cc(159) LOG(INFO) Updating active symbols. max_freq=2087 min_freq=439\n",
      "bpe_model_trainer.cc(268) LOG(INFO) Added: freq=2074 size=3320 all=175464 active=9257 piece=ergy\n",
      "bpe_model_trainer.cc(268) LOG(INFO) Added: freq=2062 size=3340 all=175824 active=9617 piece=▁issues\n",
      "bpe_model_trainer.cc(268) LOG(INFO) Added: freq=2047 size=3360 all=176371 active=10164 piece=ग्री\n",
      "bpe_model_trainer.cc(268) LOG(INFO) Added: freq=2027 size=3380 all=177005 active=10798 piece=कृतिक\n",
      "bpe_model_trainer.cc(268) LOG(INFO) Added: freq=2014 size=3400 all=177825 active=11618 piece=▁food\n",
      "bpe_model_trainer.cc(159) LOG(INFO) Updating active symbols. max_freq=2014 min_freq=425\n",
      "bpe_model_trainer.cc(268) LOG(INFO) Added: freq=1998 size=3420 all=178180 active=9239 piece=▁मजबूत\n",
      "bpe_model_trainer.cc(268) LOG(INFO) Added: freq=1988 size=3440 all=178511 active=9570 piece=line\n",
      "bpe_model_trainer.cc(268) LOG(INFO) Added: freq=1975 size=3460 all=179288 active=10347 piece=▁Med\n",
      "bpe_model_trainer.cc(268) LOG(INFO) Added: freq=1962 size=3480 all=180011 active=11070 piece=\"\".\"\n",
      "bpe_model_trainer.cc(268) LOG(INFO) Added: freq=1951 size=3500 all=180652 active=11711 piece=तमान\n",
      "bpe_model_trainer.cc(159) LOG(INFO) Updating active symbols. max_freq=1951 min_freq=412\n",
      "bpe_model_trainer.cc(268) LOG(INFO) Added: freq=1937 size=3520 all=181111 active=9485 piece=resent\n",
      "bpe_model_trainer.cc(268) LOG(INFO) Added: freq=1927 size=3540 all=181581 active=9955 piece=ari\n",
      "bpe_model_trainer.cc(268) LOG(INFO) Added: freq=1910 size=3560 all=182062 active=10436 piece=▁कमी\n",
      "bpe_model_trainer.cc(268) LOG(INFO) Added: freq=1899 size=3580 all=182655 active=11029 piece=▁रु\n",
      "bpe_model_trainer.cc(268) LOG(INFO) Added: freq=1889 size=3600 all=183240 active=11614 piece=▁बंगाल\n",
      "bpe_model_trainer.cc(159) LOG(INFO) Updating active symbols. max_freq=1889 min_freq=400\n",
      "bpe_model_trainer.cc(268) LOG(INFO) Added: freq=1880 size=3620 all=183940 active=9859 piece=ilities\n",
      "bpe_model_trainer.cc(268) LOG(INFO) Added: freq=1864 size=3640 all=184379 active=10298 piece=ार्ड\n",
      "bpe_model_trainer.cc(268) LOG(INFO) Added: freq=1851 size=3660 all=185169 active=11088 piece=ड्ड\n",
      "bpe_model_trainer.cc(268) LOG(INFO) Added: freq=1836 size=3680 all=185545 active=11464 piece=▁2015\n",
      "bpe_model_trainer.cc(268) LOG(INFO) Added: freq=1823 size=3700 all=186099 active=12018 piece=ps\n",
      "bpe_model_trainer.cc(159) LOG(INFO) Updating active symbols. max_freq=1823 min_freq=388\n",
      "bpe_model_trainer.cc(268) LOG(INFO) Added: freq=1813 size=3720 all=186903 active=10020 piece=▁बच्चे\n",
      "bpe_model_trainer.cc(268) LOG(INFO) Added: freq=1806 size=3740 all=187168 active=10285 piece=▁तुल\n",
      "bpe_model_trainer.cc(268) LOG(INFO) Added: freq=1793 size=3760 all=187568 active=10685 piece=▁हरियाणा\n",
      "bpe_model_trainer.cc(268) LOG(INFO) Added: freq=1780 size=3780 all=188005 active=11122 piece=▁CM\n",
      "bpe_model_trainer.cc(268) LOG(INFO) Added: freq=1766 size=3800 all=188786 active=11903 piece=ग़\n",
      "bpe_model_trainer.cc(159) LOG(INFO) Updating active symbols. max_freq=1766 min_freq=379\n",
      "bpe_model_trainer.cc(268) LOG(INFO) Added: freq=1755 size=3820 all=189554 active=10079 piece=ier\n",
      "bpe_model_trainer.cc(268) LOG(INFO) Added: freq=1745 size=3840 all=190084 active=10609 piece=aff\n",
      "bpe_model_trainer.cc(268) LOG(INFO) Added: freq=1734 size=3860 all=190833 active=11358 piece=ize\n",
      "bpe_model_trainer.cc(268) LOG(INFO) Added: freq=1723 size=3880 all=191498 active=12023 piece=▁वर्ग\n",
      "bpe_model_trainer.cc(268) LOG(INFO) Added: freq=1710 size=3900 all=192244 active=12769 piece=किल\n",
      "bpe_model_trainer.cc(159) LOG(INFO) Updating active symbols. max_freq=1710 min_freq=366\n",
      "bpe_model_trainer.cc(268) LOG(INFO) Added: freq=1698 size=3920 all=192835 active=10161 piece=▁cust\n",
      "bpe_model_trainer.cc(268) LOG(INFO) Added: freq=1689 size=3940 all=193324 active=10650 piece=▁young\n",
      "bpe_model_trainer.cc(268) LOG(INFO) Added: freq=1680 size=3960 all=194036 active=11362 piece=▁कोहली\n",
      "bpe_model_trainer.cc(268) LOG(INFO) Added: freq=1669 size=3980 all=194294 active=11620 piece=▁श्रे\n",
      "bpe_model_trainer.cc(268) LOG(INFO) Added: freq=1653 size=4000 all=194756 active=12082 piece=▁राजस्थान\n",
      "bpe_model_trainer.cc(159) LOG(INFO) Updating active symbols. max_freq=1651 min_freq=357\n",
      "bpe_model_trainer.cc(268) LOG(INFO) Added: freq=1642 size=4020 all=195414 active=10395 piece=▁निर्धार\n",
      "bpe_model_trainer.cc(268) LOG(INFO) Added: freq=1626 size=4040 all=195836 active=10817 piece=��free\n",
      "bpe_model_trainer.cc(268) LOG(INFO) Added: freq=1614 size=4060 all=196336 active=11317 piece=▁समी\n",
      "bpe_model_trainer.cc(268) LOG(INFO) Added: freq=1605 size=4080 all=196899 active=11880 piece=पट\n",
      "bpe_model_trainer.cc(268) LOG(INFO) Added: freq=1591 size=4100 all=197475 active=12456 piece=▁लेख\n",
      "bpe_model_trainer.cc(159) LOG(INFO) Updating active symbols. max_freq=1591 min_freq=347\n",
      "bpe_model_trainer.cc(268) LOG(INFO) Added: freq=1582 size=4120 all=197922 active=10299 piece=▁देव\n",
      "bpe_model_trainer.cc(268) LOG(INFO) Added: freq=1571 size=4140 all=198583 active=10960 piece=▁निकाल\n",
      "bpe_model_trainer.cc(268) LOG(INFO) Added: freq=1556 size=4160 all=199156 active=11533 piece=▁प्रत्येक\n",
      "bpe_model_trainer.cc(268) LOG(INFO) Added: freq=1548 size=4180 all=199613 active=11990 piece=▁ड्र\n",
      "bpe_model_trainer.cc(268) LOG(INFO) Added: freq=1537 size=4200 all=200181 active=12558 piece=वधान\n",
      "bpe_model_trainer.cc(159) LOG(INFO) Updating active symbols. max_freq=1537 min_freq=339\n",
      "bpe_model_trainer.cc(268) LOG(INFO) Added: freq=1529 size=4220 all=200558 active=10372 piece=▁office\n",
      "bpe_model_trainer.cc(268) LOG(INFO) Added: freq=1519 size=4240 all=200835 active=10649 piece=▁पड़े\n",
      "bpe_model_trainer.cc(268) LOG(INFO) Added: freq=1510 size=4260 all=201192 active=11006 piece=usband\n",
      "bpe_model_trainer.cc(268) LOG(INFO) Added: freq=1503 size=4280 all=201674 active=11488 piece=▁नीचे\n",
      "bpe_model_trainer.cc(268) LOG(INFO) Added: freq=1493 size=4300 all=202259 active=12073 piece=ैक\n",
      "bpe_model_trainer.cc(159) LOG(INFO) Updating active symbols. max_freq=1493 min_freq=332\n",
      "bpe_model_trainer.cc(268) LOG(INFO) Added: freq=1486 size=4320 all=202921 active=10663 piece=▁नम\n",
      "bpe_model_trainer.cc(268) LOG(INFO) Added: freq=1480 size=4340 all=203314 active=11056 piece=▁self\n",
      "bpe_model_trainer.cc(268) LOG(INFO) Added: freq=1473 size=4360 all=204100 active=11842 piece=वासी\n",
      "bpe_model_trainer.cc(268) LOG(INFO) Added: freq=1465 size=4380 all=204515 active=12257 piece=▁छो\n",
      "bpe_model_trainer.cc(268) LOG(INFO) Added: freq=1458 size=4400 all=204766 active=12508 piece=engers\n",
      "bpe_model_trainer.cc(159) LOG(INFO) Updating active symbols. max_freq=1458 min_freq=323\n",
      "bpe_model_trainer.cc(268) LOG(INFO) Added: freq=1450 size=4420 all=205206 active=10668 piece=ज़र\n",
      "bpe_model_trainer.cc(268) LOG(INFO) Added: freq=1440 size=4440 all=205578 active=11040 piece=▁related\n",
      "bpe_model_trainer.cc(268) LOG(INFO) Added: freq=1436 size=4460 all=205930 active=11392 piece=▁संस्थान\n",
      "bpe_model_trainer.cc(268) LOG(INFO) Added: freq=1432 size=4480 all=206586 active=12048 piece=▁foreign\n",
      "bpe_model_trainer.cc(268) LOG(INFO) Added: freq=1422 size=4500 all=207099 active=12561 piece=▁spec\n",
      "bpe_model_trainer.cc(159) LOG(INFO) Updating active symbols. max_freq=1422 min_freq=317\n",
      "bpe_model_trainer.cc(268) LOG(INFO) Added: freq=1415 size=4520 all=207703 active=10947 piece=▁इलाज\n",
      "bpe_model_trainer.cc(268) LOG(INFO) Added: freq=1409 size=4540 all=208088 active=11332 piece=▁प्रचार\n",
      "bpe_model_trainer.cc(268) LOG(INFO) Added: freq=1400 size=4560 all=208638 active=11882 piece=ोम\n",
      "bpe_model_trainer.cc(268) LOG(INFO) Added: freq=1392 size=4580 all=209326 active=12570 piece=stitu\n",
      "bpe_model_trainer.cc(268) LOG(INFO) Added: freq=1385 size=4600 all=209905 active=13149 piece=िटल\n",
      "bpe_model_trainer.cc(159) LOG(INFO) Updating active symbols. max_freq=1385 min_freq=308\n",
      "bpe_model_trainer.cc(268) LOG(INFO) Added: freq=1375 size=4620 all=210672 active=11245 piece=▁ty\n",
      "bpe_model_trainer.cc(268) LOG(INFO) Added: freq=1367 size=4640 all=211242 active=11815 piece=ufact\n",
      "bpe_model_trainer.cc(268) LOG(INFO) Added: freq=1358 size=4660 all=211652 active=12225 piece=▁संग्रह\n",
      "bpe_model_trainer.cc(268) LOG(INFO) Added: freq=1351 size=4680 all=211961 active=12534 piece=ex\n",
      "bpe_model_trainer.cc(268) LOG(INFO) Added: freq=1342 size=4700 all=212505 active=13078 piece=▁पर��रदिगार\n",
      "bpe_model_trainer.cc(159) LOG(INFO) Updating active symbols. max_freq=1341 min_freq=300\n",
      "bpe_model_trainer.cc(268) LOG(INFO) Added: freq=1334 size=4720 all=212838 active=10959 piece=▁himself\n",
      "bpe_model_trainer.cc(268) LOG(INFO) Added: freq=1325 size=4740 all=213473 active=11594 piece=head\n",
      "bpe_model_trainer.cc(268) LOG(INFO) Added: freq=1318 size=4760 all=214272 active=12393 piece=ication\n",
      "bpe_model_trainer.cc(268) LOG(INFO) Added: freq=1309 size=4780 all=214694 active=12815 piece=त्रियों\n",
      "bpe_model_trainer.cc(268) LOG(INFO) Added: freq=1301 size=4800 all=215012 active=13133 piece=▁जैसा\n",
      "bpe_model_trainer.cc(159) LOG(INFO) Updating active symbols. max_freq=1300 min_freq=293\n",
      "bpe_model_trainer.cc(268) LOG(INFO) Added: freq=1294 size=4820 all=215720 active=11458 piece=▁poor\n",
      "bpe_model_trainer.cc(268) LOG(INFO) Added: freq=1286 size=4840 all=216111 active=11849 piece=▁Russ\n",
      "bpe_model_trainer.cc(268) LOG(INFO) Added: freq=1280 size=4860 all=216450 active=12188 piece=▁बाइबल\n",
      "bpe_model_trainer.cc(268) LOG(INFO) Added: freq=1273 size=4880 all=216797 active=12535 piece=▁history\n",
      "bpe_model_trainer.cc(268) LOG(INFO) Added: freq=1267 size=4900 all=217609 active=13347 piece=▁resol\n",
      "bpe_model_trainer.cc(159) LOG(INFO) Updating active symbols. max_freq=1266 min_freq=286\n",
      "bpe_model_trainer.cc(268) LOG(INFO) Added: freq=1260 size=4920 all=218012 active=11275 piece=▁parents\n",
      "bpe_model_trainer.cc(268) LOG(INFO) Added: freq=1254 size=4940 all=218420 active=11683 piece=▁quality\n",
      "bpe_model_trainer.cc(268) LOG(INFO) Added: freq=1245 size=4960 all=218881 active=12144 piece=AP\n",
      "bpe_model_trainer.cc(268) LOG(INFO) Added: freq=1239 size=4980 all=219263 active=12526 piece=▁रिज\n",
      "bpe_model_trainer.cc(268) LOG(INFO) Added: freq=1231 size=5000 all=219717 active=12980 piece=▁शब्द\n",
      "bpe_model_trainer.cc(159) LOG(INFO) Updating active symbols. max_freq=1231 min_freq=280\n",
      "bpe_model_trainer.cc(268) LOG(INFO) Added: freq=1225 size=5020 all=220072 active=11325 piece=▁Sub\n",
      "bpe_model_trainer.cc(268) LOG(INFO) Added: freq=1218 size=5040 all=220692 active=11945 piece=▁संक्रम\n",
      "bpe_model_trainer.cc(268) LOG(INFO) Added: freq=1212 size=5060 all=221179 active=12432 piece=ंकी\n",
      "bpe_model_trainer.cc(268) LOG(INFO) Added: freq=1207 size=5080 all=221734 active=12987 piece=olk\n",
      "bpe_model_trainer.cc(268) LOG(INFO) Added: freq=1202 size=5100 all=221997 active=13250 piece=स्लिम\n",
      "bpe_model_trainer.cc(159) LOG(INFO) Updating active symbols. max_freq=1202 min_freq=273\n",
      "bpe_model_trainer.cc(268) LOG(INFO) Added: freq=1197 size=5120 all=222529 active=11624 piece=onse\n",
      "bpe_model_trainer.cc(268) LOG(INFO) Added: freq=1190 size=5140 all=222913 active=12008 piece=▁personnel\n",
      "bpe_model_trainer.cc(268) LOG(INFO) Added: freq=1184 size=5160 all=223471 active=12566 piece=▁अथवा\n",
      "bpe_model_trainer.cc(268) LOG(INFO) Added: freq=1175 size=5180 all=223977 active=13072 piece=▁सत्र\n",
      "bpe_model_trainer.cc(268) LOG(INFO) Added: freq=1167 size=5200 all=224530 active=13625 piece=etro\n",
      "bpe_model_trainer.cc(159) LOG(INFO) Updating active symbols. max_freq=1167 min_freq=267\n",
      "bpe_model_trainer.cc(268) LOG(INFO) Added: freq=1161 size=5220 all=224926 active=11586 piece=▁निपट\n",
      "bpe_model_trainer.cc(268) LOG(INFO) Added: freq=1154 size=5240 all=225240 active=11900 piece=aur\n",
      "bpe_model_trainer.cc(268) LOG(INFO) Added: freq=1149 size=5260 all=225818 active=12478 piece=▁विजय\n",
      "bpe_model_trainer.cc(268) LOG(INFO) Added: freq=1144 size=5280 all=226156 active=12816 piece=्रो\n",
      "bpe_model_trainer.cc(268) LOG(INFO) Added: freq=1138 size=5300 all=226565 active=13225 piece=प्त\n",
      "bpe_model_trainer.cc(159) LOG(INFO) Updating active symbols. max_freq=1138 min_freq=261\n",
      "bpe_model_trainer.cc(268) LOG(INFO) Added: freq=1134 size=5320 all=226825 active=11544 piece=▁April\n",
      "bpe_model_trainer.cc(268) LOG(INFO) Added: freq=1129 size=5340 all=227181 active=11900 piece=▁रिकॉर्ड\n",
      "bpe_model_trainer.cc(268) LOG(INFO) Added: freq=1123 size=5360 all=227806 active=12525 piece=▁सक्रिय\n",
      "bpe_model_trainer.cc(268) LOG(INFO) Added: freq=1117 size=5380 all=228145 active=12864 piece=ta\n",
      "bpe_model_trainer.cc(268) LOG(INFO) Added: freq=1111 size=5400 all=228562 active=13281 piece=▁शरीर\n",
      "bpe_model_trainer.cc(159) LOG(INFO) Updating active symbols. max_freq=1110 min_freq=256\n",
      "bpe_model_trainer.cc(268) LOG(INFO) Added: freq=1105 size=5420 all=228961 active=11819 piece=acy\n",
      "bpe_model_trainer.cc(268) LOG(INFO) Added: freq=1102 size=5440 all=229412 active=12270 piece=odies\n",
      "bpe_model_trainer.cc(268) LOG(INFO) Added: freq=1097 size=5460 all=229749 active=12607 piece=▁declared\n",
      "bpe_model_trainer.cc(268) LOG(INFO) Added: freq=1091 size=5480 all=230439 active=13297 piece=▁cities\n",
      "bpe_model_trainer.cc(268) LOG(INFO) Added: freq=1085 size=5500 all=230724 active=13582 piece=ocu\n",
      "bpe_model_trainer.cc(159) LOG(INFO) Updating active symbols. max_freq=1085 min_freq=251\n",
      "bpe_model_trainer.cc(268) LOG(INFO) Added: freq=1081 size=5520 all=231292 active=12094 piece=▁कॉलेज\n",
      "bpe_model_trainer.cc(268) LOG(INFO) Added: freq=1076 size=5540 all=231709 active=12511 piece=▁कड़ी\n",
      "bpe_model_trainer.cc(268) LOG(INFO) Added: freq=1071 size=5560 all=232065 active=12867 piece=थि\n",
      "bpe_model_trainer.cc(268) LOG(INFO) Added: freq=1068 size=5580 all=232547 active=13349 piece=▁आठ\n",
      "bpe_model_trainer.cc(268) LOG(INFO) Added: freq=1063 size=5600 all=233043 active=13845 piece=▁integr\n",
      "bpe_model_trainer.cc(159) LOG(INFO) Updating active symbols. max_freq=1063 min_freq=246\n",
      "bpe_model_trainer.cc(268) LOG(INFO) Added: freq=1058 size=5620 all=233273 active=11869 piece=▁upcoming\n",
      "bpe_model_trainer.cc(268) LOG(INFO) Added: freq=1050 size=5640 all=233559 active=12155 piece=▁Iran\n",
      "bpe_model_trainer.cc(268) LOG(INFO) Added: freq=1045 size=5660 all=233887 active=12483 piece=▁driver\n",
      "bpe_model_trainer.cc(268) LOG(INFO) Added: freq=1040 size=5680 all=234385 active=12981 piece=▁km\n",
      "bpe_model_trainer.cc(268) LOG(INFO) Added: freq=1034 size=5700 all=234771 active=13367 piece=जित\n",
      "bpe_model_trainer.cc(159) LOG(INFO) Updating active symbols. max_freq=1034 min_freq=242\n",
      "bpe_model_trainer.cc(268) LOG(INFO) Added: freq=1028 size=5720 all=235112 active=12042 piece=▁hands\n",
      "bpe_model_trainer.cc(268) LOG(INFO) Added: freq=1023 size=5740 all=235440 active=12370 piece=▁living\n",
      "bpe_model_trainer.cc(268) LOG(INFO) Added: freq=1018 size=5760 all=235745 active=12675 piece=वहीं\n",
      "bpe_model_trainer.cc(268) LOG(INFO) Added: freq=1015 size=5780 all=236011 active=12941 piece=▁45\n",
      "bpe_model_trainer.cc(268) LOG(INFO) Added: freq=1011 size=5800 all=236276 active=13206 piece=▁Arun\n",
      "bpe_model_trainer.cc(159) LOG(INFO) Updating active symbols. max_freq=1011 min_freq=237\n",
      "bpe_model_trainer.cc(268) LOG(INFO) Added: freq=1007 size=5820 all=236604 active=12123 piece=स्टम\n",
      "bpe_model_trainer.cc(268) LOG(INFO) Added: freq=1004 size=5840 all=237087 active=12606 piece=▁ones\n",
      "bpe_model_trainer.cc(268) LOG(INFO) Added: freq=999 size=5860 all=237250 active=12769 piece=▁camera\n",
      "bpe_model_trainer.cc(268) LOG(INFO) Added: freq=994 size=5880 all=237597 active=13116 piece=ovember\n",
      "bpe_model_trainer.cc(268) LOG(INFO) Added: freq=990 size=5900 all=238175 active=13694 piece=▁एजेंसी\n",
      "bpe_model_trainer.cc(159) LOG(INFO) Updating active symbols. max_freq=989 min_freq=233\n",
      "bpe_model_trainer.cc(268) LOG(INFO) Added: freq=985 size=5920 all=238417 active=12150 piece=▁बनाई\n",
      "bpe_model_trainer.cc(268) LOG(INFO) Added: freq=979 size=5940 all=238675 active=12408 piece=▁सजा\n",
      "bpe_model_trainer.cc(268) LOG(INFO) Added: freq=975 size=5960 all=238962 active=12695 piece=▁pat\n",
      "bpe_model_trainer.cc(268) LOG(INFO) Added: freq=971 size=5980 all=239272 active=13005 piece=▁inaugur\n",
      "bpe_model_trainer.cc(268) LOG(INFO) Added: freq=963 size=6000 all=239462 active=13195 piece=4,\n",
      "bpe_model_trainer.cc(159) LOG(INFO) Updating active symbols. max_freq=963 min_freq=229\n",
      "bpe_model_trainer.cc(268) LOG(INFO) Added: freq=959 size=6020 all=239827 active=12257 piece=▁creat\n",
      "bpe_model_trainer.cc(268) LOG(INFO) Added: freq=955 size=6040 all=240079 active=12509 piece=ja\n",
      "bpe_model_trainer.cc(268) LOG(INFO) Added: freq=953 size=6060 all=240412 active=12842 piece=▁schools\n",
      "bpe_model_trainer.cc(268) LOG(INFO) Added: freq=948 size=6080 all=240798 active=13228 piece=▁Int\n",
      "bpe_model_trainer.cc(268) LOG(INFO) Added: freq=943 size=6100 all=241208 active=13638 piece=▁वायरल\n",
      "bpe_model_trainer.cc(159) LOG(INFO) Updating active symbols. max_freq=943 min_freq=225\n",
      "bpe_model_trainer.cc(268) LOG(INFO) Added: freq=939 size=6120 all=241326 active=12177 piece=▁Road\n",
      "bpe_model_trainer.cc(268) LOG(INFO) Added: freq=935 size=6140 all=241624 active=12475 piece=▁petition\n",
      "bpe_model_trainer.cc(268) LOG(INFO) Added: freq=931 size=6160 all=242049 active=12900 piece=▁German\n",
      "bpe_model_trainer.cc(268) LOG(INFO) Added: freq=927 size=6180 all=242440 active=13291 piece=��operations\n",
      "bpe_model_trainer.cc(268) LOG(INFO) Added: freq=924 size=6200 all=242856 active=13707 piece=▁rank\n",
      "bpe_model_trainer.cc(159) LOG(INFO) Updating active symbols. max_freq=924 min_freq=221\n",
      "bpe_model_trainer.cc(268) LOG(INFO) Added: freq=920 size=6220 all=243294 active=12575 piece=▁रूस\n",
      "bpe_model_trainer.cc(268) LOG(INFO) Added: freq=917 size=6240 all=243668 active=12949 piece=▁गेंदबाज\n",
      "bpe_model_trainer.cc(268) LOG(INFO) Added: freq=914 size=6260 all=244054 active=13335 piece=▁charges\n",
      "bpe_model_trainer.cc(268) LOG(INFO) Added: freq=910 size=6280 all=244537 active=13818 piece=ably\n",
      "bpe_model_trainer.cc(268) LOG(INFO) Added: freq=907 size=6300 all=245200 active=14481 piece=▁कारोबार\n",
      "bpe_model_trainer.cc(159) LOG(INFO) Updating active symbols. max_freq=907 min_freq=217\n",
      "bpe_model_trainer.cc(268) LOG(INFO) Added: freq=904 size=6320 all=245681 active=12740 piece=▁forg\n",
      "bpe_model_trainer.cc(268) LOG(INFO) Added: freq=902 size=6340 all=245913 active=12972 piece=▁सुल\n",
      "bpe_model_trainer.cc(268) LOG(INFO) Added: freq=898 size=6360 all=246346 active=13405 piece=दाताओं\n",
      "bpe_model_trainer.cc(268) LOG(INFO) Added: freq=894 size=6380 all=246855 active=13914 piece=US\n",
      "bpe_model_trainer.cc(268) LOG(INFO) Added: freq=891 size=6400 all=247198 active=14257 piece=▁आंध्र\n",
      "bpe_model_trainer.cc(159) LOG(INFO) Updating active symbols. max_freq=891 min_freq=214\n",
      "bpe_model_trainer.cc(268) LOG(INFO) Added: freq=887 size=6420 all=247342 active=12502 piece=कल्प\n",
      "bpe_model_trainer.cc(268) LOG(INFO) Added: freq=883 size=6440 all=247629 active=12789 piece=▁अय\n",
      "bpe_model_trainer.cc(268) LOG(INFO) Added: freq=880 size=6460 all=248069 active=13229 piece=▁प्रारंभ\n",
      "bpe_model_trainer.cc(268) LOG(INFO) Added: freq=875 size=6480 all=248358 active=13518 piece=▁34\n",
      "bpe_model_trainer.cc(268) LOG(INFO) Added: freq=871 size=6500 all=248608 active=13768 piece=▁रणनी\n",
      "bpe_model_trainer.cc(159) LOG(INFO) Updating active symbols. max_freq=870 min_freq=210\n",
      "bpe_model_trainer.cc(268) LOG(INFO) Added: freq=867 size=6520 all=248985 active=12802 piece=ोषण\n",
      "bpe_model_trainer.cc(268) LOG(INFO) Added: freq=865 size=6540 all=249293 active=13110 piece=कारात्मक\n",
      "bpe_model_trainer.cc(268) LOG(INFO) Added: freq=862 size=6560 all=249477 active=13294 piece=▁Cons\n",
      "bpe_model_trainer.cc(268) LOG(INFO) Added: freq=858 size=6580 all=249919 active=13736 piece=िस्ट\n",
      "bpe_model_trainer.cc(268) LOG(INFO) Added: freq=855 size=6600 all=250325 active=14142 piece=▁wal\n",
      "bpe_model_trainer.cc(159) LOG(INFO) Updating active symbols. max_freq=855 min_freq=206\n",
      "bpe_model_trainer.cc(268) LOG(INFO) Added: freq=852 size=6620 all=250728 active=12909 piece=त्तीसगढ़\n",
      "bpe_model_trainer.cc(268) LOG(INFO) Added: freq=849 size=6640 all=251071 active=13252 piece=▁accom\n",
      "bpe_model_trainer.cc(268) LOG(INFO) Added: freq=846 size=6660 all=251433 active=13614 piece=▁everything\n",
      "bpe_model_trainer.cc(268) LOG(INFO) Added: freq=841 size=6680 all=251888 active=14069 piece=5,\n",
      "bpe_model_trainer.cc(268) LOG(INFO) Added: freq=837 size=6700 all=252225 active=14406 piece=ौन\n",
      "bpe_model_trainer.cc(159) LOG(INFO) Updating active symbols. max_freq=837 min_freq=203\n",
      "bpe_model_trainer.cc(268) LOG(INFO) Added: freq=833 size=6720 all=252554 active=12891 piece=द्योगिक\n",
      "bpe_model_trainer.cc(268) LOG(INFO) Added: freq=830 size=6740 all=252908 active=13245 piece=▁श्रेणी\n",
      "bpe_model_trainer.cc(268) LOG(INFO) Added: freq=826 size=6760 all=253390 active=13727 piece=▁दस्ता\n",
      "bpe_model_trainer.cc(268) LOG(INFO) Added: freq=822 size=6780 all=253538 active=13875 piece=सच\n",
      "bpe_model_trainer.cc(268) LOG(INFO) Added: freq=820 size=6800 all=253726 active=14063 piece=िनी\n",
      "bpe_model_trainer.cc(159) LOG(INFO) Updating active symbols. max_freq=820 min_freq=200\n",
      "bpe_model_trainer.cc(268) LOG(INFO) Added: freq=817 size=6820 all=254033 active=12907 piece=अम\n",
      "bpe_model_trainer.cc(268) LOG(INFO) Added: freq=815 size=6840 all=254280 active=13154 piece=▁तुम्हारा\n",
      "bpe_model_trainer.cc(268) LOG(INFO) Added: freq=810 size=6860 all=254752 active=13626 piece=हाद\n",
      "bpe_model_trainer.cc(268) LOG(INFO) Added: freq=807 size=6880 all=255053 active=13927 piece=▁mobile\n",
      "bpe_model_trainer.cc(268) LOG(INFO) Added: freq=804 size=6900 all=255221 active=14095 piece=▁smart\n",
      "bpe_model_trainer.cc(159) LOG(INFO) Updating active symbols. max_freq=804 min_freq=197\n",
      "bpe_model_trainer.cc(268) LOG(INFO) Added: freq=801 size=6920 all=255837 active=13369 piece=▁कर्मचारी\n",
      "bpe_model_trainer.cc(268) LOG(INFO) Added: freq=798 size=6940 all=256323 active=13855 piece=merce\n",
      "bpe_model_trainer.cc(268) LOG(INFO) Added: freq=795 size=6960 all=256660 active=14192 piece=▁undert\n",
      "bpe_model_trainer.cc(268) LOG(INFO) Added: freq=792 size=6980 all=256998 active=14530 piece=▁gas\n",
      "bpe_model_trainer.cc(268) LOG(INFO) Added: freq=789 size=7000 all=257317 active=14849 piece=▁चित्र\n",
      "bpe_model_trainer.cc(159) LOG(INFO) Updating active symbols. max_freq=789 min_freq=194\n",
      "bpe_model_trainer.cc(268) LOG(INFO) Added: freq=786 size=7020 all=257674 active=13201 piece=▁site\n",
      "bpe_model_trainer.cc(268) LOG(INFO) Added: freq=783 size=7040 all=257902 active=13429 piece=hips\n",
      "bpe_model_trainer.cc(268) LOG(INFO) Added: freq=782 size=7060 all=258218 active=13745 piece=▁status\n",
      "bpe_model_trainer.cc(268) LOG(INFO) Added: freq=779 size=7080 all=258338 active=13865 piece=▁earn\n",
      "bpe_model_trainer.cc(268) LOG(INFO) Added: freq=776 size=7100 all=258700 active=14227 piece=▁कार्यक्रमों\n",
      "bpe_model_trainer.cc(159) LOG(INFO) Updating active symbols. max_freq=775 min_freq=191\n",
      "bpe_model_trainer.cc(268) LOG(INFO) Added: freq=772 size=7120 all=258991 active=13226 piece=तुम\n",
      "bpe_model_trainer.cc(268) LOG(INFO) Added: freq=770 size=7140 all=259351 active=13586 piece=▁punishment\n",
      "bpe_model_trainer.cc(268) LOG(INFO) Added: freq=767 size=7160 all=259561 active=13796 piece=▁initiative\n",
      "bpe_model_trainer.cc(268) LOG(INFO) Added: freq=764 size=7180 all=259790 active=14025 piece=▁उन्\n",
      "bpe_model_trainer.cc(268) LOG(INFO) Added: freq=761 size=7200 all=260040 active=14275 piece=▁plant\n",
      "bpe_model_trainer.cc(159) LOG(INFO) Updating active symbols. max_freq=760 min_freq=188\n",
      "bpe_model_trainer.cc(268) LOG(INFO) Added: freq=757 size=7220 all=260429 active=13384 piece=everal\n",
      "bpe_model_trainer.cc(268) LOG(INFO) Added: freq=755 size=7240 all=260831 active=13786 piece=▁बहन\n",
      "bpe_model_trainer.cc(268) LOG(INFO) Added: freq=752 size=7260 all=261237 active=14192 piece=▁...\n",
      "bpe_model_trainer.cc(268) LOG(INFO) Added: freq=748 size=7280 all=261454 active=14409 piece=What\n",
      "bpe_model_trainer.cc(268) LOG(INFO) Added: freq=745 size=7300 all=261672 active=14627 piece=▁heard\n",
      "bpe_model_trainer.cc(159) LOG(INFO) Updating active symbols. max_freq=744 min_freq=185\n",
      "bpe_model_trainer.cc(268) LOG(INFO) Added: freq=741 size=7320 all=262120 active=13531 piece=▁phase\n",
      "bpe_model_trainer.cc(268) LOG(INFO) Added: freq=738 size=7340 all=262355 active=13766 piece=▁इकाई\n",
      "bpe_model_trainer.cc(268) LOG(INFO) Added: freq=736 size=7360 all=262616 active=14027 piece=▁भ्रष्ट\n",
      "bpe_model_trainer.cc(268) LOG(INFO) Added: freq=733 size=7380 all=262788 active=14199 piece=▁nations\n",
      "bpe_model_trainer.cc(268) LOG(INFO) Added: freq=730 size=7400 all=263298 active=14709 piece=▁मीटर\n",
      "bpe_model_trainer.cc(159) LOG(INFO) Updating active symbols. max_freq=730 min_freq=183\n",
      "bpe_model_trainer.cc(268) LOG(INFO) Added: freq=728 size=7420 all=263629 active=13494 piece=▁resources\n",
      "bpe_model_trainer.cc(268) LOG(INFO) Added: freq=725 size=7440 all=263923 active=13788 piece=▁उत्पादों\n",
      "bpe_model_trainer.cc(268) LOG(INFO) Added: freq=721 size=7460 all=264273 active=14138 piece=खे\n",
      "bpe_model_trainer.cc(268) LOG(INFO) Added: freq=719 size=7480 all=264535 active=14400 piece=incipal\n",
      "bpe_model_trainer.cc(268) LOG(INFO) Added: freq=717 size=7500 all=264733 active=14598 piece=▁मुसलमान\n",
      "bpe_model_trainer.cc(159) LOG(INFO) Updating active symbols. max_freq=716 min_freq=181\n",
      "bpe_model_trainer.cc(268) LOG(INFO) Added: freq=714 size=7520 all=265488 active=13989 piece=फारिश\n",
      "bpe_model_trainer.cc(268) LOG(INFO) Added: freq=711 size=7540 all=265709 active=14210 piece=▁Abd\n",
      "bpe_model_trainer.cc(268) LOG(INFO) Added: freq=708 size=7560 all=265881 active=14382 piece=डाउन\n",
      "bpe_model_trainer.cc(268) LOG(INFO) Added: freq=705 size=7580 all=266022 active=14523 piece=▁परन्तु\n",
      "bpe_model_trainer.cc(268) LOG(INFO) Added: freq=703 size=7600 all=266736 active=15237 piece=▁facing\n",
      "bpe_model_trainer.cc(159) LOG(INFO) Updating active symbols. max_freq=703 min_freq=178\n",
      "bpe_model_trainer.cc(268) LOG(INFO) Added: freq=700 size=7620 all=266927 active=13528 piece=▁Association\n",
      "bpe_model_trainer.cc(268) LOG(INFO) Added: freq=697 size=7640 all=267319 active=13920 piece=year\n",
      "bpe_model_trainer.cc(268) LOG(INFO) Added: freq=694 size=7660 all=267771 active=14372 piece=्रपति\n",
      "bpe_model_trainer.cc(268) LOG(INFO) Added: freq=692 size=7680 all=268232 active=14833 piece=▁democracy\n",
      "bpe_model_trainer.cc(268) LOG(INFO) Added: freq=689 size=7700 all=268531 active=15132 piece=▁पौ\n",
      "bpe_model_trainer.cc(159) LOG(INFO) Updating active symbols. max_freq=689 min_freq=175\n",
      "bpe_model_trainer.cc(268) LOG(INFO) Added: freq=687 size=7720 all=268815 active=13673 piece=▁railway\n",
      "bpe_model_trainer.cc(268) LOG(INFO) Added: freq=685 size=7740 all=269078 active=13936 piece=▁Telangana\n",
      "bpe_model_trainer.cc(268) LOG(INFO) Added: freq=682 size=7760 all=269223 active=14081 piece=▁गोल\n",
      "bpe_model_trainer.cc(268) LOG(INFO) Added: freq=679 size=7780 all=269478 active=14336 piece=▁fig\n",
      "bpe_model_trainer.cc(268) LOG(INFO) Added: freq=677 size=7800 all=269699 active=14557 piece=▁Industry\n",
      "bpe_model_trainer.cc(159) LOG(INFO) Updating active symbols. max_freq=676 min_freq=173\n",
      "bpe_model_trainer.cc(268) LOG(INFO) Added: freq=674 size=7820 all=270094 active=13879 piece=▁Na\n",
      "bpe_model_trainer.cc(268) LOG(INFO) Added: freq=672 size=7840 all=270433 active=14218 piece=rim\n",
      "trainer_interface.cc(687) LOG(INFO) Saving model: en-hi.model\n",
      "trainer_interface.cc(699) LOG(INFO) Saving vocabs: en-hi.vocab\n"
     ]
    }
   ],
   "source": [
    "spm.SentencePieceTrainer.train(input=['../data/en-hi/hindi_small_train.txt', '../data/en-hi/english_small_train.txt'], model_prefix=\"en-hi\", model_type='bpe', vocab_size=8000, pad_id=3, bos_piece=\"<SOS>\", eos_piece=\"<EOS>\", unk_piece=\"<UNK>\", pad_piece=\"<PAD>\")"
   ]
  },
  {
   "cell_type": "code",
   "execution_count": 140,
   "metadata": {},
   "outputs": [
    {
     "data": {
      "text/plain": [
       "385"
      ]
     },
     "execution_count": 140,
     "metadata": {},
     "output_type": "execute_result"
    }
   ],
   "source": [
    "len(train_total)"
   ]
  },
  {
   "cell_type": "code",
   "execution_count": null,
   "metadata": {},
   "outputs": [],
   "source": []
  },
  {
   "cell_type": "code",
   "execution_count": 196,
   "metadata": {},
   "outputs": [
    {
     "ename": "TypeError",
     "evalue": "unhashable type: 'numpy.ndarray'",
     "output_type": "error",
     "traceback": [
      "\u001b[0;31m---------------------------------------------------------------------------\u001b[0m",
      "\u001b[0;31mTypeError\u001b[0m                                 Traceback (most recent call last)",
      "Cell \u001b[0;32mIn[196], line 1\u001b[0m\n\u001b[0;32m----> 1\u001b[0m \u001b[43mplt\u001b[49m\u001b[38;5;241;43m.\u001b[39;49m\u001b[43mplot\u001b[49m\u001b[43m(\u001b[49m\u001b[43mtrain_total\u001b[49m\u001b[43m)\u001b[49m\n\u001b[1;32m      2\u001b[0m plt\u001b[38;5;241m.\u001b[39mplot(test_total)\n\u001b[1;32m      3\u001b[0m plt\u001b[38;5;241m.\u001b[39mlegend([\u001b[38;5;124m'\u001b[39m\u001b[38;5;124mtrain\u001b[39m\u001b[38;5;124m'\u001b[39m, \u001b[38;5;124m'\u001b[39m\u001b[38;5;124mtest\u001b[39m\u001b[38;5;124m'\u001b[39m])\n",
      "File \u001b[0;32m/opt/anaconda3/envs/dl_scratch/lib/python3.10/site-packages/matplotlib/pyplot.py:3794\u001b[0m, in \u001b[0;36mplot\u001b[0;34m(scalex, scaley, data, *args, **kwargs)\u001b[0m\n\u001b[1;32m   3786\u001b[0m \u001b[38;5;129m@_copy_docstring_and_deprecators\u001b[39m(Axes\u001b[38;5;241m.\u001b[39mplot)\n\u001b[1;32m   3787\u001b[0m \u001b[38;5;28;01mdef\u001b[39;00m \u001b[38;5;21mplot\u001b[39m(\n\u001b[1;32m   3788\u001b[0m     \u001b[38;5;241m*\u001b[39margs: \u001b[38;5;28mfloat\u001b[39m \u001b[38;5;241m|\u001b[39m ArrayLike \u001b[38;5;241m|\u001b[39m \u001b[38;5;28mstr\u001b[39m,\n\u001b[0;32m   (...)\u001b[0m\n\u001b[1;32m   3792\u001b[0m     \u001b[38;5;241m*\u001b[39m\u001b[38;5;241m*\u001b[39mkwargs,\n\u001b[1;32m   3793\u001b[0m ) \u001b[38;5;241m-\u001b[39m\u001b[38;5;241m>\u001b[39m \u001b[38;5;28mlist\u001b[39m[Line2D]:\n\u001b[0;32m-> 3794\u001b[0m     \u001b[38;5;28;01mreturn\u001b[39;00m \u001b[43mgca\u001b[49m\u001b[43m(\u001b[49m\u001b[43m)\u001b[49m\u001b[38;5;241;43m.\u001b[39;49m\u001b[43mplot\u001b[49m\u001b[43m(\u001b[49m\n\u001b[1;32m   3795\u001b[0m \u001b[43m        \u001b[49m\u001b[38;5;241;43m*\u001b[39;49m\u001b[43margs\u001b[49m\u001b[43m,\u001b[49m\n\u001b[1;32m   3796\u001b[0m \u001b[43m        \u001b[49m\u001b[43mscalex\u001b[49m\u001b[38;5;241;43m=\u001b[39;49m\u001b[43mscalex\u001b[49m\u001b[43m,\u001b[49m\n\u001b[1;32m   3797\u001b[0m \u001b[43m        \u001b[49m\u001b[43mscaley\u001b[49m\u001b[38;5;241;43m=\u001b[39;49m\u001b[43mscaley\u001b[49m\u001b[43m,\u001b[49m\n\u001b[1;32m   3798\u001b[0m \u001b[43m        \u001b[49m\u001b[38;5;241;43m*\u001b[39;49m\u001b[38;5;241;43m*\u001b[39;49m\u001b[43m(\u001b[49m\u001b[43m{\u001b[49m\u001b[38;5;124;43m\"\u001b[39;49m\u001b[38;5;124;43mdata\u001b[39;49m\u001b[38;5;124;43m\"\u001b[39;49m\u001b[43m:\u001b[49m\u001b[43m \u001b[49m\u001b[43mdata\u001b[49m\u001b[43m}\u001b[49m\u001b[43m \u001b[49m\u001b[38;5;28;43;01mif\u001b[39;49;00m\u001b[43m \u001b[49m\u001b[43mdata\u001b[49m\u001b[43m \u001b[49m\u001b[38;5;129;43;01mis\u001b[39;49;00m\u001b[43m \u001b[49m\u001b[38;5;129;43;01mnot\u001b[39;49;00m\u001b[43m \u001b[49m\u001b[38;5;28;43;01mNone\u001b[39;49;00m\u001b[43m \u001b[49m\u001b[38;5;28;43;01melse\u001b[39;49;00m\u001b[43m \u001b[49m\u001b[43m{\u001b[49m\u001b[43m}\u001b[49m\u001b[43m)\u001b[49m\u001b[43m,\u001b[49m\n\u001b[1;32m   3799\u001b[0m \u001b[43m        \u001b[49m\u001b[38;5;241;43m*\u001b[39;49m\u001b[38;5;241;43m*\u001b[39;49m\u001b[43mkwargs\u001b[49m\u001b[43m,\u001b[49m\n\u001b[1;32m   3800\u001b[0m \u001b[43m    \u001b[49m\u001b[43m)\u001b[49m\n",
      "File \u001b[0;32m/opt/anaconda3/envs/dl_scratch/lib/python3.10/site-packages/matplotlib/axes/_axes.py:1779\u001b[0m, in \u001b[0;36mAxes.plot\u001b[0;34m(self, scalex, scaley, data, *args, **kwargs)\u001b[0m\n\u001b[1;32m   1536\u001b[0m \u001b[38;5;250m\u001b[39m\u001b[38;5;124;03m\"\"\"\u001b[39;00m\n\u001b[1;32m   1537\u001b[0m \u001b[38;5;124;03mPlot y versus x as lines and/or markers.\u001b[39;00m\n\u001b[1;32m   1538\u001b[0m \n\u001b[0;32m   (...)\u001b[0m\n\u001b[1;32m   1776\u001b[0m \u001b[38;5;124;03m(``'green'``) or hex strings (``'#008000'``).\u001b[39;00m\n\u001b[1;32m   1777\u001b[0m \u001b[38;5;124;03m\"\"\"\u001b[39;00m\n\u001b[1;32m   1778\u001b[0m kwargs \u001b[38;5;241m=\u001b[39m cbook\u001b[38;5;241m.\u001b[39mnormalize_kwargs(kwargs, mlines\u001b[38;5;241m.\u001b[39mLine2D)\n\u001b[0;32m-> 1779\u001b[0m lines \u001b[38;5;241m=\u001b[39m [\u001b[38;5;241m*\u001b[39m\u001b[38;5;28mself\u001b[39m\u001b[38;5;241m.\u001b[39m_get_lines(\u001b[38;5;28mself\u001b[39m, \u001b[38;5;241m*\u001b[39margs, data\u001b[38;5;241m=\u001b[39mdata, \u001b[38;5;241m*\u001b[39m\u001b[38;5;241m*\u001b[39mkwargs)]\n\u001b[1;32m   1780\u001b[0m \u001b[38;5;28;01mfor\u001b[39;00m line \u001b[38;5;129;01min\u001b[39;00m lines:\n\u001b[1;32m   1781\u001b[0m     \u001b[38;5;28mself\u001b[39m\u001b[38;5;241m.\u001b[39madd_line(line)\n",
      "File \u001b[0;32m/opt/anaconda3/envs/dl_scratch/lib/python3.10/site-packages/matplotlib/axes/_base.py:296\u001b[0m, in \u001b[0;36m_process_plot_var_args.__call__\u001b[0;34m(self, axes, data, *args, **kwargs)\u001b[0m\n\u001b[1;32m    294\u001b[0m     this \u001b[38;5;241m+\u001b[39m\u001b[38;5;241m=\u001b[39m args[\u001b[38;5;241m0\u001b[39m],\n\u001b[1;32m    295\u001b[0m     args \u001b[38;5;241m=\u001b[39m args[\u001b[38;5;241m1\u001b[39m:]\n\u001b[0;32m--> 296\u001b[0m \u001b[38;5;28;01myield from\u001b[39;00m \u001b[38;5;28;43mself\u001b[39;49m\u001b[38;5;241;43m.\u001b[39;49m\u001b[43m_plot_args\u001b[49m\u001b[43m(\u001b[49m\n\u001b[1;32m    297\u001b[0m \u001b[43m    \u001b[49m\u001b[43maxes\u001b[49m\u001b[43m,\u001b[49m\u001b[43m \u001b[49m\u001b[43mthis\u001b[49m\u001b[43m,\u001b[49m\u001b[43m \u001b[49m\u001b[43mkwargs\u001b[49m\u001b[43m,\u001b[49m\u001b[43m \u001b[49m\u001b[43mambiguous_fmt_datakey\u001b[49m\u001b[38;5;241;43m=\u001b[39;49m\u001b[43mambiguous_fmt_datakey\u001b[49m\u001b[43m)\u001b[49m\n",
      "File \u001b[0;32m/opt/anaconda3/envs/dl_scratch/lib/python3.10/site-packages/matplotlib/axes/_base.py:483\u001b[0m, in \u001b[0;36m_process_plot_var_args._plot_args\u001b[0;34m(self, axes, tup, kwargs, return_kwargs, ambiguous_fmt_datakey)\u001b[0m\n\u001b[1;32m    481\u001b[0m     axes\u001b[38;5;241m.\u001b[39mxaxis\u001b[38;5;241m.\u001b[39mupdate_units(x)\n\u001b[1;32m    482\u001b[0m \u001b[38;5;28;01mif\u001b[39;00m axes\u001b[38;5;241m.\u001b[39myaxis \u001b[38;5;129;01mis\u001b[39;00m \u001b[38;5;129;01mnot\u001b[39;00m \u001b[38;5;28;01mNone\u001b[39;00m:\n\u001b[0;32m--> 483\u001b[0m     \u001b[43maxes\u001b[49m\u001b[38;5;241;43m.\u001b[39;49m\u001b[43myaxis\u001b[49m\u001b[38;5;241;43m.\u001b[39;49m\u001b[43mupdate_units\u001b[49m\u001b[43m(\u001b[49m\u001b[43my\u001b[49m\u001b[43m)\u001b[49m\n\u001b[1;32m    485\u001b[0m \u001b[38;5;28;01mif\u001b[39;00m x\u001b[38;5;241m.\u001b[39mshape[\u001b[38;5;241m0\u001b[39m] \u001b[38;5;241m!=\u001b[39m y\u001b[38;5;241m.\u001b[39mshape[\u001b[38;5;241m0\u001b[39m]:\n\u001b[1;32m    486\u001b[0m     \u001b[38;5;28;01mraise\u001b[39;00m \u001b[38;5;167;01mValueError\u001b[39;00m(\u001b[38;5;124mf\u001b[39m\u001b[38;5;124m\"\u001b[39m\u001b[38;5;124mx and y must have same first dimension, but \u001b[39m\u001b[38;5;124m\"\u001b[39m\n\u001b[1;32m    487\u001b[0m                      \u001b[38;5;124mf\u001b[39m\u001b[38;5;124m\"\u001b[39m\u001b[38;5;124mhave shapes \u001b[39m\u001b[38;5;132;01m{\u001b[39;00mx\u001b[38;5;241m.\u001b[39mshape\u001b[38;5;132;01m}\u001b[39;00m\u001b[38;5;124m and \u001b[39m\u001b[38;5;132;01m{\u001b[39;00my\u001b[38;5;241m.\u001b[39mshape\u001b[38;5;132;01m}\u001b[39;00m\u001b[38;5;124m\"\u001b[39m)\n",
      "File \u001b[0;32m/opt/anaconda3/envs/dl_scratch/lib/python3.10/site-packages/matplotlib/axis.py:1756\u001b[0m, in \u001b[0;36mAxis.update_units\u001b[0;34m(self, data)\u001b[0m\n\u001b[1;32m   1754\u001b[0m neednew \u001b[38;5;241m=\u001b[39m \u001b[38;5;28mself\u001b[39m\u001b[38;5;241m.\u001b[39mconverter \u001b[38;5;241m!=\u001b[39m converter\n\u001b[1;32m   1755\u001b[0m \u001b[38;5;28mself\u001b[39m\u001b[38;5;241m.\u001b[39mconverter \u001b[38;5;241m=\u001b[39m converter\n\u001b[0;32m-> 1756\u001b[0m default \u001b[38;5;241m=\u001b[39m \u001b[38;5;28;43mself\u001b[39;49m\u001b[38;5;241;43m.\u001b[39;49m\u001b[43mconverter\u001b[49m\u001b[38;5;241;43m.\u001b[39;49m\u001b[43mdefault_units\u001b[49m\u001b[43m(\u001b[49m\u001b[43mdata\u001b[49m\u001b[43m,\u001b[49m\u001b[43m \u001b[49m\u001b[38;5;28;43mself\u001b[39;49m\u001b[43m)\u001b[49m\n\u001b[1;32m   1757\u001b[0m \u001b[38;5;28;01mif\u001b[39;00m default \u001b[38;5;129;01mis\u001b[39;00m \u001b[38;5;129;01mnot\u001b[39;00m \u001b[38;5;28;01mNone\u001b[39;00m \u001b[38;5;129;01mand\u001b[39;00m \u001b[38;5;28mself\u001b[39m\u001b[38;5;241m.\u001b[39munits \u001b[38;5;129;01mis\u001b[39;00m \u001b[38;5;28;01mNone\u001b[39;00m:\n\u001b[1;32m   1758\u001b[0m     \u001b[38;5;28mself\u001b[39m\u001b[38;5;241m.\u001b[39mset_units(default)\n",
      "File \u001b[0;32m/opt/anaconda3/envs/dl_scratch/lib/python3.10/site-packages/matplotlib/category.py:105\u001b[0m, in \u001b[0;36mStrCategoryConverter.default_units\u001b[0;34m(data, axis)\u001b[0m\n\u001b[1;32m    103\u001b[0m \u001b[38;5;66;03m# the conversion call stack is default_units -> axis_info -> convert\u001b[39;00m\n\u001b[1;32m    104\u001b[0m \u001b[38;5;28;01mif\u001b[39;00m axis\u001b[38;5;241m.\u001b[39munits \u001b[38;5;129;01mis\u001b[39;00m \u001b[38;5;28;01mNone\u001b[39;00m:\n\u001b[0;32m--> 105\u001b[0m     axis\u001b[38;5;241m.\u001b[39mset_units(\u001b[43mUnitData\u001b[49m\u001b[43m(\u001b[49m\u001b[43mdata\u001b[49m\u001b[43m)\u001b[49m)\n\u001b[1;32m    106\u001b[0m \u001b[38;5;28;01melse\u001b[39;00m:\n\u001b[1;32m    107\u001b[0m     axis\u001b[38;5;241m.\u001b[39munits\u001b[38;5;241m.\u001b[39mupdate(data)\n",
      "File \u001b[0;32m/opt/anaconda3/envs/dl_scratch/lib/python3.10/site-packages/matplotlib/category.py:181\u001b[0m, in \u001b[0;36mUnitData.__init__\u001b[0;34m(self, data)\u001b[0m\n\u001b[1;32m    179\u001b[0m \u001b[38;5;28mself\u001b[39m\u001b[38;5;241m.\u001b[39m_counter \u001b[38;5;241m=\u001b[39m itertools\u001b[38;5;241m.\u001b[39mcount()\n\u001b[1;32m    180\u001b[0m \u001b[38;5;28;01mif\u001b[39;00m data \u001b[38;5;129;01mis\u001b[39;00m \u001b[38;5;129;01mnot\u001b[39;00m \u001b[38;5;28;01mNone\u001b[39;00m:\n\u001b[0;32m--> 181\u001b[0m     \u001b[38;5;28;43mself\u001b[39;49m\u001b[38;5;241;43m.\u001b[39;49m\u001b[43mupdate\u001b[49m\u001b[43m(\u001b[49m\u001b[43mdata\u001b[49m\u001b[43m)\u001b[49m\n",
      "File \u001b[0;32m/opt/anaconda3/envs/dl_scratch/lib/python3.10/site-packages/matplotlib/category.py:214\u001b[0m, in \u001b[0;36mUnitData.update\u001b[0;34m(self, data)\u001b[0m\n\u001b[1;32m    212\u001b[0m \u001b[38;5;66;03m# check if convertible to number:\u001b[39;00m\n\u001b[1;32m    213\u001b[0m convertible \u001b[38;5;241m=\u001b[39m \u001b[38;5;28;01mTrue\u001b[39;00m\n\u001b[0;32m--> 214\u001b[0m \u001b[38;5;28;01mfor\u001b[39;00m val \u001b[38;5;129;01min\u001b[39;00m \u001b[43mOrderedDict\u001b[49m\u001b[38;5;241;43m.\u001b[39;49m\u001b[43mfromkeys\u001b[49m\u001b[43m(\u001b[49m\u001b[43mdata\u001b[49m\u001b[43m)\u001b[49m:\n\u001b[1;32m    215\u001b[0m     \u001b[38;5;66;03m# OrderedDict just iterates over unique values in data.\u001b[39;00m\n\u001b[1;32m    216\u001b[0m     _api\u001b[38;5;241m.\u001b[39mcheck_isinstance((\u001b[38;5;28mstr\u001b[39m, \u001b[38;5;28mbytes\u001b[39m), value\u001b[38;5;241m=\u001b[39mval)\n\u001b[1;32m    217\u001b[0m     \u001b[38;5;28;01mif\u001b[39;00m convertible:\n\u001b[1;32m    218\u001b[0m         \u001b[38;5;66;03m# this will only be called so long as convertible is True.\u001b[39;00m\n",
      "\u001b[0;31mTypeError\u001b[0m: unhashable type: 'numpy.ndarray'"
     ]
    },
    {
     "data": {
      "image/png": "[encoded data removed]",
      "text/plain": [
       "<Figure size 640x480 with 1 Axes>"
      ]
     },
     "metadata": {},
     "output_type": "display_data"
    }
   ],
   "source": [
    "plt.plot(train_total)\n",
    "plt.plot(test_total)\n",
    "plt.legend(['train', 'test'])\n",
    "# plt.yscale(\"log\")"
   ]
  },
  {
   "cell_type": "markdown",
   "metadata": {},
   "source": [
    "## Analysing hindi Translation Model"
   ]
  },
  {
   "cell_type": "code",
   "execution_count": 172,
   "metadata": {},
   "outputs": [],
   "source": [
    "class LanguageTranslationDataset(Dataset):\n",
    "    def __init__(self, seq_length, src_encodings, tgt_encodings, sos_token, eos_token, pad_token):\n",
    "        super().__init__()\n",
    "        self.paired_encodings = LanguageTranslationDataset.augment_encodings(src_encodings, tgt_encodings, sos_token, eos_token)\n",
    "        self.seq_len = seq_length\n",
    "        self.pad_token = pad_token\n",
    "\n",
    "    @staticmethod\n",
    "    def augment_encodings(src_encodings, tgt_encodings, sos_token, eos_token):\n",
    "        src_encodings_app = [[sos_token] + sublist + [eos_token] for sublist in src_encodings]\n",
    "        tgt_encodings_app = [[sos_token] + sublist for sublist in tgt_encodings]\n",
    "        output_encodings = [sublist + [eos_token] for sublist in tgt_encodings] \n",
    "        full_encoding = list(zip(src_encodings_app, tgt_encodings_app, output_encodings))\n",
    "        full_encoding.sort(key=lambda x: len(x[0])) # sort sequence lengths\n",
    "        return full_encoding\n",
    "\n",
    "\n",
    "    def __getitem__(self, idx):\n",
    "            src_seq, tgt_seq, output_seq = self.paired_encodings[idx]\n",
    "            \n",
    "            # Convert to tensors\n",
    "            src_tensor = torch.tensor(src_seq, dtype=torch.long)\n",
    "            tgt_tensor = torch.tensor(tgt_seq, dtype=torch.long)\n",
    "            output_tensor = torch.tensor(output_seq, dtype=torch.long)\n",
    "\n",
    "            # **Ensure the sequence length does not exceed `seq_len`**\n",
    "            if src_tensor.size(0) > self.seq_len:\n",
    "                src_tensor = src_tensor[:self.seq_len]  # Crop excess tokens\n",
    "            if tgt_tensor.size(0) > self.seq_len:\n",
    "                tgt_tensor = tgt_tensor[:self.seq_len]  # Crop excess tokens\n",
    "            if output_tensor.size(0) > self.seq_len:\n",
    "                output_tensor = output_tensor[:self.seq_len]  # Crop excess tokens\n",
    "\n",
    "            # **Pad sequences to `seq_len` if they are shorter**\n",
    "            src_tensor = F.pad(src_tensor, (0, max(0, self.seq_len - src_tensor.size(0))), value=self.pad_token)\n",
    "            tgt_tensor = F.pad(tgt_tensor, (0, max(0, self.seq_len - tgt_tensor.size(0))), value=self.pad_token)\n",
    "            output_tensor = F.pad(output_tensor, (0, max(0, self.seq_len - output_tensor.size(0))), value=self.pad_token)\n",
    "            encoder_mask = (src_tensor != self.pad_token).int()\n",
    "            subsequent_mask = torch.tril(torch.ones((self.seq_len, self.seq_len), dtype=torch.int))\n",
    "            padding_mask = (tgt_tensor != self.pad_token).int()\n",
    "            decoder_mask = subsequent_mask & padding_mask.unsqueeze(0)\n",
    "\n",
    "\n",
    "\n",
    "            return {\n",
    "                \"src\": src_tensor, # Seq_len\n",
    "                \"tgt\": tgt_tensor, # seq_len\n",
    "                \"output\": output_tensor, # seq_len\n",
    "                \"encoder_mask\" : encoder_mask.unsqueeze(0).unsqueeze(0), # 1 x 1 x seq_len\n",
    "                \"decoder_mask\" : decoder_mask.unsqueeze(0), # 1 x seq_len x seq_len\n",
    "            }\n",
    "    def __len__(self): \n",
    "            return len(self.paired_encodings)"
   ]
  },
  {
   "cell_type": "code",
   "execution_count": 173,
   "metadata": {},
   "outputs": [],
   "source": [
    "def model_prediction(model, batch, max_len, device, sos_token, eos_token, pad_token):\n",
    "    encoder_input = batch['src'].to(device) # B x seq_len\n",
    "    encoder_mask = batch['encoder_mask'].to(device) # B  x 1 x 1 x seq_len\n",
    "    encoder_output = model.encode(encoder_input, encoder_mask)\n",
    "    B = encoder_input.size(0)\n",
    "    decoder_input = torch.full((B, max_len), pad_token).to(device)\n",
    "    decoder_input[: , 0] = sos_token\n",
    "    finished = torch.zeros(B, dtype=torch.bool, device=device)\n",
    "\n",
    "    for t in range(max_len - 1):\n",
    "        subsequent_mask = torch.tril(torch.ones((max_len, max_len), dtype=torch.int)).expand(B, -1, -1).to(device) # shape: (B, max_len, max_len)\n",
    "        other_mask =(decoder_input != pad_token).int().unsqueeze(1) # (B, 1, max_len)\n",
    "        decoder_mask = (subsequent_mask & other_mask).unsqueeze(1).to(device)\n",
    "        out = model.decode(decoder_input, encoder_output, encoder_mask, decoder_mask)\n",
    "        prediction = model.proj(out) # Expected shape: (B, max_len, vocab_size)\n",
    "        next_tokens = torch.argmax(prediction[:, t, :], dim=-1) # shape: (B, )\n",
    "        next_tokens = torch.where(finished, pad_token, next_tokens)\n",
    "\n",
    "        decoder_input[:, t + 1] = next_tokens\n",
    "        finished |= (next_tokens == eos_token)\n",
    "\n",
    "        if finished.all():\n",
    "          break\n",
    "\n",
    "    return decoder_input"
   ]
  },
  {
   "cell_type": "code",
   "execution_count": 174,
   "metadata": {},
   "outputs": [],
   "source": [
    "checkpoint = torch.load(\"../papers/attention_is_all_you_need/Models/multi_hindi_small/Model_100\", map_location=torch.device('cpu'))"
   ]
  },
  {
   "cell_type": "code",
   "execution_count": 177,
   "metadata": {},
   "outputs": [],
   "source": [
    "from collections import OrderedDict\n",
    "\n",
    "checkpoint['model_state_dict'] = OrderedDict(\n",
    "    (key[7:] if key.startswith(\"module.\") else key, value)\n",
    "    for key, value in checkpoint['model_state_dict'].items()\n",
    ")\n"
   ]
  },
  {
   "cell_type": "code",
   "execution_count": 179,
   "metadata": {},
   "outputs": [],
   "source": [
    "train_english = pd.read_table(\"../data/en-hi/train.en\", header=None, skiprows=200_000, nrows=250000)\n",
    "train_hindi = pd.read_table(\"../data/en-hi/train.hi\", header=None, skiprows=200_000, nrows=250000)"
   ]
  },
  {
   "cell_type": "code",
   "execution_count": 180,
   "metadata": {},
   "outputs": [],
   "source": [
    "import sentencepiece as spm\n",
    "sp = spm.SentencePieceProcessor(model_file='../papers/attention_is_all_you_need/BPE/en-hi.model')"
   ]
  },
  {
   "cell_type": "code",
   "execution_count": 181,
   "metadata": {},
   "outputs": [],
   "source": [
    "import numpy as np\n",
    "indices = np.random.randint(low=0, high=250_000, size=20)\n",
    "inference_dataset = LanguageTranslationDataset(140,sp.encode_as_ids(train_english.iloc[indices, 0].to_list()), \n",
    "                                               sp.encode_as_ids(train_hindi.iloc[indices, 0].to_list()), sp.bos_id(), sp.eos_id(), sp.pad_id())\n",
    "inference_data = DataLoader(inference_dataset, batch_size=len(indices))"
   ]
  },
  {
   "cell_type": "code",
   "execution_count": 182,
   "metadata": {},
   "outputs": [],
   "source": [
    "batch = next(iter(inference_data))\n",
    "preds = model_prediction(model, batch, 140, \"cpu\", sp.bos_id(), sp.eos_id(), sp.pad_id())"
   ]
  },
  {
   "cell_type": "code",
   "execution_count": 183,
   "metadata": {},
   "outputs": [],
   "source": [
    "decoded = sp.decode(preds.detach().cpu().tolist())\n",
    "actual_decoded = sp.decode(batch['tgt'][:, :].detach().cpu().tolist())\n",
    "source_sentence = sp.decode(batch['src'][:, :].detach().cpu().tolist())"
   ]
  },
  {
   "cell_type": "code",
   "execution_count": 184,
   "metadata": {},
   "outputs": [
    {
     "name": "stdout",
     "output_type": "stream",
     "text": [
      "english sentence: Six of ...\n",
      "hindi sentence: छठे दौ .\n",
      "model sentence: छह में .\n",
      "-----------------------------------\n",
      "english sentence: Most wanted criminal arrested\n",
      "hindi sentence: मोस्ट वांटेड बदमाश गिरफ्तार\n",
      "model sentence: सबसे अधिक आरोपी गिरफ्तार\n",
      "-----------------------------------\n",
      "english sentence: But it was of no avail.\n",
      "hindi sentence: मगर फायदा नहीं हुआ।\n",
      "model sentence: लेकिन इसका कोई फायदा नहीं हुआ।\n",
      "-----------------------------------\n",
      "english sentence: He has benefitted from that.\n",
      "hindi sentence: उसने लाभ कमाया है।\n",
      "model sentence: इससे उन्हें फायदा हुआ है।\n",
      "-----------------------------------\n",
      "english sentence: Just one wrinkle.\n",
      "hindi sentence: सिर्फएकशिकन .\n",
      "model sentence: सिर्फ एक ही लकड़ी है।\n",
      "-----------------------------------\n",
      "english sentence: Failed to list objects:% s\n",
      "hindi sentence: वस्तु सूचीबद्ध करने में विफलः% s\n",
      "model sentence: वस्तु सूचीबद्ध करने में विफलः% s\n",
      "-----------------------------------\n",
      "english sentence: Rs 64 crore were released during 2000 - 01.\n",
      "hindi sentence: वर्ष 2000-2001 के दौरान इस कार्यक्रम मे तहत 64 करोड़ जारी किए गए।\n",
      "model sentence: 2000-01 के दौरान 64 करोड़ रुपये जारी किए गए।\n",
      "-----------------------------------\n",
      "english sentence: The boars are gathering in the forest.\n",
      "hindi sentence: सुअरों जंगल में जमा हो रहे हैं.\n",
      "model sentence: जंगल में बारीकियां जंगल में इकट्ठा हो रही हैं।\n",
      "-----------------------------------\n",
      "english sentence: These reports, however, have not been confirmed by the board.\n",
      "hindi sentence: हालांकि परिषद की ओर से इन आंकड़ों की पुष्टि ⁇  नहीं हो पाई।\n",
      "model sentence: हालांकि, इन रिपोर्टों की पुष्टि नहीं हुई है।\n",
      "-----------------------------------\n",
      "english sentence: Kumar secretly records this information and blackmails him.\n",
      "hindi sentence: कुमार चुपके से इस जानकारी को रिकॉर्ड कर लेता है और उसे ब्लैकमेल करता है।\n",
      "model sentence: कुमार ने कहा कि यह जानकारी और कालेमेल उसे रिकॉर्ड करता है।\n",
      "-----------------------------------\n",
      "english sentence: There are a lot more men, and not just in India, but everywhere else.\n",
      "hindi sentence: ऐसे बहुत सारे पुरुष हैं और ना केवल भारत में बल्कि हर जगह हैं।\n",
      "model sentence: भारत में बहुत से और अधिक लोग हैं, न केवल भारत में बल्कि हर जगह।\n",
      "-----------------------------------\n",
      "english sentence: In ancient times, all the people used to fast on the day of Ekadashi in the area ruled by a king.\n",
      "hindi sentence: प्रचीन काल में एक राजा के राज्य में एकादशी के दिन सभी लोग व्रत रखते थे।\n",
      "model sentence: प्राचीन काल में, सभी लोग एकादशी के दिन में, एकादशी के दिन में प्रचार करते थे।\n",
      "-----------------------------------\n",
      "english sentence: Out of a total of about 230 items in the 28 per cent slab, about 200 items have been shifted to lower slabs.\n",
      "hindi sentence: 28 प्रतिशत की कर श्रेणी की कुल दो सौ तीस वस्तुओं में से करीब दो सौ वस्तुओं को कम दर वाली श्रेणी में लाया गया है।\n",
      "model sentence: 28 प्रतिशत स्लाब में कुल 230 वस्तुओं में से लगभग 200 वस्तुओं को ढाल दिया गया है।\n",
      "-----------------------------------\n",
      "english sentence: If this judgment had come earlier, former Telecom Minister A. Raja would have cited it and moved an appellate court asking for the media to keep out of the 2G spectrum trial.\n",
      "hindi sentence: यदि यह निर्णय पहले आ गया होता तो पूर्व संचार मंत्री ए. राजा ने इसी का हवाला देकर 2जी स्पैक्ट्रम मुकदमे से मीडिया को दूर रखने के लिए पौनर्वादिक न्यायालय की शरण ले ली होती।\n",
      "model sentence: अगर यह फैसला पहले आया था, तो पूर्व दूरसंचार मंत्री ए. राजा ने इसे एक अपील में ले लिया था और 2जी स्पेक्ट्रम परीक्षण को लेकर अपील की थी कि वह अपील की थी।\n",
      "-----------------------------------\n",
      "english sentence: In the cities of Hyderabad, Bhubaneshwar, Ranchi, Raipur, Amravati and Shimla, one or more samples did not comply with the requirements of the Indian Standard.\n",
      "hindi sentence: हैदराबाद, भुवनेश्वर, रांची, रायपुर, अमरावती और शिमला, इन शहरों से लिए गए एक या उस से अधिक नमूने भारतीय मानक के अनुरूप नहीं पाए गए.\n",
      "model sentence: हैदराबाद के शहरों में भारतीय मानक के आवश्यकताओं के अनुरूप नहीं थे।\n",
      "-----------------------------------\n",
      "english sentence: The Gujarat Chief Minister Smt Anandiben Patel met the Minister of state (Independent charge) for Petroleum and Natural Gas Shri Dharmendra Pradhan here today, and discussed the issues between the state and the Centre regarding oil and gas.\n",
      "hindi sentence: गुजरात की मुख्यमंत्री श्रीमती आनंदीबेन पटेल ने आज यहां पेट्रोलियम और प्राकृतिक गैस राज्य मंत्री (स्वतंत्र प्रभार) श्री धर्मेन्द्र प्रधान से मुलाकात की और तेल तथा गैस के संबंध में राज्य एवं केंद्र के बीच मुद्दों पर चर्चा की।\n",
      "model sentence: गुजरात के मुख्यमंत्री श्रीमती आनंदीबेन पटेल ने आज यहां पेट्रोलियम और प्राकृतिक गैस राज्य मंत्री (स्वतंत्र प्रभार) श्री धर्मेंद्र प्रधान के साथ बैठक की और सरकार और केंद्र के बीच मुद्दों पर चर्चा की।\n",
      "-----------------------------------\n",
      "english sentence: Open Basic Education (OBE) Programme for 14  ⁇  years age group, adolescents and adults at A, B and C levels that are equivalent to classes III, V and VIII of the formal school system.\n",
      "hindi sentence: 14  ⁇  आयु समूह के बच्चों किशोरों और प्रौढ़ों के लिए मुक्त बेसिक शिक्षा (ओबीई) कार्यक्रम जिसके, बी और सी स्तर औपचारिक स्कूली शिक्षा को तीसरी पांचवी और आठवीं के समकक्ष हैं।\n",
      "model sentence: 14 से वर्ष की आयु वर्ग के लिए ओपन मूल शिक्षा (ओबीई) कार्यक्रम, ए, बी और सी स्तर पर वयस्क शामिल हैं जो क्लास III, वी और वीआईआईआई के समतुल्य हैं।\n",
      "-----------------------------------\n",
      "english sentence: As per Indian law, except Sikkim, online sports betting is illegal in all territories, said sport and gaming lawyer Vidushpat Singhania, who was the secretary to the Justice Mudgal-led IPL match-fixing probe committee.\n",
      "hindi sentence: खेल और गेमिंग वकील विदुषपत सिंघानिया ने कहा, भारतीय कानून के अनुसार, सिक्किम को छोड़कर, हर जगह ऑनलाइन खेल सट्टेबाजी अवैध है।\n",
      "model sentence: सिक्किम के अलावा, सभी क्षेत्रों में ऑनलाइन खेल सट्टाधना के अलावा खेल और वकील विदुषपत सिंघानिया ने कहा कि न्यायमूर्ति मुडल के नेतृत्व वाली आईपीएल-फिक्सिंग समिति में से सचिव थे।\n",
      "-----------------------------------\n",
      "english sentence: Before the start of each of the four races at the Jawaharlal Nehru Stadium, Tendulkar did 10 push-ups as part of the  ⁇ KeepMoving Push-up Challenge and urged the runners to join him in the exercise.\n",
      "hindi sentence: जवाहरलाल नेहरू स्टेडियम में चार रेस में प्रत्येक के शुरू होने से पहले तेंदुलकर ने ‘कीप मूविंग पुश-अप चैलेंज’ के अंतर्गत 10 पुश-अप किए और धावकों से इसमें उनके साथ जुड़ने का आग्रह किया।\n",
      "model sentence: जवाहरलाल नेहरू स्टेडियम में से प्रत्येक चार रेस की शुरुआत से पहले तेंदुलकर ने कंधा मोविंग पुशपोरिंग पुश-अप के भाग के रूप में 10 रन बना लिए थे और उन्होंने उनसे आग्रह किया कि वे अपने अभ्यास में शामिल हों।\n",
      "-----------------------------------\n",
      "english sentence: Puritan minister Thomas Brooks (1608 - 80) observed: God looks not at the oratory of your prayers, how elegant they may be. nor at the geometry of your prayers, how long they may be. nor at the arithmetic of your prayers, how many they may be. not at logic of your prayers, how methodical they may be. but the sincerity of them he looks at.\n",
      "hindi sentence: प्यूरिटन पादरी थॉमस ब्रुक्स ( ⁇  -  ⁇ ) ने कहा: “परमेश्‍वर आपकी प्रार्थनाओं की वाक्पटुता नहीं देखते, कि ये कितने सुरुचिपूर्ण हैं. न आपकी प्रार्थनाओं की ज्यामिति को देखते, कि ये कितने लम्बे हैं. न आपकी प्रार्थनाओं के अंकगणित को देखते, कि ये कितने ज़्यादा हैं. न आपकी प्रार्थनाओं की तर्कसंगति को देखते, कि ये कितने सिलसिलेवार हैं. पर वह उनकी निष्कपटता को देखते हैं । ”\n",
      "model sentence: पुरीत की मंत्री थॉमस ब्रुक ने कहा: “जो कुछ भी हो, वे प्रार्थनाओं के विषय में नहीं देख पाते, वे कितने ही हो सकते हैं, और अपनी प्रार्थनाओं की जीन में कितने ही हो सकते हैं, वे अपने प्रार्थनाओं की उपासना करते हैं, कितने समय तक वे आपसे हो सकते हैं । ”\n",
      "-----------------------------------\n"
     ]
    }
   ],
   "source": [
    "for i in range(len(decoded)):\n",
    "    print(f\"english sentence: {source_sentence[i]}\")\n",
    "    print(f\"hindi sentence: {actual_decoded[i]}\")\n",
    "    print(f\"model sentence: {decoded[i]}\")\n",
    "    print(\"-----------------------------------\")"
   ]
  },
  {
   "cell_type": "code",
   "execution_count": null,
   "metadata": {},
   "outputs": [],
   "source": [
    "'Following his retirement from international cricket, his future in the T20 leagues was uncertain.', 'अंतरराष्ट्रीय क्रिकेट से संन्यास के बाद, टी 20 लीग में उनका भविष्य अनिश्चित था।', 'अंतरराष्ट्रीय क्रिकेट से संन्यास लेने के बाद, टी20 लीग में भविष्य का पता नहीं चल पाया है।'), \n",
    "(\"In Bihar, the Rashtriya Janata Dal won the Simri-Bakhtiarpur and Belhar seats, the AIMIM's  ⁇ amrul Hoda won in Kishanganj and the ruling Janata Dal-United in the Nathnagar constituency.\", 'बिहार की किशनगंज में एआईएमआईएम, सिमरी बख्तिायारपुर और बेलहर में राष्ट्रीय जनता दल, नाथनगर में जनता दल (यूनाइटेड) और दरौंदा में निर्दलीय उम्मीदवार को जीत मिली।', 'बिहार में राष्ट्रीय जनता दल ने सिमर-बख्तियारपुर और बेल्हर सीट पर जीत हासिल की और एआईएमआईएमआईएम के क्वारुल होडा और नाथनगर सीट पर जनता दल यूनाइटेड में जीत हासिल की।'), \n",
    "(\"India has approved two vaccines Bharat Biotech's Covaxin and Serum Institute of India's Covishield for emergency use in the country.\", 'देश में दो टीकों-कोवैक्सीन और सीरम इंस्टीट्यूट के कोविशील्ड को आपात उपयोग की मंजूरी मिली है।', 'भारत ने देश में आपातकालीन उपयोग के लिए भारत बायोटेक और सेरम इंस्टीट्यूट ऑफ इंडिया के कोविशील्डड को दो टीके को मंजूरी दी है।'), ('Police arrested two kidnappers in the case.', 'मामले में पुलिस ने दो फैक्ट्रियों पर छापा मारते हुए दो मिलावटखोरों को गिरफ्तार कर लिया।', 'पुलिस ने इस मामले में दो बदमाशों को गिरफ्तार कर लिया है।'), ('Or is it because you feel that the other person deliberately attempted to hurt you?', 'या क्या आपको लगता है कि किसी ने जानबूझकर आपको चोट पहुँचायी है?', 'या क्या आपने महसूस किया कि दूसरे व्यक्ति ने आपको चोट पहुंचाने का प्रयास किया?'), ('A note regarding transfer of indent.', 'मांग पत्र को हस्तांतरित करने वाला नोट (ज्ञापन)।', 'अनंतकालीन के बारे में कोई जानकारी।'), \n",
    "('On the India-US call for maritime freedom in the Indo-Pacific region Hua said, About the security navigation in the sea, we uphold the legal rights entitled in the international law and we also hope parties can do real things to ensure freedom of navigation.', 'भारत-प्रशांत क्षेत्र में समुद्री स्वतंत्रता के लिए भारत-अमेरिका के आह्वान के संदर्भ में हुआ ने कहा कि समुद्र में सुरक्षा नौवहन के बारे में हम अंतरराष्ट्रीय कानून में उल्लेखित कानूनी अधिकारों को कायम रखेंगे और हम यह उम्मीद भी करते हैं कि नौवहन स्वतंत्रता के लिए पक्ष वास्तविक काम करें।’’', 'भारत-अमेरिका के भारत-अमेरिका के लिए समुद्री स्वतंत्रता की अपील पर हुवा ने कहा, समुद्र में सुरक्षा नौवहन के बारे में हम अंतरराष्ट्रीय कानून में दायर कानूनी अधिकारों को बनाए रखते हैं और हम उम्मीद कर सकते हैं कि पक्ष ने भी सिंचाई की स्वतंत्रता सुनिश्चित करने के लिए वास्तविक चीजें कर सकते हैं।'), ('On receiving the information, the police reached the spot and shifted the body to the hospital for post-mortem.', 'सूचना मिलते ही पुलिस घटना स्थल पर पहुंच गई और शव को पोस्टमार्टम के लिए अस्पताल भेज दिया।', 'सूचना मिलते ही मौके पर पहुंची पुलिस ने शव को कब्जे में लेकर पोस्टमार्टम के लिए अस्पताल पहुंचाया।'), ('In response to a question about democratic socialism ultimately calling for an end to capitalism during a Firing Line interview on PBS, she answered: \"Ultimately, we are marching towards progress on this issue.', 'लोकतांत्रिक समाजवाद के बारे में एक सवाल के जवाब में अंततः पीबीएस पर एक फायरिंग लाइन साक्षात्कार के दौरान पूंजीवाद को समाप्त करने का आह्वान किया, उसने जवाब दिया: \"आखिरकार, हम इस मुद्दे पर प्रगति की ओर अग्रसर हैं।', 'पीबीएस पर फायरिंग लाइन साक्षात्कार के दौरान लोकतांत्रिक सामाजिकता के बारे में एक सवाल के जवाब में उन्होंने कहा, \"पिछले ही हम इस मुद्दे पर प्रगति की ओर बढ़ रहे हैं।'), ('Organic manure covers manure made from cattle dung, excreta of other animals, rural and urban composts, other animal wastes, crop residues and green manures.', 'जैविक खाद में मवेशी के गोबर, जानवरों के अपशिष्ट, ग्रामीण और शहरी कम्पोस्ट, अन्य पशु अवशिष्ट, फसलों के अपशिष्ट और हरे खाद शामिल हैं।', 'जैविक मानवता के सहकर्मी, पशु धुँध, ग्रामीण और शहरी पदार्थों, अन्य जानवरों, फसलों और हरे हुए लोगों से भरी हुई।'), ('New Delhi: The Honourable Supreme Court has given its verdict on the Ayodhya issue.', 'नई दिल्ली: अयोध्या मामले को लेकर सुप्रीम कोर्ट से बड़ी खबर आई है.', 'नई दिल्ली: सुप्रीम कोर्ट ने अयोध्या मुद्दे पर अपना फैसला सुनाया है।'), (\"India will be 5 trillion dollar economy by 2024: PM Modi at NITI Aayog's meet\", 'BRICS: बिजनेस फोरम में PM मोदी बोले- 2024 तक 5 ट्रिलियन डॉलर होगी इकोनॉमी', 'नीति आयोग की बैठक में भारत 5 ट्रिलियन डॉलर की अर्थव्यवस्था होगी : पीएम मोदी'), \n",
    "('Thereafter, a ruckus ensued.', 'इसके बाद हडकम्प मच गया।', 'इसके बाद एक रुक गया।')"
   ]
  },
  {
   "cell_type": "markdown",
   "metadata": {},
   "source": [
    "## Attention Visualisation"
   ]
  },
  {
   "cell_type": "code",
   "execution_count": 18,
   "metadata": {},
   "outputs": [],
   "source": [
    "from attention_visualisation import get_attention\n"
   ]
  },
  {
   "cell_type": "code",
   "execution_count": 19,
   "metadata": {},
   "outputs": [
    {
     "ename": "NameError",
     "evalue": "name 'inference_data' is not defined",
     "output_type": "error",
     "traceback": [
      "\u001b[0;31m---------------------------------------------------------------------------\u001b[0m",
      "\u001b[0;31mNameError\u001b[0m                                 Traceback (most recent call last)",
      "Cell \u001b[0;32mIn[19], line 1\u001b[0m\n\u001b[0;32m----> 1\u001b[0m batch \u001b[38;5;241m=\u001b[39m \u001b[38;5;28mnext\u001b[39m(\u001b[38;5;28miter\u001b[39m(\u001b[43minference_data\u001b[49m))\n\u001b[1;32m      2\u001b[0m attention_dicts \u001b[38;5;241m=\u001b[39m get_attention(model, batch)\n",
      "\u001b[0;31mNameError\u001b[0m: name 'inference_data' is not defined"
     ]
    }
   ],
   "source": [
    "batch = next(iter(inference_data))\n",
    "attention_dicts = get_attention(model, batch)"
   ]
  },
  {
   "cell_type": "code",
   "execution_count": 193,
   "metadata": {},
   "outputs": [
    {
     "data": {
      "text/plain": [
       "torch.Size([20, 4, 140, 140])"
      ]
     },
     "execution_count": 193,
     "metadata": {},
     "output_type": "execute_result"
    }
   ],
   "source": [
    "# attention_dict --> (batch x n_heads x seq_len x seq_len)\n",
    "\n",
    "import torch\n",
    "import torch.nn as nn\n",
    "import matplotlib.pyplot as plt\n",
    "import numpy as np\n",
    "\n",
    "def process_and_visualise_attention(attentions, pixel_values, patch_size, threshold=0.6, raw_attn=False):    \n",
    "    # Extract the CLS token attention (first token attending to all patches)    \n",
    "    nh = attentions.shape[0]  # Number of attention heads\n",
    "    attentions = attentions[:, 0, 1:].reshape(nh, -1)\n",
    "    \n",
    "    w_featmap = pixel_values.shape[-2] // patch_size\n",
    "    h_featmap = pixel_values.shape[-1] // patch_size\n",
    "    \n",
    "    val, idx = torch.sort(attentions)  # Sort values per query\n",
    "    val /= torch.sum(val, dim=1, keepdim=True)  # Normalize each col to sum to 1\n",
    "    cumval = torch.cumsum(val, dim=1)  # Compute cumulative sum\n",
    "    th_attn = cumval > (1 - threshold)  # Mask for top 'threshold' percentage\n",
    "    idx2 = torch.argsort(idx)\n",
    "    \n",
    "    for head in range(nh):\n",
    "        th_attn[head] = th_attn[head][idx2[head]]\n",
    "\n",
    "    th_attn = th_attn.reshape(nh, w_featmap, h_featmap).float()\n",
    "    th_attn = nn.functional.interpolate(\n",
    "        th_attn.unsqueeze(0), scale_factor=patch_size, mode=\"bicubic\"\n",
    "    )[0].cpu().detach().numpy()\n",
    "\n",
    "    attentions = attentions.reshape(nh, w_featmap, h_featmap)\n",
    "    attentions = nn.functional.interpolate(\n",
    "        attentions.unsqueeze(0), scale_factor=patch_size, mode=\"bicubic\"\n",
    "    )[0].cpu().detach().numpy()\n",
    "\n",
    "    image_np = pixel_values.permute(1, 2, 0).cpu().numpy()  # Shape: (H, W, C)\n",
    "    image_np = (image_np - image_np.min()) / (image_np.max() - image_np.min())  # Normalize to [0,1]\n",
    "    \n",
    "    num_rows = 6 if raw_attn else 3  # Adjust number of rows based on raw_attn\n",
    "    num_cols = 4  # Fixed number of columns\n",
    "    figsize = (num_cols * 4, num_rows * 3)  # Adjust figure size dynamically\n",
    "\n",
    "    fig, axes = plt.subplots(nrows=num_rows, ncols=num_cols, figsize=figsize)\n",
    "    \n",
    "    for head in range(12):  # Iterate over all heads\n",
    "        row = head // num_cols  # Calculate row index\n",
    "        col = head % num_cols   # Calculate column index\n",
    "        \n",
    "        ax = axes[row, col]\n",
    "        ax.imshow(image_np)\n",
    "        ax.imshow(th_attn[head], cmap=\"jet\", alpha=0.4)\n",
    "        ax.set_title(f\"Head {head}\")\n",
    "        ax.axis(\"off\")\n",
    "    \n",
    "    plt.tight_layout()\n",
    "    plt.show()\n"
   ]
  },
  {
   "cell_type": "markdown",
   "metadata": {},
   "source": [
    "## Metrics Calculations"
   ]
  },
  {
   "cell_type": "code",
   "execution_count": 1,
   "metadata": {},
   "outputs": [],
   "source": [
    "%load_ext autoreload\n",
    "%autoreload 2"
   ]
  },
  {
   "cell_type": "code",
   "execution_count": 4,
   "metadata": {},
   "outputs": [],
   "source": [
    "from metrics import corpus_bleu, sentence_bleu"
   ]
  },
  {
   "cell_type": "code",
   "execution_count": 11,
   "metadata": {},
   "outputs": [
    {
     "name": "stdout",
     "output_type": "stream",
     "text": [
      "generated 1 more sentences\n"
     ]
    },
    {
     "data": {
      "text/plain": [
       "0.3967088290836577"
      ]
     },
     "execution_count": 11,
     "metadata": {},
     "output_type": "execute_result"
    }
   ],
   "source": [
    "original_sentence_1 = \"प्रचीन काल में एक राजा के राज्य में एकादशी के दिन सभी लोग व्रत रखते थे।\"\n",
    "model_sentence_1 = \"प्राचीन काल में, सभी लोग एकादशी के दिन में, एकादशी के दिन में प्रचार करते थे।\"\n",
    "sentence_bleu([original_sentence_1], model_sentence_1, generate_more=True)"
   ]
  },
  {
   "cell_type": "code",
   "execution_count": 12,
   "metadata": {},
   "outputs": [
    {
     "name": "stdout",
     "output_type": "stream",
     "text": [
      "generated 1 more sentences\n"
     ]
    }
   ],
   "source": [
    "original_sentence = 'भारत-प्रशांत क्षेत्र में समुद्री स्वतंत्रता के लिए भारत-अमेरिका के आह्वान के संदर्भ में हुआ ने कहा कि समुद्र में सुरक्षा नौवहन के बारे में हम अंतरराष्ट्रीय कानून में उल्लेखित कानूनी अधिकारों को कायम रखेंगे और हम यह उम्मीद भी करते हैं कि नौवहन स्वतंत्रता के लिए पक्ष वास्तविक काम करें।' \n",
    "original_sentence_mod = \"उन्होंने कहा कि भारत-ऑस्ट्रेलिया के बीच समुद्री सुरक्षा के संबंध में भारत और अमेरिका के बीच सहमति बनी है।\"\n",
    "model_sentence = 'भारत-अमेरिका के भारत-अमेरिका के लिए समुद्री स्वतंत्रता की अपील पर हुवा ने कहा, समुद्र में सुरक्षा नौवहन के बारे में हम अंतरराष्ट्रीय कानून में दायर कानूनी अधिकारों को बनाए रखते हैं और हम उम्मीद कर सकते हैं कि पक्ष ने भी सिंचाई की स्वतंत्रता सुनिश्चित करने के लिए वास्तविक चीजें कर सकते हैं।'\n",
    "a = sentence_bleu([original_sentence, original_sentence_mod], model_sentence, generate_more=False)\n",
    "b = corpus_bleu([[original_sentence, original_sentence_mod]], [model_sentence])"
   ]
  },
  {
   "cell_type": "code",
   "execution_count": 13,
   "metadata": {},
   "outputs": [],
   "source": [
    "t1 = corpus_bleu([[original_sentence, original_sentence_mod]], [model_sentence], raw_values=True)\n",
    "t2 = corpus_bleu([[original_sentence_1]], [model_sentence_1], raw_values=True)"
   ]
  },
  {
   "cell_type": "code",
   "execution_count": 20,
   "metadata": {},
   "outputs": [],
   "source": [
    "new_num = t1[0] + t2[0]\n",
    "new_denom = t1[1] + t2[1]\n",
    "new_ref = t1[3] + t2[3]\n",
    "new_cand = t1[2] + t2[2]"
   ]
  },
  {
   "cell_type": "code",
   "execution_count": 22,
   "metadata": {},
   "outputs": [],
   "source": [
    "from metrics import brevity_penality"
   ]
  },
  {
   "cell_type": "code",
   "execution_count": 25,
   "metadata": {},
   "outputs": [
    {
     "data": {
      "text/plain": [
       "0.264586891307893"
      ]
     },
     "execution_count": 25,
     "metadata": {},
     "output_type": "execute_result"
    }
   ],
   "source": [
    "import numpy as np\n",
    "bp = brevity_penality(new_cand, new_ref)\n",
    "pn = [new_num[i] / new_denom[i] if new_denom[i] > 0 else 0 for i in range(1, 5)]\n",
    "log_sum = sum([w * np.log(p) if p > 0 else 0 for w,p in zip((0.25, 0.25, 0.25, 0.25), pn)])\n",
    "bp * np.exp(log_sum)\n"
   ]
  },
  {
   "cell_type": "code",
   "execution_count": 13,
   "metadata": {},
   "outputs": [],
   "source": [
    "import json\n",
    "import glob\n",
    "import os\n",
    "combined_data = []\n",
    "\n",
    "# Construct a file pattern to search for JSON files in the input folder\n",
    "json_files = glob.glob(os.path.join(\"../data/en-hi/\", '*.json'))\n",
    "\n",
    "for file in json_files:\n",
    "    try:\n",
    "        with open(file, 'r', encoding='utf-8') as f:\n",
    "            data = json.load(f)\n",
    "            combined_data.extend(data)\n",
    "            # print(data)\n",
    "    except json.JSONDecodeError as e:\n",
    "        print(f\"Error decoding JSON from {file}: {e}\")\n",
    "    except Exception as e:\n",
    "        print(f\"An error occurred reading {file}: {e}\")\n",
    "\n",
    "# Write the combined data to the output file\n",
    "\n",
    "with open(\"../data/en-hi/test.json\", 'w') as f:\n",
    "    json.dump(combined_data, f, indent=4)\n"
   ]
  },
  {
   "cell_type": "code",
   "execution_count": 16,
   "metadata": {},
   "outputs": [
    {
     "data": {
      "text/plain": [
       "0.264586891307893"
      ]
     },
     "execution_count": 16,
     "metadata": {},
     "output_type": "execute_result"
    }
   ],
   "source": [
    "corpus_bleu([[original_sentence, original_sentence_mod], [original_sentence_1]], [model_sentence, model_sentence_1])"
   ]
  },
  {
   "cell_type": "code",
   "execution_count": null,
   "metadata": {},
   "outputs": [],
   "source": [
    "## pipeline\n",
    "\n",
    "# read data from the relevant file and only enough rows as specified\n",
    "# get the corresponding hindi ref sentences as well using the json \n",
    "# batch process them and generate model sentence for the whole batch\n",
    "# pass the rel ref sentences and translated hindi sentences to corpus_bleu and get the raw values\n",
    "# add the raw values to existing values and then return the summed total raw values write this to some file?\n",
    "# get a master file thats whole purpose is to read a dir and update its master values with the file values, and then delete that file \n",
    "# print or write the file value to some implementation. \n",
    "\n",
    "\n",
    "## Future Thoughts\n",
    "# Build that visualiser for attention heads\n",
    "# build some abalation pipeline ? \n",
    "# be able to run experiments keeping the number of total parameters constant but changing number of heads etc or should I keep\n",
    "# change the variable while keeping the rest of the config params constant"
   ]
  },
  {
   "cell_type": "code",
   "execution_count": 17,
   "metadata": {},
   "outputs": [
    {
     "name": "stdout",
     "output_type": "stream",
     "text": [
      "generated 1 more sentences\n"
     ]
    },
    {
     "data": {
      "text/plain": [
       "0.43759047241829613"
      ]
     },
     "execution_count": 17,
     "metadata": {},
     "output_type": "execute_result"
    }
   ],
   "source": [
    "original_sentence =  'देश में दो टीकों-कोवैक्सीन और सीरम इंस्टीट्यूट के कोविशील्ड को आपात उपयोग की मंजूरी मिली है।'\n",
    "model_sentence = 'भारत ने देश में आपातकालीन उपयोग के लिए भारत बायोटेक और सेरम इंस्टीट्यूट ऑफ इंडिया के कोविशील्डड को दो टीके को मंजूरी दी है।'\n",
    "sentence_bleu([original_sentence], model_sentence, generate_more=True)"
   ]
  },
  {
   "cell_type": "markdown",
   "metadata": {},
   "source": [
    "## Testing Scores"
   ]
  },
  {
   "cell_type": "code",
   "execution_count": 14,
   "metadata": {},
   "outputs": [
    {
     "data": {
      "text/plain": [
       "<All keys matched successfully>"
      ]
     },
     "execution_count": 14,
     "metadata": {},
     "output_type": "execute_result"
    }
   ],
   "source": [
    "from collections import OrderedDict\n",
    "checkpoint = torch.load(\"../papers/attention_is_all_you_need/Models/hindi_model_small_full_5/Model_230\", map_location=torch.device(\"cpu\"))\n",
    "checkpoint['model_state_dict'] = OrderedDict((k.replace(\"module.\", \"\"), v) for k, v in checkpoint['model_state_dict'].items())\n",
    "model.load_state_dict(checkpoint['model_state_dict'])"
   ]
  },
  {
   "cell_type": "code",
   "execution_count": 15,
   "metadata": {},
   "outputs": [],
   "source": [
    "import sentencepiece as spm\n",
    "sp = spm.SentencePieceProcessor(model_file=\"../papers/attention_is_all_you_need/BPE/en-hi.model\")\n",
    "# model_prediction(model, None, config['SEQ_LEN'], device, sp.bos_id(), sp.eos_id(), sp.pad_id())"
   ]
  },
  {
   "cell_type": "code",
   "execution_count": 111,
   "metadata": {},
   "outputs": [],
   "source": [
    "class LanguageTranslationDataset(Dataset):\n",
    "    def __init__(self, seq_length, src_encodings, tgt_encodings, sos_token, eos_token, pad_token):\n",
    "        super().__init__()\n",
    "        self.paired_encodings = LanguageTranslationDataset.augment_encodings(src_encodings, tgt_encodings, sos_token, eos_token)\n",
    "        self.seq_len = seq_length\n",
    "        self.pad_token = pad_token\n",
    "\n",
    "    @staticmethod\n",
    "    def augment_encodings(src_encodings, tgt_encodings, sos_token, eos_token):\n",
    "        src_encodings_app = [[sos_token] + sublist + [eos_token] for sublist in src_encodings]\n",
    "        tgt_encodings_app = [[sos_token] + sublist for sublist in tgt_encodings]\n",
    "        output_encodings = [sublist + [eos_token] for sublist in tgt_encodings] \n",
    "        full_encoding = list(zip(src_encodings_app, tgt_encodings_app, output_encodings))\n",
    "        # full_encoding.sort(key=lambda x: len(x[0])) # sort sequence lengths\n",
    "        return full_encoding\n",
    "\n",
    "\n",
    "    def __getitem__(self, idx):\n",
    "            src_seq, tgt_seq, output_seq = self.paired_encodings[idx]\n",
    "            # print(src_seq)\n",
    "            \n",
    "            # Convert to tensors\n",
    "            src_tensor = torch.tensor(src_seq, dtype=torch.long)\n",
    "            tgt_tensor = torch.tensor(tgt_seq, dtype=torch.long)\n",
    "            output_tensor = torch.tensor(output_seq, dtype=torch.long)\n",
    "\n",
    "            # **Ensure the sequence length does not exceed `seq_len`**\n",
    "            if src_tensor.size(0) > self.seq_len:\n",
    "                src_tensor = src_tensor[:self.seq_len]  # Crop excess tokens\n",
    "            if tgt_tensor.size(0) > self.seq_len:\n",
    "                tgt_tensor = tgt_tensor[:self.seq_len]  # Crop excess tokens\n",
    "            if output_tensor.size(0) > self.seq_len:\n",
    "                output_tensor = output_tensor[:self.seq_len]  # Crop excess tokens\n",
    "\n",
    "            # **Pad sequences to `seq_len` if they are shorter**\n",
    "            src_tensor = F.pad(src_tensor, (0, max(0, self.seq_len - src_tensor.size(0))), value=self.pad_token)\n",
    "            tgt_tensor = F.pad(tgt_tensor, (0, max(0, self.seq_len - tgt_tensor.size(0))), value=self.pad_token)\n",
    "            output_tensor = F.pad(output_tensor, (0, max(0, self.seq_len - output_tensor.size(0))), value=self.pad_token)\n",
    "            encoder_mask = (src_tensor != self.pad_token).int()\n",
    "            subsequent_mask = torch.tril(torch.ones((self.seq_len, self.seq_len), dtype=torch.int))\n",
    "            padding_mask = (tgt_tensor != self.pad_token).int()\n",
    "            decoder_mask = subsequent_mask & padding_mask.unsqueeze(0)\n",
    "\n",
    "\n",
    "\n",
    "            return {\n",
    "                \"src\": src_tensor, # Seq_len\n",
    "                \"tgt\": tgt_tensor, # seq_len\n",
    "                \"output\": output_tensor, # seq_len\n",
    "                \"encoder_mask\" : encoder_mask.unsqueeze(0).unsqueeze(0), # 1 x 1 x seq_len\n",
    "                \"decoder_mask\" : decoder_mask.unsqueeze(0), # 1 x seq_len x seq_len\n",
    "            }\n",
    "    def __len__(self): \n",
    "            return len(self.paired_encodings)\n",
    "        "
   ]
  },
  {
   "cell_type": "code",
   "execution_count": 101,
   "metadata": {},
   "outputs": [],
   "source": [
    "import itertools\n",
    "def get_data(datapath, ref_datapath, skiprows, amount, sp):\n",
    "    english_sentences = pd.read_table(Path(datapath) /  \"english_small.txt\",  header=None, skiprows=skiprows, nrows=amount)\n",
    "    english_encoded = sp.encode_as_ids(english_sentences.iloc[:, 0].to_list())\n",
    "    with open(ref_datapath / \"test.json\", 'r') as f:\n",
    "        ref_sentences = json.load(f)\n",
    "    ref_sentences = ref_sentences[ : amount]\n",
    "    encoding_hindi = list(itertools.chain.from_iterable(ref_sentences))\n",
    "    # assert len(english_encoded) == len(ref_sentences)\n",
    "    hindi_encoded = sp.encode_as_ids(encoding_hindi)[:amount]\n",
    "    return english_sentences, english_encoded, hindi_encoded, ref_sentences"
   ]
  },
  {
   "cell_type": "code",
   "execution_count": 102,
   "metadata": {},
   "outputs": [],
   "source": [
    "def get_dataloaders(sp, english_encoded, tgt_encoded, amount):\n",
    "    full_data = LanguageTranslationDataset(seq_length=config['SEQ_LEN'], src_encodings=english_encoded, tgt_encodings=tgt_encoded, sos_token=sp.bos_id(), eos_token=sp.eos_id(),\n",
    "                                        pad_token=sp.pad_id())\n",
    "    dataloader = DataLoader(full_data, batch_size=amount, pin_memory=True, shuffle=False)\n",
    "    return full_data, dataloader"
   ]
  },
  {
   "cell_type": "code",
   "execution_count": 103,
   "metadata": {},
   "outputs": [],
   "source": [
    "def model_prediction(model, batch, max_len, device, sos_token, eos_token, pad_token):\n",
    "    underlying_model = model.module if hasattr(model, 'module') else model\n",
    "\n",
    "    encoder_input = batch['src'].to(device)  # B x seq_len\n",
    "    encoder_mask = batch['encoder_mask'].to(device)  # B x 1 x 1 x seq_len\n",
    "    encoder_output = underlying_model.encode(encoder_input, encoder_mask)\n",
    "\n",
    "    B = encoder_input.size(0)\n",
    "    decoder_input = torch.full((B, max_len), pad_token).to(device)\n",
    "    decoder_input[:, 0] = sos_token\n",
    "    finished = torch.zeros(B, dtype=torch.bool, device=device)\n",
    "\n",
    "    for t in range(max_len - 1):\n",
    "        subsequent_mask = torch.tril(torch.ones((max_len, max_len), dtype=torch.int)).expand(B, -1, -1).to(device)\n",
    "        other_mask = (decoder_input != pad_token).int().unsqueeze(1)\n",
    "        decoder_mask = (subsequent_mask & other_mask).unsqueeze(1).to(device)\n",
    "        out = underlying_model.decode(decoder_input, encoder_output, encoder_mask, decoder_mask)\n",
    "        prediction = underlying_model.proj(out)  # shape: (B, max_len, vocab_size)\n",
    "        next_tokens = torch.argmax(prediction[:, t, :], dim=-1)\n",
    "        next_tokens = torch.where(finished, pad_token, next_tokens)\n",
    "        decoder_input[:, t + 1] = next_tokens\n",
    "        finished |= (next_tokens == eos_token)\n",
    "        if finished.all():\n",
    "            break\n",
    "\n",
    "    return decoder_input"
   ]
  },
  {
   "cell_type": "code",
   "execution_count": 104,
   "metadata": {},
   "outputs": [],
   "source": [
    "import json\n",
    "english_sentences, english_encoded, hindi_encoded, ref_sentences = get_data(Path(\"../data/en-hi/\"), Path(\"../data/en-hi/\"), skiprows=1_000, amount=1024, sp=sp)"
   ]
  },
  {
   "cell_type": "code",
   "execution_count": 105,
   "metadata": {},
   "outputs": [],
   "source": [
    "test, dataloader = get_dataloaders(sp, english_encoded, hindi_encoded, 32)"
   ]
  },
  {
   "cell_type": "code",
   "execution_count": 112,
   "metadata": {},
   "outputs": [
    {
     "name": "stderr",
     "output_type": "stream",
     "text": [
      "0it [00:00, ?it/s]"
     ]
    },
    {
     "name": "stdout",
     "output_type": "stream",
     "text": [
      "[1, 172, 1965, 54, 44, 3462, 7937, 258, 598, 794, 5071, 50, 14, 3521, 2823, 7959, 2]\n",
      "[1, 1898, 114, 5978, 61, 544, 1092, 1375, 6837, 7899, 2]\n",
      "[1, 97, 445, 442, 151, 1565, 661, 3278, 5414, 254, 26, 3050, 118, 7872, 235, 7870, 1962, 7942, 2682, 3098, 44, 14, 1009, 65, 2]\n",
      "[1, 104, 5032, 302, 328, 7897, 254, 365, 228, 7, 1699, 44, 645, 2797, 5600, 7899, 2]\n",
      "[1, 97, 954, 136, 7861, 210, 3023, 241, 1790, 7825, 37, 228, 5727, 1062, 7, 2797, 2042, 642, 1684, 7864, 342, 44, 733, 1325, 276, 3262, 86, 7975, 7978, 329, 304, 221, 16, 61, 733, 5503, 7935, 1237, 5414, 97, 4859, 116, 3452, 3533, 1079, 7846, 642, 61, 3539, 503, 4613, 40, 6467, 44, 14, 5975, 4381, 5778, 7899, 2]\n",
      "[1, 104, 5786, 5947, 441, 7906, 7935, 7893, 538, 228, 383, 4611, 148, 14, 6014, 44, 14, 1665, 118, 338, 7862, 7893, 7959, 7986, 7986, 7890, 1387, 7864, 7899, 7865, 69, 7899, 8, 7986, 7974, 250, 7935, 7860, 1745, 69, 7935, 7884, 826, 169, 7942, 61, 7771, 239, 654, 7870, 311, 2611, 44, 2438, 148, 2207, 222, 7283, 44, 5309, 44, 975, 250, 350, 7937, 1887, 2]\n",
      "[1, 448, 5087, 261, 7, 4150, 3330, 7899, 2]\n",
      "[1, 380, 536, 14, 4867, 1328, 4086, 7897, 43, 90, 7955, 3692, 6557, 1699, 44, 3310, 406, 1132, 57, 465, 5, 140, 865, 1654, 103, 4076, 61, 2844, 7899, 2]\n",
      "[1, 6723, 981, 240, 5673, 61, 103, 129, 280, 2258, 302, 1078, 7899, 2]\n",
      "[1, 172, 116, 7978, 7937, 502, 1248, 2971, 14, 7402, 61, 729, 357, 6360, 7870, 50, 261, 5043, 1774, 2338, 687, 44, 14, 6985, 187, 254, 502, 1332, 1006, 50, 3564, 2]\n",
      "[1, 86, 1806, 54, 14, 49, 3773, 148, 845, 6261, 185, 490, 3540, 187, 1127, 432, 44, 1158, 129, 7864, 342, 257, 133, 414, 7607, 3354, 3953, 5190, 254, 231, 7, 876, 7906, 335, 369, 7899, 2]\n",
      "[1, 1311, 444, 979, 100, 1238, 329, 109, 7865, 522, 25, 7897, 4873, 164, 22, 2124, 330, 1613, 102, 768, 795, 1790, 7897, 2508, 141, 36, 3902, 3163, 5448, 6976, 57, 645, 5617, 883, 275, 365, 72, 274, 2657, 14, 1653, 1023, 44, 4707, 145, 7900, 124, 7899, 2]\n",
      "[1, 97, 826, 779, 1325, 1811, 625, 1265, 337, 57, 1254, 864, 14, 2017, 7899, 2]\n",
      "[1, 380, 7954, 3265, 2925, 2186, 636, 164, 4543, 2475, 14, 149, 7943, 7937, 187, 1375, 887, 298, 3984, 90, 687, 134, 3032, 4372, 4847, 61, 2607, 254, 269, 2139, 7899, 2]\n",
      "[1, 1317, 544, 298, 1538, 44, 43, 7561, 5799, 1216, 16, 848, 269, 869, 5, 353, 1674, 7897, 859, 114, 2139, 1293, 7897, 57, 328, 114, 622, 7877, 889, 1293, 7897, 50, 2489, 61, 895, 77, 123, 310, 57, 892, 1178, 1867, 519, 61, 1078, 7899, 541, 690, 512, 895, 77, 123, 310, 57, 892, 1178, 1867, 519, 61, 1078, 258, 298, 333, 7884, 5350, 7899, 2]\n",
      "[1, 849, 3355, 4287, 60, 5463, 50, 2175, 4490, 280, 7892, 2]\n",
      "[1, 1317, 14, 2907, 60, 739, 448, 5895, 134, 118, 7946, 25, 7942, 6039, 1361, 7897, 2]\n",
      "[1, 5882, 858, 228, 897, 2621, 5678, 61, 2438, 228, 14, 2363, 342, 538, 2]\n",
      "[1, 1630, 258, 103, 261, 7890, 1387, 1101, 44, 123, 2937, 141, 57, 546, 954, 50, 1707, 7899, 2]\n",
      "[1, 2241, 324, 2668, 7959, 5723, 4068, 444, 5680, 3608, 38, 4002, 117, 812, 40, 104, 1306, 2]\n",
      "[1, 7289, 1410, 5262, 44, 4168, 1378, 55, 3692, 1386, 7897, 179, 710, 176, 228, 383, 4168, 1328, 7899, 2]\n",
      "[1, 172, 6806, 240, 3308, 465, 2682, 4460, 3998, 61, 6426, 1061, 6023, 109, 69, 239, 14, 7463, 2928, 755, 50, 14, 819, 7899, 2]\n",
      "[1, 1317, 14, 43, 280, 250, 2065, 7866, 739, 258, 103, 7997, 187, 14, 1748, 359, 44, 1350, 103, 3061, 784, 1235, 185, 1024, 103, 1829, 14, 123, 7864, 1424, 7899, 2]\n",
      "[1, 50, 2426, 111, 2602, 2]\n",
      "[1, 1635, 254, 34, 955, 7870, 354, 2073, 7976, 99, 7952, 597, 2957, 354, 7899, 2]\n",
      "[1, 172, 992, 228, 383, 2123, 2912, 2213, 6151, 302, 1316, 707, 44, 733, 5080, 7899, 2]\n",
      "[1, 7092, 7962, 7962, 7937, 7946, 149, 7985, 97, 7946, 7962, 117, 7944, 6848, 2391, 7962, 7948, 7925, 442, 7964, 5755, 4044, 7930, 7897, 86, 7946, 7944, 7926, 117, 7944, 4258, 7930, 7943, 102, 7975, 7954, 7946, 5534, 7957, 7962, 7962, 104, 7925, 97, 7946, 7962, 186, 7926, 5781, 7968, 7948, 7945, 289, 7975, 2203, 7966, 7962, 7962, 6795, 7966, 7962, 7943, 7944, 7930, 3797, 7968, 7948, 7922, 442, 7964, 350, 7948, 7950, 6139, 7962, 5534, 6139, 7950, 350, 0, 7934, 7968, 7944, 7925, 117, 6964, 7932, 7968, 3797, 7968, 7948, 2949, 7975, 7948, 7937, 7926, 7966, 442, 7964, 5755, 4044, 7930, 2065, 7962, 7962, 7934, 7937, 5755, 4044, 7930, 7997, 2]\n",
      "[1, 26, 1753, 258, 6092, 7884, 7047, 14, 3229, 44, 14, 6215, 1876, 297, 442, 5188, 7897, 512, 4436, 7, 6627, 7915, 559, 44, 14, 1702, 4000, 864, 14, 86, 340, 4701, 4331, 873, 875, 1313, 63, 57, 4192, 7893, 4348, 44, 2241, 7862, 4704, 279, 2510, 57, 7522, 207, 102, 537, 2948, 123, 1326, 7864, 134, 14, 3229, 44, 14, 6215, 3521, 3978, 7870, 269, 209, 7937, 102, 7877, 1698, 512, 1823, 5299, 2821, 51, 90, 7877, 72, 2441, 234, 5350, 865, 50, 14, 1465, 7899, 2]\n",
      "[1, 1532, 240, 123, 2459, 218, 7899, 2]\n",
      "[1, 1303, 1615, 365, 3156, 14, 2138, 7899, 2]\n",
      "[1, 172, 1595, 36, 3490, 34, 3812, 224, 375, 7344, 439, 2850, 57, 5152, 1244, 14, 29, 865, 44, 7, 2992, 49, 2739, 5696, 7, 2213, 123, 3049, 44, 20, 810, 50, 14, 2613, 141, 759, 465, 43, 135, 217, 2115, 544, 298, 148, 187, 2646, 410, 7869, 1550, 372, 29, 3682, 7897, 362, 1596, 526, 2921, 43, 194, 249, 57, 2863, 134, 7870, 655, 465, 3066, 30, 711, 60, 656, 7899, 2]\n",
      "[1, 933, 99, 2475, 354, 7899, 2]\n"
     ]
    },
    {
     "name": "stderr",
     "output_type": "stream",
     "text": [
      "0it [00:03, ?it/s]\n"
     ]
    },
    {
     "ename": "KeyboardInterrupt",
     "evalue": "",
     "output_type": "error",
     "traceback": [
      "\u001b[0;31m---------------------------------------------------------------------------\u001b[0m",
      "\u001b[0;31mKeyboardInterrupt\u001b[0m                         Traceback (most recent call last)",
      "Cell \u001b[0;32mIn[112], line 7\u001b[0m\n\u001b[1;32m      5\u001b[0m cand_len \u001b[38;5;241m=\u001b[39m \u001b[38;5;241m0\u001b[39m\n\u001b[1;32m      6\u001b[0m \u001b[38;5;28;01mfor\u001b[39;00m idx, batch \u001b[38;5;129;01min\u001b[39;00m tqdm(\u001b[38;5;28menumerate\u001b[39m(dataloader)):\n\u001b[0;32m----> 7\u001b[0m     pred \u001b[38;5;241m=\u001b[39m \u001b[43mmodel_prediction\u001b[49m\u001b[43m(\u001b[49m\u001b[43mmodel\u001b[49m\u001b[43m,\u001b[49m\u001b[43m \u001b[49m\u001b[43mbatch\u001b[49m\u001b[43m,\u001b[49m\u001b[43m \u001b[49m\u001b[38;5;241;43m140\u001b[39;49m\u001b[43m,\u001b[49m\u001b[43m \u001b[49m\u001b[38;5;124;43m\"\u001b[39;49m\u001b[38;5;124;43mcpu\u001b[39;49m\u001b[38;5;124;43m\"\u001b[39;49m\u001b[43m,\u001b[49m\u001b[43m \u001b[49m\u001b[43msp\u001b[49m\u001b[38;5;241;43m.\u001b[39;49m\u001b[43mbos_id\u001b[49m\u001b[43m(\u001b[49m\u001b[43m)\u001b[49m\u001b[43m,\u001b[49m\u001b[43m \u001b[49m\u001b[43msp\u001b[49m\u001b[38;5;241;43m.\u001b[39;49m\u001b[43meos_id\u001b[49m\u001b[43m(\u001b[49m\u001b[43m)\u001b[49m\u001b[43m,\u001b[49m\u001b[43m \u001b[49m\u001b[43msp\u001b[49m\u001b[38;5;241;43m.\u001b[39;49m\u001b[43mpad_id\u001b[49m\u001b[43m(\u001b[49m\u001b[43m)\u001b[49m\u001b[43m)\u001b[49m\n\u001b[1;32m      8\u001b[0m     decoded \u001b[38;5;241m=\u001b[39m sp\u001b[38;5;241m.\u001b[39mdecode(pred\u001b[38;5;241m.\u001b[39mdetach()\u001b[38;5;241m.\u001b[39mcpu()\u001b[38;5;241m.\u001b[39mtolist())\n\u001b[1;32m      9\u001b[0m     val1, val2, val3, val4 \u001b[38;5;241m=\u001b[39m corpus_bleu(ref_sentences[(idx) \u001b[38;5;241m*\u001b[39m \u001b[38;5;241m32\u001b[39m: (idx \u001b[38;5;241m+\u001b[39m \u001b[38;5;241m1\u001b[39m) \u001b[38;5;241m*\u001b[39m \u001b[38;5;241m32\u001b[39m], decoded, raw_values\u001b[38;5;241m=\u001b[39m\u001b[38;5;28;01mTrue\u001b[39;00m)\n",
      "Cell \u001b[0;32mIn[103], line 17\u001b[0m, in \u001b[0;36mmodel_prediction\u001b[0;34m(model, batch, max_len, device, sos_token, eos_token, pad_token)\u001b[0m\n\u001b[1;32m     15\u001b[0m other_mask \u001b[38;5;241m=\u001b[39m (decoder_input \u001b[38;5;241m!=\u001b[39m pad_token)\u001b[38;5;241m.\u001b[39mint()\u001b[38;5;241m.\u001b[39munsqueeze(\u001b[38;5;241m1\u001b[39m)\n\u001b[1;32m     16\u001b[0m decoder_mask \u001b[38;5;241m=\u001b[39m (subsequent_mask \u001b[38;5;241m&\u001b[39m other_mask)\u001b[38;5;241m.\u001b[39munsqueeze(\u001b[38;5;241m1\u001b[39m)\u001b[38;5;241m.\u001b[39mto(device)\n\u001b[0;32m---> 17\u001b[0m out \u001b[38;5;241m=\u001b[39m \u001b[43munderlying_model\u001b[49m\u001b[38;5;241;43m.\u001b[39;49m\u001b[43mdecode\u001b[49m\u001b[43m(\u001b[49m\u001b[43mdecoder_input\u001b[49m\u001b[43m,\u001b[49m\u001b[43m \u001b[49m\u001b[43mencoder_output\u001b[49m\u001b[43m,\u001b[49m\u001b[43m \u001b[49m\u001b[43mencoder_mask\u001b[49m\u001b[43m,\u001b[49m\u001b[43m \u001b[49m\u001b[43mdecoder_mask\u001b[49m\u001b[43m)\u001b[49m\n\u001b[1;32m     18\u001b[0m prediction \u001b[38;5;241m=\u001b[39m underlying_model\u001b[38;5;241m.\u001b[39mproj(out)  \u001b[38;5;66;03m# shape: (B, max_len, vocab_size)\u001b[39;00m\n\u001b[1;32m     19\u001b[0m next_tokens \u001b[38;5;241m=\u001b[39m torch\u001b[38;5;241m.\u001b[39margmax(prediction[:, t, :], dim\u001b[38;5;241m=\u001b[39m\u001b[38;5;241m-\u001b[39m\u001b[38;5;241m1\u001b[39m)\n",
      "File \u001b[0;32m~/Documents/Documents - Utkarsh’s MacBook Air/AI grind/dl_from_scratch/dl-from-scratch/papers/Attention Is All You Need/TransformerComponents/Transformer.py:24\u001b[0m, in \u001b[0;36mdecode\u001b[0;34m(self, x, encoder_output, encoder_mask, decoder_mask)\u001b[0m\n",
      "File \u001b[0;32m/opt/anaconda3/envs/dl_scratch/lib/python3.10/site-packages/torch/nn/modules/module.py:1739\u001b[0m, in \u001b[0;36mModule._wrapped_call_impl\u001b[0;34m(self, *args, **kwargs)\u001b[0m\n\u001b[1;32m   1737\u001b[0m     \u001b[38;5;28;01mreturn\u001b[39;00m \u001b[38;5;28mself\u001b[39m\u001b[38;5;241m.\u001b[39m_compiled_call_impl(\u001b[38;5;241m*\u001b[39margs, \u001b[38;5;241m*\u001b[39m\u001b[38;5;241m*\u001b[39mkwargs)  \u001b[38;5;66;03m# type: ignore[misc]\u001b[39;00m\n\u001b[1;32m   1738\u001b[0m \u001b[38;5;28;01melse\u001b[39;00m:\n\u001b[0;32m-> 1739\u001b[0m     \u001b[38;5;28;01mreturn\u001b[39;00m \u001b[38;5;28;43mself\u001b[39;49m\u001b[38;5;241;43m.\u001b[39;49m\u001b[43m_call_impl\u001b[49m\u001b[43m(\u001b[49m\u001b[38;5;241;43m*\u001b[39;49m\u001b[43margs\u001b[49m\u001b[43m,\u001b[49m\u001b[43m \u001b[49m\u001b[38;5;241;43m*\u001b[39;49m\u001b[38;5;241;43m*\u001b[39;49m\u001b[43mkwargs\u001b[49m\u001b[43m)\u001b[49m\n",
      "File \u001b[0;32m/opt/anaconda3/envs/dl_scratch/lib/python3.10/site-packages/torch/nn/modules/module.py:1750\u001b[0m, in \u001b[0;36mModule._call_impl\u001b[0;34m(self, *args, **kwargs)\u001b[0m\n\u001b[1;32m   1745\u001b[0m \u001b[38;5;66;03m# If we don't have any hooks, we want to skip the rest of the logic in\u001b[39;00m\n\u001b[1;32m   1746\u001b[0m \u001b[38;5;66;03m# this function, and just call forward.\u001b[39;00m\n\u001b[1;32m   1747\u001b[0m \u001b[38;5;28;01mif\u001b[39;00m \u001b[38;5;129;01mnot\u001b[39;00m (\u001b[38;5;28mself\u001b[39m\u001b[38;5;241m.\u001b[39m_backward_hooks \u001b[38;5;129;01mor\u001b[39;00m \u001b[38;5;28mself\u001b[39m\u001b[38;5;241m.\u001b[39m_backward_pre_hooks \u001b[38;5;129;01mor\u001b[39;00m \u001b[38;5;28mself\u001b[39m\u001b[38;5;241m.\u001b[39m_forward_hooks \u001b[38;5;129;01mor\u001b[39;00m \u001b[38;5;28mself\u001b[39m\u001b[38;5;241m.\u001b[39m_forward_pre_hooks\n\u001b[1;32m   1748\u001b[0m         \u001b[38;5;129;01mor\u001b[39;00m _global_backward_pre_hooks \u001b[38;5;129;01mor\u001b[39;00m _global_backward_hooks\n\u001b[1;32m   1749\u001b[0m         \u001b[38;5;129;01mor\u001b[39;00m _global_forward_hooks \u001b[38;5;129;01mor\u001b[39;00m _global_forward_pre_hooks):\n\u001b[0;32m-> 1750\u001b[0m     \u001b[38;5;28;01mreturn\u001b[39;00m \u001b[43mforward_call\u001b[49m\u001b[43m(\u001b[49m\u001b[38;5;241;43m*\u001b[39;49m\u001b[43margs\u001b[49m\u001b[43m,\u001b[49m\u001b[43m \u001b[49m\u001b[38;5;241;43m*\u001b[39;49m\u001b[38;5;241;43m*\u001b[39;49m\u001b[43mkwargs\u001b[49m\u001b[43m)\u001b[49m\n\u001b[1;32m   1752\u001b[0m result \u001b[38;5;241m=\u001b[39m \u001b[38;5;28;01mNone\u001b[39;00m\n\u001b[1;32m   1753\u001b[0m called_always_called_hooks \u001b[38;5;241m=\u001b[39m \u001b[38;5;28mset\u001b[39m()\n",
      "File \u001b[0;32m~/Documents/Documents - Utkarsh’s MacBook Air/AI grind/dl_from_scratch/dl-from-scratch/papers/Attention Is All You Need/TransformerComponents/Decoder.py:28\u001b[0m, in \u001b[0;36mforward\u001b[0;34m(self, x, encoder_output, encoder_mask, decoder_mask)\u001b[0m\n",
      "File \u001b[0;32m/opt/anaconda3/envs/dl_scratch/lib/python3.10/site-packages/torch/nn/modules/module.py:1739\u001b[0m, in \u001b[0;36mModule._wrapped_call_impl\u001b[0;34m(self, *args, **kwargs)\u001b[0m\n\u001b[1;32m   1737\u001b[0m     \u001b[38;5;28;01mreturn\u001b[39;00m \u001b[38;5;28mself\u001b[39m\u001b[38;5;241m.\u001b[39m_compiled_call_impl(\u001b[38;5;241m*\u001b[39margs, \u001b[38;5;241m*\u001b[39m\u001b[38;5;241m*\u001b[39mkwargs)  \u001b[38;5;66;03m# type: ignore[misc]\u001b[39;00m\n\u001b[1;32m   1738\u001b[0m \u001b[38;5;28;01melse\u001b[39;00m:\n\u001b[0;32m-> 1739\u001b[0m     \u001b[38;5;28;01mreturn\u001b[39;00m \u001b[38;5;28;43mself\u001b[39;49m\u001b[38;5;241;43m.\u001b[39;49m\u001b[43m_call_impl\u001b[49m\u001b[43m(\u001b[49m\u001b[38;5;241;43m*\u001b[39;49m\u001b[43margs\u001b[49m\u001b[43m,\u001b[49m\u001b[43m \u001b[49m\u001b[38;5;241;43m*\u001b[39;49m\u001b[38;5;241;43m*\u001b[39;49m\u001b[43mkwargs\u001b[49m\u001b[43m)\u001b[49m\n",
      "File \u001b[0;32m/opt/anaconda3/envs/dl_scratch/lib/python3.10/site-packages/torch/nn/modules/module.py:1750\u001b[0m, in \u001b[0;36mModule._call_impl\u001b[0;34m(self, *args, **kwargs)\u001b[0m\n\u001b[1;32m   1745\u001b[0m \u001b[38;5;66;03m# If we don't have any hooks, we want to skip the rest of the logic in\u001b[39;00m\n\u001b[1;32m   1746\u001b[0m \u001b[38;5;66;03m# this function, and just call forward.\u001b[39;00m\n\u001b[1;32m   1747\u001b[0m \u001b[38;5;28;01mif\u001b[39;00m \u001b[38;5;129;01mnot\u001b[39;00m (\u001b[38;5;28mself\u001b[39m\u001b[38;5;241m.\u001b[39m_backward_hooks \u001b[38;5;129;01mor\u001b[39;00m \u001b[38;5;28mself\u001b[39m\u001b[38;5;241m.\u001b[39m_backward_pre_hooks \u001b[38;5;129;01mor\u001b[39;00m \u001b[38;5;28mself\u001b[39m\u001b[38;5;241m.\u001b[39m_forward_hooks \u001b[38;5;129;01mor\u001b[39;00m \u001b[38;5;28mself\u001b[39m\u001b[38;5;241m.\u001b[39m_forward_pre_hooks\n\u001b[1;32m   1748\u001b[0m         \u001b[38;5;129;01mor\u001b[39;00m _global_backward_pre_hooks \u001b[38;5;129;01mor\u001b[39;00m _global_backward_hooks\n\u001b[1;32m   1749\u001b[0m         \u001b[38;5;129;01mor\u001b[39;00m _global_forward_hooks \u001b[38;5;129;01mor\u001b[39;00m _global_forward_pre_hooks):\n\u001b[0;32m-> 1750\u001b[0m     \u001b[38;5;28;01mreturn\u001b[39;00m \u001b[43mforward_call\u001b[49m\u001b[43m(\u001b[49m\u001b[38;5;241;43m*\u001b[39;49m\u001b[43margs\u001b[49m\u001b[43m,\u001b[49m\u001b[43m \u001b[49m\u001b[38;5;241;43m*\u001b[39;49m\u001b[38;5;241;43m*\u001b[39;49m\u001b[43mkwargs\u001b[49m\u001b[43m)\u001b[49m\n\u001b[1;32m   1752\u001b[0m result \u001b[38;5;241m=\u001b[39m \u001b[38;5;28;01mNone\u001b[39;00m\n\u001b[1;32m   1753\u001b[0m called_always_called_hooks \u001b[38;5;241m=\u001b[39m \u001b[38;5;28mset\u001b[39m()\n",
      "File \u001b[0;32m~/Documents/Documents - Utkarsh’s MacBook Air/AI grind/dl_from_scratch/dl-from-scratch/papers/Attention Is All You Need/TransformerComponents/Decoder.py:16\u001b[0m, in \u001b[0;36mforward\u001b[0;34m(self, x, encoder_output, encoder_mask, decoder_mask)\u001b[0m\n",
      "File \u001b[0;32m/opt/anaconda3/envs/dl_scratch/lib/python3.10/site-packages/torch/nn/modules/module.py:1739\u001b[0m, in \u001b[0;36mModule._wrapped_call_impl\u001b[0;34m(self, *args, **kwargs)\u001b[0m\n\u001b[1;32m   1737\u001b[0m     \u001b[38;5;28;01mreturn\u001b[39;00m \u001b[38;5;28mself\u001b[39m\u001b[38;5;241m.\u001b[39m_compiled_call_impl(\u001b[38;5;241m*\u001b[39margs, \u001b[38;5;241m*\u001b[39m\u001b[38;5;241m*\u001b[39mkwargs)  \u001b[38;5;66;03m# type: ignore[misc]\u001b[39;00m\n\u001b[1;32m   1738\u001b[0m \u001b[38;5;28;01melse\u001b[39;00m:\n\u001b[0;32m-> 1739\u001b[0m     \u001b[38;5;28;01mreturn\u001b[39;00m \u001b[38;5;28;43mself\u001b[39;49m\u001b[38;5;241;43m.\u001b[39;49m\u001b[43m_call_impl\u001b[49m\u001b[43m(\u001b[49m\u001b[38;5;241;43m*\u001b[39;49m\u001b[43margs\u001b[49m\u001b[43m,\u001b[49m\u001b[43m \u001b[49m\u001b[38;5;241;43m*\u001b[39;49m\u001b[38;5;241;43m*\u001b[39;49m\u001b[43mkwargs\u001b[49m\u001b[43m)\u001b[49m\n",
      "File \u001b[0;32m/opt/anaconda3/envs/dl_scratch/lib/python3.10/site-packages/torch/nn/modules/module.py:1750\u001b[0m, in \u001b[0;36mModule._call_impl\u001b[0;34m(self, *args, **kwargs)\u001b[0m\n\u001b[1;32m   1745\u001b[0m \u001b[38;5;66;03m# If we don't have any hooks, we want to skip the rest of the logic in\u001b[39;00m\n\u001b[1;32m   1746\u001b[0m \u001b[38;5;66;03m# this function, and just call forward.\u001b[39;00m\n\u001b[1;32m   1747\u001b[0m \u001b[38;5;28;01mif\u001b[39;00m \u001b[38;5;129;01mnot\u001b[39;00m (\u001b[38;5;28mself\u001b[39m\u001b[38;5;241m.\u001b[39m_backward_hooks \u001b[38;5;129;01mor\u001b[39;00m \u001b[38;5;28mself\u001b[39m\u001b[38;5;241m.\u001b[39m_backward_pre_hooks \u001b[38;5;129;01mor\u001b[39;00m \u001b[38;5;28mself\u001b[39m\u001b[38;5;241m.\u001b[39m_forward_hooks \u001b[38;5;129;01mor\u001b[39;00m \u001b[38;5;28mself\u001b[39m\u001b[38;5;241m.\u001b[39m_forward_pre_hooks\n\u001b[1;32m   1748\u001b[0m         \u001b[38;5;129;01mor\u001b[39;00m _global_backward_pre_hooks \u001b[38;5;129;01mor\u001b[39;00m _global_backward_hooks\n\u001b[1;32m   1749\u001b[0m         \u001b[38;5;129;01mor\u001b[39;00m _global_forward_hooks \u001b[38;5;129;01mor\u001b[39;00m _global_forward_pre_hooks):\n\u001b[0;32m-> 1750\u001b[0m     \u001b[38;5;28;01mreturn\u001b[39;00m \u001b[43mforward_call\u001b[49m\u001b[43m(\u001b[49m\u001b[38;5;241;43m*\u001b[39;49m\u001b[43margs\u001b[49m\u001b[43m,\u001b[49m\u001b[43m \u001b[49m\u001b[38;5;241;43m*\u001b[39;49m\u001b[38;5;241;43m*\u001b[39;49m\u001b[43mkwargs\u001b[49m\u001b[43m)\u001b[49m\n\u001b[1;32m   1752\u001b[0m result \u001b[38;5;241m=\u001b[39m \u001b[38;5;28;01mNone\u001b[39;00m\n\u001b[1;32m   1753\u001b[0m called_always_called_hooks \u001b[38;5;241m=\u001b[39m \u001b[38;5;28mset\u001b[39m()\n",
      "File \u001b[0;32m~/Documents/Documents - Utkarsh’s MacBook Air/AI grind/dl_from_scratch/dl-from-scratch/papers/Attention Is All You Need/TransformerComponents/UtilsLayers.py:26\u001b[0m, in \u001b[0;36mforward\u001b[0;34m(self, x, sublayer)\u001b[0m\n",
      "File \u001b[0;32m/opt/anaconda3/envs/dl_scratch/lib/python3.10/site-packages/torch/nn/modules/module.py:1739\u001b[0m, in \u001b[0;36mModule._wrapped_call_impl\u001b[0;34m(self, *args, **kwargs)\u001b[0m\n\u001b[1;32m   1737\u001b[0m     \u001b[38;5;28;01mreturn\u001b[39;00m \u001b[38;5;28mself\u001b[39m\u001b[38;5;241m.\u001b[39m_compiled_call_impl(\u001b[38;5;241m*\u001b[39margs, \u001b[38;5;241m*\u001b[39m\u001b[38;5;241m*\u001b[39mkwargs)  \u001b[38;5;66;03m# type: ignore[misc]\u001b[39;00m\n\u001b[1;32m   1738\u001b[0m \u001b[38;5;28;01melse\u001b[39;00m:\n\u001b[0;32m-> 1739\u001b[0m     \u001b[38;5;28;01mreturn\u001b[39;00m \u001b[38;5;28;43mself\u001b[39;49m\u001b[38;5;241;43m.\u001b[39;49m\u001b[43m_call_impl\u001b[49m\u001b[43m(\u001b[49m\u001b[38;5;241;43m*\u001b[39;49m\u001b[43margs\u001b[49m\u001b[43m,\u001b[49m\u001b[43m \u001b[49m\u001b[38;5;241;43m*\u001b[39;49m\u001b[38;5;241;43m*\u001b[39;49m\u001b[43mkwargs\u001b[49m\u001b[43m)\u001b[49m\n",
      "File \u001b[0;32m/opt/anaconda3/envs/dl_scratch/lib/python3.10/site-packages/torch/nn/modules/module.py:1750\u001b[0m, in \u001b[0;36mModule._call_impl\u001b[0;34m(self, *args, **kwargs)\u001b[0m\n\u001b[1;32m   1745\u001b[0m \u001b[38;5;66;03m# If we don't have any hooks, we want to skip the rest of the logic in\u001b[39;00m\n\u001b[1;32m   1746\u001b[0m \u001b[38;5;66;03m# this function, and just call forward.\u001b[39;00m\n\u001b[1;32m   1747\u001b[0m \u001b[38;5;28;01mif\u001b[39;00m \u001b[38;5;129;01mnot\u001b[39;00m (\u001b[38;5;28mself\u001b[39m\u001b[38;5;241m.\u001b[39m_backward_hooks \u001b[38;5;129;01mor\u001b[39;00m \u001b[38;5;28mself\u001b[39m\u001b[38;5;241m.\u001b[39m_backward_pre_hooks \u001b[38;5;129;01mor\u001b[39;00m \u001b[38;5;28mself\u001b[39m\u001b[38;5;241m.\u001b[39m_forward_hooks \u001b[38;5;129;01mor\u001b[39;00m \u001b[38;5;28mself\u001b[39m\u001b[38;5;241m.\u001b[39m_forward_pre_hooks\n\u001b[1;32m   1748\u001b[0m         \u001b[38;5;129;01mor\u001b[39;00m _global_backward_pre_hooks \u001b[38;5;129;01mor\u001b[39;00m _global_backward_hooks\n\u001b[1;32m   1749\u001b[0m         \u001b[38;5;129;01mor\u001b[39;00m _global_forward_hooks \u001b[38;5;129;01mor\u001b[39;00m _global_forward_pre_hooks):\n\u001b[0;32m-> 1750\u001b[0m     \u001b[38;5;28;01mreturn\u001b[39;00m \u001b[43mforward_call\u001b[49m\u001b[43m(\u001b[49m\u001b[38;5;241;43m*\u001b[39;49m\u001b[43margs\u001b[49m\u001b[43m,\u001b[49m\u001b[43m \u001b[49m\u001b[38;5;241;43m*\u001b[39;49m\u001b[38;5;241;43m*\u001b[39;49m\u001b[43mkwargs\u001b[49m\u001b[43m)\u001b[49m\n\u001b[1;32m   1752\u001b[0m result \u001b[38;5;241m=\u001b[39m \u001b[38;5;28;01mNone\u001b[39;00m\n\u001b[1;32m   1753\u001b[0m called_always_called_hooks \u001b[38;5;241m=\u001b[39m \u001b[38;5;28mset\u001b[39m()\n",
      "File \u001b[0;32m~/Documents/Documents - Utkarsh’s MacBook Air/AI grind/dl_from_scratch/dl-from-scratch/papers/Attention Is All You Need/TransformerComponents/UtilsLayers.py:15\u001b[0m, in \u001b[0;36mforward\u001b[0;34m(self, x)\u001b[0m\n",
      "\u001b[0;31mKeyboardInterrupt\u001b[0m: "
     ]
    }
   ],
   "source": [
    "from collections import Counter\n",
    "num_c = Counter({1: 0, 2: 0, 3: 0, 4:0})\n",
    "denom_c = Counter({1: 0, 2: 0, 3: 0, 4:0})\n",
    "ref_len = 0\n",
    "cand_len = 0\n",
    "for idx, batch in tqdm(enumerate(dataloader)):\n",
    "    pred = model_prediction(model, batch, 140, \"cpu\", sp.bos_id(), sp.eos_id(), sp.pad_id())\n",
    "    decoded = sp.decode(pred.detach().cpu().tolist())\n",
    "    val1, val2, val3, val4 = corpus_bleu(ref_sentences[(idx) * 32: (idx + 1) * 32], decoded, raw_values=True)\n",
    "    # break\n",
    "    num_c += val1\n",
    "    denom_c += val2\n",
    "    cand_len += val3\n",
    "    ref_len += val4"
   ]
  },
  {
   "cell_type": "code",
   "execution_count": 5,
   "metadata": {},
   "outputs": [],
   "source": [
    "from test_metrics_script import *"
   ]
  },
  {
   "cell_type": "code",
   "execution_count": 44,
   "metadata": {},
   "outputs": [
    {
     "data": {
      "text/plain": [
       "0.02846159391986035"
      ]
     },
     "execution_count": 44,
     "metadata": {},
     "output_type": "execute_result"
    }
   ],
   "source": [
    "from metrics import brevity_penality\n",
    "import numpy as np\n",
    "bp = brevity_penality(cand_len, ref_len)\n",
    "pn = [num_c[i] / denom_c[i] if denom_c[i] > 0 else 0 for i in range(1, 5)]\n",
    "log_sum = sum([w * np.log(p) if p > 0 else 0 for w,p in zip((0.25, 0.25, 0.25, 0.25), pn)])\n",
    "bp * np.exp(log_sum)"
   ]
  }
 ],
 "metadata": {
  "kernelspec": {
   "display_name": "dl_scratch",
   "language": "python",
   "name": "python3"
  },
  "language_info": {
   "codemirror_mode": {
    "name": "ipython",
    "version": 3
   },
   "file_extension": ".py",
   "mimetype": "text/x-python",
   "name": "python",
   "nbconvert_exporter": "python",
   "pygments_lexer": "ipython3",
   "version": "3.10.16"
  }
 },
 "nbformat": 4,
 "nbformat_minor": 2
}
