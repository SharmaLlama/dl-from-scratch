{
 "cells": [
  {
   "cell_type": "code",
   "execution_count": 3,
   "metadata": {},
   "outputs": [],
   "source": [
    "import torch\n",
    "from torch.utils.data import DataLoader\n",
    "from torch.utils.data import Dataset, random_split\n",
    "import torch.nn.functional as F\n",
    "import sys\n",
    "import os\n",
    "import pickle\n",
    "import pandas as pd\n",
    "from torch.utils.tensorboard import SummaryWriter\n",
    "parent_dir = os.path.abspath(\"../papers/Attention Is All You Need\")\n",
    "sys.path.append(parent_dir)\n",
    "from pathlib import Path\n",
    "from tqdm import tqdm"
   ]
  },
  {
   "cell_type": "code",
   "execution_count": 4,
   "metadata": {},
   "outputs": [],
   "source": [
    "import yaml\n",
    "\n",
    "YAML_PATH = Path(\"../\")  / \"papers\" / \"Attention Is All You Need\" / \"config.yaml\"\n",
    "with open(YAML_PATH, \"r\") as file:\n",
    "    config = yaml.safe_load(file)"
   ]
  },
  {
   "cell_type": "markdown",
   "metadata": {},
   "source": [
    "## Get Training Data and Encode Training Data"
   ]
  },
  {
   "cell_type": "code",
   "execution_count": 5,
   "metadata": {},
   "outputs": [],
   "source": [
    "from BPE.bpe import BPEEncoder, BPEDecoder\n"
   ]
  },
  {
   "cell_type": "code",
   "execution_count": 6,
   "metadata": {},
   "outputs": [],
   "source": [
    "PATH = Path(\"../\")  / \"data\" / \"EnglishGerman\" \n",
    "dataset = pd.read_csv(PATH / \"wmt14_translate_de-en_validation.csv\")"
   ]
  },
  {
   "cell_type": "code",
   "execution_count": 7,
   "metadata": {},
   "outputs": [],
   "source": [
    "BPE_PATH = Path(\"../\")  / \"papers\" / \"Attention Is All You Need\" / \"BPE\" \n",
    "with open(BPE_PATH / \"vocab_merges_2500.pkl\", \"rb\") as f:\n",
    "    vocab = pickle.load(f)"
   ]
  },
  {
   "cell_type": "code",
   "execution_count": 8,
   "metadata": {},
   "outputs": [],
   "source": [
    "bpe_encoder = BPEEncoder(vocab=vocab)\n",
    "english_encoded = bpe_encoder.encode(dataset.iloc[:, 1])\n",
    "german_encoded = bpe_encoder.encode(dataset.iloc[:, 0])"
   ]
  },
  {
   "cell_type": "markdown",
   "metadata": {},
   "source": [
    "## Preparing the Data"
   ]
  },
  {
   "cell_type": "code",
   "execution_count": 9,
   "metadata": {},
   "outputs": [],
   "source": [
    "max_vocab_size = max(vocab.values())\n",
    "special_tokens = {max_vocab_size + 1 : \"<SOS>\",  max_vocab_size + 2 : \"<EOS>\", max_vocab_size + 3 : \"<pad>\"}\n",
    "bpe_decoder = BPEDecoder(vocab=vocab, special_tokens=special_tokens)"
   ]
  },
  {
   "cell_type": "code",
   "execution_count": 10,
   "metadata": {},
   "outputs": [],
   "source": [
    "class LanguageTranslationDataset(Dataset):\n",
    "    def __init__(self, seq_length, src_encodings, tgt_encodings, sos_token, eos_token, pad_token):\n",
    "        super().__init__()\n",
    "        self.paired_encodings = LanguageTranslationDataset.augment_encodings(src_encodings, tgt_encodings, sos_token, eos_token)\n",
    "        self.seq_len = seq_length\n",
    "        self.pad_token = pad_token\n",
    "\n",
    "    @staticmethod\n",
    "    def augment_encodings(src_encodings, tgt_encodings, sos_token, eos_token):\n",
    "        src_encodings = [[sos_token] + sublist + [eos_token] for sublist in src_encodings]\n",
    "        tgt_encodings = [[sos_token] + sublist for sublist in tgt_encodings]\n",
    "        output_encodings = [sublist + [eos_token] for sublist in tgt_encodings] \n",
    "        full_encoding = list(zip(src_encodings, tgt_encodings, output_encodings))\n",
    "        full_encoding.sort(key=lambda x: len(x[0])) # sort sequence lengths\n",
    "        return full_encoding\n",
    "\n",
    "\n",
    "    def __getitem__(self, idx):\n",
    "        src_seq, tgt_seq, output_seq = self.paired_encodings[idx]\n",
    "        src_tensor = torch.tensor(src_seq, dtype=torch.long)\n",
    "        tgt_tensor = torch.tensor(tgt_seq, dtype=torch.long)\n",
    "        output_tensor = torch.tensor(output_seq, dtype=torch.long)\n",
    "\n",
    "        src_tensor = F.pad(src_tensor, (0, self.seq_len - src_tensor.size(0)), value=self.pad_token)\n",
    "        tgt_tensor = F.pad(tgt_tensor, (0, self.seq_len - tgt_tensor.size(0)), value=self.pad_token)\n",
    "        output_tensor = F.pad(output_tensor, (0, self.seq_len - output_tensor.size(0)), value=self.pad_token)\n",
    "        encoder_mask = (src_tensor != self.pad_token).int()\n",
    "\n",
    "        subsequent_mask = torch.tril(torch.ones((self.seq_len, self.seq_len), dtype=torch.int))\n",
    "        padding_mask = (tgt_tensor != self.pad_token).int()\n",
    "        decoder_mask = subsequent_mask & padding_mask.unsqueeze(0)\n",
    "\n",
    "        \n",
    "\n",
    "        return {\n",
    "            \"src\": src_tensor, # Seq_len\n",
    "            \"tgt\": tgt_tensor, # seq_len\n",
    "            \"output\": output_tensor, # seq_len\n",
    "            \"encoder_mask\" : encoder_mask.unsqueeze(0).unsqueeze(0), # 1 x 1 x seq_len\n",
    "            \"decoder_mask\" : decoder_mask.unsqueeze(0), # 1 x seq_len x seq_len\n",
    "        }\n",
    "\n",
    "    def __len__(self): \n",
    "        return len(self.paired_encodings)"
   ]
  },
  {
   "cell_type": "code",
   "execution_count": 11,
   "metadata": {},
   "outputs": [],
   "source": [
    "full_data = LanguageTranslationDataset(seq_length=config['SEQ_LEN'], src_encodings=english_encoded, tgt_encodings=german_encoded, sos_token=max_vocab_size + 1, eos_token=max_vocab_size + 2,\n",
    "                                        pad_token=max_vocab_size + 3)\n",
    "\n",
    "train_data, test_data = random_split(full_data, [config['TRAIN_RATIO'], 1-config['TRAIN_RATIO']])"
   ]
  },
  {
   "cell_type": "code",
   "execution_count": 12,
   "metadata": {},
   "outputs": [],
   "source": [
    "train_dataloader = DataLoader(train_data, batch_size=config['BATCH_SIZE'], shuffle=True)\n",
    "test_dataloader = DataLoader(test_data, batch_size=config['BATCH_SIZE'], shuffle=True)"
   ]
  },
  {
   "cell_type": "markdown",
   "metadata": {},
   "source": [
    "## Model Creation"
   ]
  },
  {
   "cell_type": "code",
   "execution_count": 13,
   "metadata": {},
   "outputs": [],
   "source": [
    "from TransformerComponents.Encoder import Encoder\n",
    "from TransformerComponents.Decoder import Decoder\n",
    "from TransformerComponents.PE import PositionalEmbedding\n",
    "from TransformerComponents.Transformer import Transformer\n",
    "from TransformerComponents.UtilsLayers import Projection"
   ]
  },
  {
   "cell_type": "code",
   "execution_count": 14,
   "metadata": {},
   "outputs": [],
   "source": [
    "vocab_size = len(vocab) + 256 + 3 # 3 special tokens"
   ]
  },
  {
   "cell_type": "code",
   "execution_count": 15,
   "metadata": {},
   "outputs": [],
   "source": [
    "encoder_transformer = Encoder(config['N_ENCODERS'], config['N_HEADS'], config['D_MODEL'], config['D_MODEL'] // config['N_HEADS'], config['D_MODEL'] // config['N_HEADS'], config['FF_HIDDEN'], config['DROPOUT'])\n",
    "decoder_transformer = Decoder(config['N_DECODERS'], config['N_HEADS'], config['D_MODEL'], config['D_MODEL'] // config['N_HEADS'], config['D_MODEL'] // config['N_HEADS'], config['FF_HIDDEN'], config['DROPOUT'])\n",
    "src_embeddings = PositionalEmbedding(vocab_size, config['D_MODEL'], config['SEQ_LEN'], config['DROPOUT'])\n",
    "tgt_embeddings = PositionalEmbedding(vocab_size, config['D_MODEL'], config['SEQ_LEN'], config['DROPOUT'])\n",
    "projection = Projection(config['D_MODEL'], vocab_size)"
   ]
  },
  {
   "cell_type": "code",
   "execution_count": 16,
   "metadata": {},
   "outputs": [],
   "source": [
    "device = torch.device(\"cuda\" if torch.cuda.is_available() else \"cpu\")\n",
    "model = Transformer(encoder_transformer, decoder_transformer, src_embeddings, tgt_embeddings, projection).to(device)"
   ]
  },
  {
   "cell_type": "code",
   "execution_count": 17,
   "metadata": {},
   "outputs": [],
   "source": [
    "model.initialise()"
   ]
  },
  {
   "cell_type": "markdown",
   "metadata": {},
   "source": [
    "## Model Training"
   ]
  },
  {
   "cell_type": "code",
   "execution_count": 18,
   "metadata": {},
   "outputs": [],
   "source": [
    "def model_prediction(model, batch, max_len, device, sos_token, eos_token, pad_token):\n",
    "    encoder_input = batch['src'].to(device) # B x seq_len\n",
    "    encoder_mask = batch['encoder_mask'].to(device) # B  x 1 x 1 x seq_len\n",
    "    encoder_output = model.encode(encoder_input, encoder_mask)\n",
    "    B = encoder_input.size(0)\n",
    "    decoder_input = torch.full((B, max_len), pad_token).to(device)\n",
    "    decoder_input[: , 0] = sos_token\n",
    "    finished = torch.zeros(B, dtype=torch.bool, device=device)\n",
    "\n",
    "    for t in range(max_len - 1):\n",
    "        subsequent_mask = torch.tril(torch.ones((max_len, max_len), dtype=torch.int)).expand(B, -1, -1) # shape: (B, max_len, max_len)\n",
    "        other_mask =(decoder_input != pad_token).int().unsqueeze(1) # (B, 1, max_len)\n",
    "        out = model.decode(decoder_input, encoder_output, encoder_mask, (subsequent_mask & other_mask).unsqueeze(1).to(device))\n",
    "        prediction = model.proj(out) # Expected shape: (B, max_len, vocab_size)\n",
    "        next_tokens = torch.argmax(prediction[:, t, :], dim=-1) # shape: (B, )\n",
    "        next_tokens = torch.where(finished, pad_token, next_tokens)\n",
    "\n",
    "        decoder_input[:, t + 1] = next_tokens\n",
    "        finished |= (next_tokens == eos_token)\n",
    "\n",
    "        if finished.all():\n",
    "          break\n",
    "\n",
    "    return decoder_input"
   ]
  },
  {
   "cell_type": "code",
   "execution_count": 19,
   "metadata": {},
   "outputs": [],
   "source": [
    "writer = SummaryWriter('../papers/Attention Is All You Need/Tensorboard/experiment_1')"
   ]
  },
  {
   "cell_type": "code",
   "execution_count": 22,
   "metadata": {},
   "outputs": [],
   "source": [
    "class WarmupAdamOpt:\n",
    "    \"Optim wrapper that implements rate.\"\n",
    "    def __init__(self, model_size, warmup, optimiser):\n",
    "        self.optimiser = optimiser\n",
    "        self._step = 0\n",
    "        self.warmup = warmup\n",
    "        self.model_size = model_size\n",
    "        self._rate = 0\n",
    "    \n",
    "    def state_dict(self):\n",
    "        return {key: value for key, value in self.__dict__.items() if key != 'optimiser'}\n",
    "    \n",
    "    def load_state_dict(self, state_dict):\n",
    "        self.__dict__.update(state_dict) \n",
    "        \n",
    "    def step(self):\n",
    "        self._step += 1\n",
    "        rate = self.rate()\n",
    "        for p in self.optimiser.param_groups:\n",
    "            p['lr'] = rate\n",
    "        self._rate = rate\n",
    "        self.optimiser.step()\n",
    "        \n",
    "    def rate(self, step = None):\n",
    "        if step is None:\n",
    "            step = self._step\n",
    "        return (self.model_size ** (-0.5) *\n",
    "            min(step ** (-0.5), step * self.warmup ** (-1.5))) "
   ]
  },
  {
   "cell_type": "code",
   "execution_count": 25,
   "metadata": {},
   "outputs": [
    {
     "name": "stderr",
     "output_type": "stream",
     "text": [
      "Training epoch: 00:  13%|█▎        | 5/38 [00:23<02:35,  4.71s/it, loss=7.770]\n"
     ]
    },
    {
     "ename": "KeyboardInterrupt",
     "evalue": "",
     "output_type": "error",
     "traceback": [
      "\u001b[0;31m---------------------------------------------------------------------------\u001b[0m",
      "\u001b[0;31mKeyboardInterrupt\u001b[0m                         Traceback (most recent call last)",
      "Cell \u001b[0;32mIn[25], line 31\u001b[0m\n\u001b[1;32m     27\u001b[0m writer\u001b[38;5;241m.\u001b[39mflush()\n\u001b[1;32m     30\u001b[0m optimiser\u001b[38;5;241m.\u001b[39moptimiser\u001b[38;5;241m.\u001b[39mzero_grad()\n\u001b[0;32m---> 31\u001b[0m \u001b[43mloss\u001b[49m\u001b[38;5;241;43m.\u001b[39;49m\u001b[43mbackward\u001b[49m\u001b[43m(\u001b[49m\u001b[43m)\u001b[49m\n\u001b[1;32m     32\u001b[0m optimiser\u001b[38;5;241m.\u001b[39mstep()\n\u001b[1;32m     33\u001b[0m global_step_train \u001b[38;5;241m+\u001b[39m\u001b[38;5;241m=\u001b[39m \u001b[38;5;241m1\u001b[39m\n",
      "File \u001b[0;32m/opt/anaconda3/envs/dl_scratch/lib/python3.10/site-packages/torch/_tensor.py:626\u001b[0m, in \u001b[0;36mTensor.backward\u001b[0;34m(self, gradient, retain_graph, create_graph, inputs)\u001b[0m\n\u001b[1;32m    616\u001b[0m \u001b[38;5;28;01mif\u001b[39;00m has_torch_function_unary(\u001b[38;5;28mself\u001b[39m):\n\u001b[1;32m    617\u001b[0m     \u001b[38;5;28;01mreturn\u001b[39;00m handle_torch_function(\n\u001b[1;32m    618\u001b[0m         Tensor\u001b[38;5;241m.\u001b[39mbackward,\n\u001b[1;32m    619\u001b[0m         (\u001b[38;5;28mself\u001b[39m,),\n\u001b[0;32m   (...)\u001b[0m\n\u001b[1;32m    624\u001b[0m         inputs\u001b[38;5;241m=\u001b[39minputs,\n\u001b[1;32m    625\u001b[0m     )\n\u001b[0;32m--> 626\u001b[0m \u001b[43mtorch\u001b[49m\u001b[38;5;241;43m.\u001b[39;49m\u001b[43mautograd\u001b[49m\u001b[38;5;241;43m.\u001b[39;49m\u001b[43mbackward\u001b[49m\u001b[43m(\u001b[49m\n\u001b[1;32m    627\u001b[0m \u001b[43m    \u001b[49m\u001b[38;5;28;43mself\u001b[39;49m\u001b[43m,\u001b[49m\u001b[43m \u001b[49m\u001b[43mgradient\u001b[49m\u001b[43m,\u001b[49m\u001b[43m \u001b[49m\u001b[43mretain_graph\u001b[49m\u001b[43m,\u001b[49m\u001b[43m \u001b[49m\u001b[43mcreate_graph\u001b[49m\u001b[43m,\u001b[49m\u001b[43m \u001b[49m\u001b[43minputs\u001b[49m\u001b[38;5;241;43m=\u001b[39;49m\u001b[43minputs\u001b[49m\n\u001b[1;32m    628\u001b[0m \u001b[43m\u001b[49m\u001b[43m)\u001b[49m\n",
      "File \u001b[0;32m/opt/anaconda3/envs/dl_scratch/lib/python3.10/site-packages/torch/autograd/__init__.py:347\u001b[0m, in \u001b[0;36mbackward\u001b[0;34m(tensors, grad_tensors, retain_graph, create_graph, grad_variables, inputs)\u001b[0m\n\u001b[1;32m    342\u001b[0m     retain_graph \u001b[38;5;241m=\u001b[39m create_graph\n\u001b[1;32m    344\u001b[0m \u001b[38;5;66;03m# The reason we repeat the same comment below is that\u001b[39;00m\n\u001b[1;32m    345\u001b[0m \u001b[38;5;66;03m# some Python versions print out the first line of a multi-line function\u001b[39;00m\n\u001b[1;32m    346\u001b[0m \u001b[38;5;66;03m# calls in the traceback and some print out the last line\u001b[39;00m\n\u001b[0;32m--> 347\u001b[0m \u001b[43m_engine_run_backward\u001b[49m\u001b[43m(\u001b[49m\n\u001b[1;32m    348\u001b[0m \u001b[43m    \u001b[49m\u001b[43mtensors\u001b[49m\u001b[43m,\u001b[49m\n\u001b[1;32m    349\u001b[0m \u001b[43m    \u001b[49m\u001b[43mgrad_tensors_\u001b[49m\u001b[43m,\u001b[49m\n\u001b[1;32m    350\u001b[0m \u001b[43m    \u001b[49m\u001b[43mretain_graph\u001b[49m\u001b[43m,\u001b[49m\n\u001b[1;32m    351\u001b[0m \u001b[43m    \u001b[49m\u001b[43mcreate_graph\u001b[49m\u001b[43m,\u001b[49m\n\u001b[1;32m    352\u001b[0m \u001b[43m    \u001b[49m\u001b[43minputs\u001b[49m\u001b[43m,\u001b[49m\n\u001b[1;32m    353\u001b[0m \u001b[43m    \u001b[49m\u001b[43mallow_unreachable\u001b[49m\u001b[38;5;241;43m=\u001b[39;49m\u001b[38;5;28;43;01mTrue\u001b[39;49;00m\u001b[43m,\u001b[49m\n\u001b[1;32m    354\u001b[0m \u001b[43m    \u001b[49m\u001b[43maccumulate_grad\u001b[49m\u001b[38;5;241;43m=\u001b[39;49m\u001b[38;5;28;43;01mTrue\u001b[39;49;00m\u001b[43m,\u001b[49m\n\u001b[1;32m    355\u001b[0m \u001b[43m\u001b[49m\u001b[43m)\u001b[49m\n",
      "File \u001b[0;32m/opt/anaconda3/envs/dl_scratch/lib/python3.10/site-packages/torch/autograd/graph.py:823\u001b[0m, in \u001b[0;36m_engine_run_backward\u001b[0;34m(t_outputs, *args, **kwargs)\u001b[0m\n\u001b[1;32m    821\u001b[0m     unregister_hooks \u001b[38;5;241m=\u001b[39m _register_logging_hooks_on_whole_graph(t_outputs)\n\u001b[1;32m    822\u001b[0m \u001b[38;5;28;01mtry\u001b[39;00m:\n\u001b[0;32m--> 823\u001b[0m     \u001b[38;5;28;01mreturn\u001b[39;00m \u001b[43mVariable\u001b[49m\u001b[38;5;241;43m.\u001b[39;49m\u001b[43m_execution_engine\u001b[49m\u001b[38;5;241;43m.\u001b[39;49m\u001b[43mrun_backward\u001b[49m\u001b[43m(\u001b[49m\u001b[43m  \u001b[49m\u001b[38;5;66;43;03m# Calls into the C++ engine to run the backward pass\u001b[39;49;00m\n\u001b[1;32m    824\u001b[0m \u001b[43m        \u001b[49m\u001b[43mt_outputs\u001b[49m\u001b[43m,\u001b[49m\u001b[43m \u001b[49m\u001b[38;5;241;43m*\u001b[39;49m\u001b[43margs\u001b[49m\u001b[43m,\u001b[49m\u001b[43m \u001b[49m\u001b[38;5;241;43m*\u001b[39;49m\u001b[38;5;241;43m*\u001b[39;49m\u001b[43mkwargs\u001b[49m\n\u001b[1;32m    825\u001b[0m \u001b[43m    \u001b[49m\u001b[43m)\u001b[49m  \u001b[38;5;66;03m# Calls into the C++ engine to run the backward pass\u001b[39;00m\n\u001b[1;32m    826\u001b[0m \u001b[38;5;28;01mfinally\u001b[39;00m:\n\u001b[1;32m    827\u001b[0m     \u001b[38;5;28;01mif\u001b[39;00m attach_logging_hooks:\n",
      "\u001b[0;31mKeyboardInterrupt\u001b[0m: "
     ]
    }
   ],
   "source": [
    "num_examples = 10\n",
    "optimiser = WarmupAdamOpt(config['D_MODEL'], 500,\n",
    "            torch.optim.Adam(model.parameters(), lr=0, betas=(0.9, 0.98), eps=1e-9))\n",
    "# optimiser = torch.optim.Adam(model.parameters(), lr=config['LR'], eps=1e-9)\n",
    "loss_fn = torch.nn.CrossEntropyLoss(ignore_index=max_vocab_size + 3, label_smoothing=0.1).to(device)\n",
    "\n",
    "global_step_train = 0\n",
    "global_step_test = 0\n",
    "losses = []\n",
    "test_losses = []\n",
    "for epoch in range(config['NUM_EPOCHS']):\n",
    "    model.train()\n",
    "    batch_train = tqdm(train_dataloader, desc=f\"Training epoch: {epoch:02d}\")\n",
    "    batch_loss = 0\n",
    "    for data in batch_train:\n",
    "        target_indices = data['output'].to(device) # B x seq_len\n",
    "\n",
    "        encoder_input = data['src'].to(device) # B x seq_len\n",
    "        tgt_input = data['tgt'].to(device) # B x seq_len\n",
    "        encoder_mask = data['encoder_mask'].to(device) # B x 1 x 1 x seq_len\n",
    "        decoder_mask = data['decoder_mask'].to(device) # B x 1 x seq_len x seq_len\n",
    "        logits = model(encoder_input,  tgt_input, encoder_mask=encoder_mask, decoder_mask=decoder_mask)\n",
    "        loss = loss_fn(logits.view(-1, vocab_size), target_indices.view(-1))\n",
    "        batch_train.set_postfix({\"loss\": f\"{loss.item(): 6.3f}\"})\n",
    "        batch_loss += loss.item()\n",
    "        writer.add_scalar(\"train_loss\", loss.item(), global_step_train)\n",
    "        writer.flush()\n",
    "\n",
    "        \n",
    "        optimiser.optimiser.zero_grad()\n",
    "        loss.backward()\n",
    "        optimiser.step()\n",
    "        global_step_train += 1\n",
    "\n",
    "    writer.add_scalar(\"batch_train_loss\", batch_loss / len(batch_train), global_step_train // len(batch_train))\n",
    "    writer.flush()\n",
    "\n",
    "\n",
    "    model.eval()\n",
    "    val_loss = 0\n",
    "    batch_test = tqdm(test_dataloader, desc=f\"Test epoch: {epoch:02d}\")\n",
    "    sample_taken = False\n",
    "    for idx, data in enumerate(batch_test):\n",
    "        with torch.no_grad():\n",
    "            target_indices = data['output'].to(device)\n",
    "\n",
    "            if not sample_taken:\n",
    "                pred = model_prediction(model, data, config['SEQ_LEN'], device, max_vocab_size + 1, max_vocab_size + 2, max_vocab_size + 3)\n",
    "                ints = torch.randint(low=0, high=pred.size(0), size=(num_examples,))\n",
    "                pred = pred[ints, :]\n",
    "                decoded = [decoded.replace(\"<pad>\", \"\") for decoded in bpe_decoder.decode(pred.detach().cpu().tolist())]\n",
    "                actual_decoded = [decoded.replace(\"<pad>\", \"\") for decoded in bpe_decoder.decode(target_indices[ints, :].detach().cpu().tolist())]\n",
    "                \n",
    "                comparison_text = f\"| Predicted | Actual |\\n|-----------|--------|\\n|\"\n",
    "                for j in range(len(decoded)):\n",
    "                    comparison_text +=  f\"{decoded[j]} | {actual_decoded[j]} | \\n |\"\n",
    "                writer.add_text(\"Translation Comparison\", comparison_text, global_step_test)\n",
    "                writer.flush()\n",
    "                global_step_test += 1\n",
    "                sample_taken = True\n",
    "\n",
    "            encoder_input = data['src'].to(device) # B x seq_len\n",
    "            tgt_input = data['tgt'].to(device) # B x seq_len\n",
    "            encoder_mask = data['encoder_mask'].to(device) # B x 1 x 1 x seq_len\n",
    "            decoder_mask = data['decoder_mask'].to(device) # B x 1 x seq_len x seq_len\n",
    "            logits = model(encoder_input,  tgt_input, encoder_mask=encoder_mask, decoder_mask=decoder_mask)\n",
    "            loss = loss_fn(logits.view(-1, vocab_size), target_indices.view(-1))\n",
    "            val_loss += loss.item()\n",
    "\n",
    "    writer.add_scalar(\"val_loss\", val_loss / len(batch_test), epoch)\n",
    "    writer.flush()\n",
    "\n",
    "    if epoch % 10 == 0:\n",
    "      model_filename = f\"../papers/Attention Is All You Need/Models/model_{epoch}\"\n",
    "      torch.save({\n",
    "          'epoch' : epoch,\n",
    "          \"model_state_dict\" : model.state_dict(),\n",
    "          \"optimiser_state_dic\" : optimiser.state_dict(),\n",
    "          \"global_step\": global_step_train, \n",
    "          \"global_step_test\" : global_step_test\n",
    "          }, model_filename)"
   ]
  },
  {
   "cell_type": "code",
   "execution_count": null,
   "metadata": {},
   "outputs": [],
   "source": []
  }
 ],
 "metadata": {
  "kernelspec": {
   "display_name": "dl_scratch",
   "language": "python",
   "name": "python3"
  },
  "language_info": {
   "codemirror_mode": {
    "name": "ipython",
    "version": 3
   },
   "file_extension": ".py",
   "mimetype": "text/x-python",
   "name": "python",
   "nbconvert_exporter": "python",
   "pygments_lexer": "ipython3",
   "version": "3.10.16"
  }
 },
 "nbformat": 4,
 "nbformat_minor": 2
}
