{
 "cells": [
  {
   "cell_type": "code",
   "execution_count": 500,
   "metadata": {},
   "outputs": [
    {
     "name": "stdout",
     "output_type": "stream",
     "text": [
      "The autoreload extension is already loaded. To reload it, use:\n",
      "  %reload_ext autoreload\n"
     ]
    }
   ],
   "source": [
    "%load_ext autoreload\n",
    "%autoreload 2"
   ]
  },
  {
   "cell_type": "code",
   "execution_count": 501,
   "metadata": {},
   "outputs": [],
   "source": [
    "import torch\n",
    "from torch.utils.data import DataLoader\n",
    "from torch.utils.data import Dataset, random_split\n",
    "import torch.nn.functional as F\n",
    "import sys\n",
    "import os\n",
    "import pickle\n",
    "import pandas as pd\n",
    "from torch.utils.tensorboard import SummaryWriter\n",
    "parent_dir = os.path.abspath(\"../\")\n",
    "sys.path.append(parent_dir)\n",
    "parent_dir = os.path.abspath(\"../utils/\")\n",
    "sys.path.append(parent_dir)\n",
    "from pathlib import Path\n",
    "from tqdm import tqdm\n",
    "from attention_visualisation import run_attention_dashboard, run_model_dashboard"
   ]
  },
  {
   "cell_type": "code",
   "execution_count": 510,
   "metadata": {},
   "outputs": [],
   "source": [
    "import yaml\n",
    "\n",
    "YAML_PATH = Path(\"../\")  / \"papers\" / \"attention_is_all_you_need\" / \"config.yaml\"\n",
    "with open(YAML_PATH, \"r\") as file:\n",
    "    config = yaml.safe_load(file)"
   ]
  },
  {
   "cell_type": "markdown",
   "metadata": {},
   "source": [
    "## Get Training Data and Encode Training Data"
   ]
  },
  {
   "cell_type": "code",
   "execution_count": 9,
   "metadata": {},
   "outputs": [],
   "source": [
    "from BPE.bpe import BPEEncoder, BPEDecoder\n"
   ]
  },
  {
   "cell_type": "code",
   "execution_count": 169,
   "metadata": {},
   "outputs": [],
   "source": [
    "PATH = Path(\"../\")  / \"data\" / \"EnglishGerman\" \n",
    "dataset = pd.read_csv(PATH / \"wmt14_translate_de-en_validation.csv\")"
   ]
  },
  {
   "cell_type": "code",
   "execution_count": 170,
   "metadata": {},
   "outputs": [],
   "source": [
    "BPE_PATH = Path(\"../\")  / \"papers\" / \"attention_is_all_you_need\" / \"BPE\" \n",
    "with open(BPE_PATH / \"vocab_merges_2500.pkl\", \"rb\") as f:\n",
    "    vocab = pickle.load(f)"
   ]
  },
  {
   "cell_type": "code",
   "execution_count": 171,
   "metadata": {},
   "outputs": [
    {
     "ename": "KeyboardInterrupt",
     "evalue": "",
     "output_type": "error",
     "traceback": [
      "\u001b[0;31m---------------------------------------------------------------------------\u001b[0m",
      "\u001b[0;31mKeyboardInterrupt\u001b[0m                         Traceback (most recent call last)",
      "Cell \u001b[0;32mIn[171], line 2\u001b[0m\n\u001b[1;32m      1\u001b[0m bpe_encoder \u001b[38;5;241m=\u001b[39m BPEEncoder(vocab\u001b[38;5;241m=\u001b[39mvocab)\n\u001b[0;32m----> 2\u001b[0m english_encoded \u001b[38;5;241m=\u001b[39m \u001b[43mbpe_encoder\u001b[49m\u001b[38;5;241;43m.\u001b[39;49m\u001b[43mencode\u001b[49m\u001b[43m(\u001b[49m\u001b[43mdataset\u001b[49m\u001b[38;5;241;43m.\u001b[39;49m\u001b[43miloc\u001b[49m\u001b[43m[\u001b[49m\u001b[43m:\u001b[49m\u001b[43m,\u001b[49m\u001b[43m \u001b[49m\u001b[38;5;241;43m1\u001b[39;49m\u001b[43m]\u001b[49m\u001b[43m)\u001b[49m\n\u001b[1;32m      3\u001b[0m german_encoded \u001b[38;5;241m=\u001b[39m bpe_encoder\u001b[38;5;241m.\u001b[39mencode(dataset\u001b[38;5;241m.\u001b[39miloc[:, \u001b[38;5;241m0\u001b[39m])\n",
      "File \u001b[0;32m~/Documents/Documents - Utkarsh’s MacBook Air/AI grind/dl_from_scratch/dl-from-scratch/papers/Attention Is All You Need/BPE/bpe.py:47\u001b[0m, in \u001b[0;36mBPEEncoder.encode\u001b[0;34m(self, text)\u001b[0m\n\u001b[1;32m     45\u001b[0m utf8_encoding \u001b[38;5;241m=\u001b[39m _encode_utf8(text)\n\u001b[1;32m     46\u001b[0m \u001b[38;5;28;01mwhile\u001b[39;00m \u001b[38;5;28;01mTrue\u001b[39;00m:\n\u001b[0;32m---> 47\u001b[0m     stats \u001b[38;5;241m=\u001b[39m \u001b[43m_sum_bigrams\u001b[49m\u001b[43m(\u001b[49m\u001b[43mutf8_encoding\u001b[49m\u001b[43m)\u001b[49m\n\u001b[1;32m     48\u001b[0m     pair \u001b[38;5;241m=\u001b[39m \u001b[38;5;28mmin\u001b[39m(stats, key \u001b[38;5;241m=\u001b[39m \u001b[38;5;28;01mlambda\u001b[39;00m p: \u001b[38;5;28mself\u001b[39m\u001b[38;5;241m.\u001b[39mvocab\u001b[38;5;241m.\u001b[39mget(p, \u001b[38;5;28mfloat\u001b[39m(\u001b[38;5;124m\"\u001b[39m\u001b[38;5;124minf\u001b[39m\u001b[38;5;124m\"\u001b[39m)))\n\u001b[1;32m     49\u001b[0m     \u001b[38;5;28;01mif\u001b[39;00m pair \u001b[38;5;129;01mnot\u001b[39;00m \u001b[38;5;129;01min\u001b[39;00m \u001b[38;5;28mself\u001b[39m\u001b[38;5;241m.\u001b[39mvocab:\n",
      "File \u001b[0;32m~/Documents/Documents - Utkarsh’s MacBook Air/AI grind/dl_from_scratch/dl-from-scratch/papers/Attention Is All You Need/BPE/utils.py:36\u001b[0m, in \u001b[0;36m_sum_bigrams\u001b[0;34m(sentences)\u001b[0m\n\u001b[1;32m     32\u001b[0m \u001b[38;5;250m\u001b[39m\u001b[38;5;124;03m\"\"\"\u001b[39;00m\n\u001b[1;32m     33\u001b[0m \u001b[38;5;124;03mSums the bi-grams for all sentences.\u001b[39;00m\n\u001b[1;32m     34\u001b[0m \u001b[38;5;124;03m\"\"\"\u001b[39;00m\n\u001b[1;32m     35\u001b[0m pair_counts \u001b[38;5;241m=\u001b[39m [_get_bigrams(sentence) \u001b[38;5;28;01mfor\u001b[39;00m sentence \u001b[38;5;129;01min\u001b[39;00m sentences]\n\u001b[0;32m---> 36\u001b[0m \u001b[38;5;28;01mreturn\u001b[39;00m \u001b[43m_sum_dicts\u001b[49m\u001b[43m(\u001b[49m\u001b[43mpair_counts\u001b[49m\u001b[43m)\u001b[49m\n",
      "File \u001b[0;32m~/Documents/Documents - Utkarsh’s MacBook Air/AI grind/dl_from_scratch/dl-from-scratch/papers/Attention Is All You Need/BPE/utils.py:29\u001b[0m, in \u001b[0;36m_sum_dicts\u001b[0;34m(dicts)\u001b[0m\n\u001b[1;32m     27\u001b[0m         accumulator[key] \u001b[38;5;241m=\u001b[39m accumulator\u001b[38;5;241m.\u001b[39mget(key, \u001b[38;5;241m0\u001b[39m) \u001b[38;5;241m+\u001b[39m value\n\u001b[1;32m     28\u001b[0m     \u001b[38;5;28;01mreturn\u001b[39;00m accumulator\n\u001b[0;32m---> 29\u001b[0m \u001b[38;5;28;01mreturn\u001b[39;00m \u001b[43mreduce\u001b[49m\u001b[43m(\u001b[49m\u001b[43mreducer\u001b[49m\u001b[43m,\u001b[49m\u001b[43m \u001b[49m\u001b[43mdicts\u001b[49m\u001b[43m,\u001b[49m\u001b[43m \u001b[49m\u001b[43m{\u001b[49m\u001b[43m}\u001b[49m\u001b[43m)\u001b[49m\n",
      "File \u001b[0;32m~/Documents/Documents - Utkarsh’s MacBook Air/AI grind/dl_from_scratch/dl-from-scratch/papers/Attention Is All You Need/BPE/utils.py:27\u001b[0m, in \u001b[0;36m_sum_dicts.<locals>.reducer\u001b[0;34m(accumulator, element)\u001b[0m\n\u001b[1;32m     25\u001b[0m \u001b[38;5;28;01mdef\u001b[39;00m \u001b[38;5;21mreducer\u001b[39m(accumulator, element):\n\u001b[1;32m     26\u001b[0m     \u001b[38;5;28;01mfor\u001b[39;00m key, value \u001b[38;5;129;01min\u001b[39;00m element\u001b[38;5;241m.\u001b[39mitems():\n\u001b[0;32m---> 27\u001b[0m         accumulator[key] \u001b[38;5;241m=\u001b[39m \u001b[43maccumulator\u001b[49m\u001b[38;5;241;43m.\u001b[39;49m\u001b[43mget\u001b[49m\u001b[43m(\u001b[49m\u001b[43mkey\u001b[49m\u001b[43m,\u001b[49m\u001b[43m \u001b[49m\u001b[38;5;241;43m0\u001b[39;49m\u001b[43m)\u001b[49m \u001b[38;5;241m+\u001b[39m value\n\u001b[1;32m     28\u001b[0m     \u001b[38;5;28;01mreturn\u001b[39;00m accumulator\n",
      "\u001b[0;31mKeyboardInterrupt\u001b[0m: "
     ]
    }
   ],
   "source": [
    "bpe_encoder = BPEEncoder(vocab=vocab)\n",
    "english_encoded = bpe_encoder.encode(dataset.iloc[:, 1])\n",
    "german_encoded = bpe_encoder.encode(dataset.iloc[:, 0])"
   ]
  },
  {
   "cell_type": "markdown",
   "metadata": {},
   "source": [
    "## Preparing the Data"
   ]
  },
  {
   "cell_type": "code",
   "execution_count": 16,
   "metadata": {},
   "outputs": [],
   "source": [
    "max_vocab_size = max(vocab.values())\n",
    "special_tokens = {max_vocab_size + 1 : \"<SOS>\",  max_vocab_size + 2 : \"<EOS>\", max_vocab_size + 3 : \"<pad>\"}\n",
    "bpe_decoder = BPEDecoder(vocab=vocab, special_tokens=special_tokens)"
   ]
  },
  {
   "cell_type": "code",
   "execution_count": 17,
   "metadata": {},
   "outputs": [],
   "source": [
    "class LanguageTranslationDataset(Dataset):\n",
    "    def __init__(self, seq_length, src_encodings, tgt_encodings, sos_token, eos_token, pad_token):\n",
    "        super().__init__()\n",
    "        self.paired_encodings = LanguageTranslationDataset.augment_encodings(src_encodings, tgt_encodings, sos_token, eos_token)\n",
    "        self.seq_len = seq_length\n",
    "        self.pad_token = pad_token\n",
    "\n",
    "    @staticmethod\n",
    "    def augment_encodings(src_encodings, tgt_encodings, sos_token, eos_token):\n",
    "        src_encodings = [[sos_token] + sublist + [eos_token] for sublist in src_encodings]\n",
    "        tgt_encodings = [[sos_token] + sublist for sublist in tgt_encodings]\n",
    "        output_encodings = [sublist + [eos_token] for sublist in tgt_encodings] \n",
    "        full_encoding = list(zip(src_encodings, tgt_encodings, output_encodings))\n",
    "        full_encoding.sort(key=lambda x: len(x[0])) # sort sequence lengths\n",
    "        return full_encoding\n",
    "\n",
    "\n",
    "    def __getitem__(self, idx):\n",
    "        src_seq, tgt_seq, output_seq = self.paired_encodings[idx]\n",
    "        src_tensor = torch.tensor(src_seq, dtype=torch.long)\n",
    "        tgt_tensor = torch.tensor(tgt_seq, dtype=torch.long)\n",
    "        output_tensor = torch.tensor(output_seq, dtype=torch.long)\n",
    "\n",
    "        src_tensor = F.pad(src_tensor, (0, self.seq_len - src_tensor.size(0)), value=self.pad_token)\n",
    "        tgt_tensor = F.pad(tgt_tensor, (0, self.seq_len - tgt_tensor.size(0)), value=self.pad_token)\n",
    "        output_tensor = F.pad(output_tensor, (0, self.seq_len - output_tensor.size(0)), value=self.pad_token)\n",
    "        encoder_mask = (src_tensor != self.pad_token).int()\n",
    "\n",
    "        subsequent_mask = torch.tril(torch.ones((self.seq_len, self.seq_len), dtype=torch.int))\n",
    "        padding_mask = (tgt_tensor != self.pad_token).int()\n",
    "        decoder_mask = subsequent_mask & padding_mask.unsqueeze(0)\n",
    "\n",
    "        \n",
    "\n",
    "        return {\n",
    "            \"src\": src_tensor, # Seq_len\n",
    "            \"tgt\": tgt_tensor, # seq_len\n",
    "            \"output\": output_tensor, # seq_len\n",
    "            \"encoder_mask\" : encoder_mask.unsqueeze(0).unsqueeze(0), # 1 x 1 x seq_len\n",
    "            \"decoder_mask\" : decoder_mask.unsqueeze(0), # 1 x seq_len x seq_len\n",
    "        }\n",
    "\n",
    "    def __len__(self): \n",
    "        return len(self.paired_encodings)"
   ]
  },
  {
   "cell_type": "code",
   "execution_count": 18,
   "metadata": {},
   "outputs": [
    {
     "ename": "NameError",
     "evalue": "name 'english_encoded' is not defined",
     "output_type": "error",
     "traceback": [
      "\u001b[0;31m---------------------------------------------------------------------------\u001b[0m",
      "\u001b[0;31mNameError\u001b[0m                                 Traceback (most recent call last)",
      "Cell \u001b[0;32mIn[18], line 1\u001b[0m\n\u001b[0;32m----> 1\u001b[0m full_data \u001b[38;5;241m=\u001b[39m LanguageTranslationDataset(seq_length\u001b[38;5;241m=\u001b[39mconfig[\u001b[38;5;124m'\u001b[39m\u001b[38;5;124mSEQ_LEN\u001b[39m\u001b[38;5;124m'\u001b[39m], src_encodings\u001b[38;5;241m=\u001b[39m\u001b[43menglish_encoded\u001b[49m, tgt_encodings\u001b[38;5;241m=\u001b[39mgerman_encoded, sos_token\u001b[38;5;241m=\u001b[39mmax_vocab_size \u001b[38;5;241m+\u001b[39m \u001b[38;5;241m1\u001b[39m, eos_token\u001b[38;5;241m=\u001b[39mmax_vocab_size \u001b[38;5;241m+\u001b[39m \u001b[38;5;241m2\u001b[39m,\n\u001b[1;32m      2\u001b[0m                                         pad_token\u001b[38;5;241m=\u001b[39mmax_vocab_size \u001b[38;5;241m+\u001b[39m \u001b[38;5;241m3\u001b[39m)\n\u001b[1;32m      4\u001b[0m train_data, test_data \u001b[38;5;241m=\u001b[39m random_split(full_data, [config[\u001b[38;5;124m'\u001b[39m\u001b[38;5;124mTRAIN_RATIO\u001b[39m\u001b[38;5;124m'\u001b[39m], \u001b[38;5;241m1\u001b[39m\u001b[38;5;241m-\u001b[39mconfig[\u001b[38;5;124m'\u001b[39m\u001b[38;5;124mTRAIN_RATIO\u001b[39m\u001b[38;5;124m'\u001b[39m]])\n",
      "\u001b[0;31mNameError\u001b[0m: name 'english_encoded' is not defined"
     ]
    }
   ],
   "source": [
    "full_data = LanguageTranslationDataset(seq_length=config['SEQ_LEN'], src_encodings=english_encoded, tgt_encodings=german_encoded, sos_token=max_vocab_size + 1, eos_token=max_vocab_size + 2,\n",
    "                                        pad_token=max_vocab_size + 3)\n",
    "\n",
    "train_data, test_data = random_split(full_data, [config['TRAIN_RATIO'], 1-config['TRAIN_RATIO']])"
   ]
  },
  {
   "cell_type": "code",
   "execution_count": 12,
   "metadata": {},
   "outputs": [],
   "source": [
    "train_dataloader = DataLoader(train_data, batch_size=config['BATCH_SIZE'], shuffle=True, pin_memory=True)\n",
    "test_dataloader = DataLoader(test_data, batch_size=config['BATCH_SIZE'], shuffle=True, pin_memory=True)"
   ]
  },
  {
   "cell_type": "markdown",
   "metadata": {},
   "source": [
    "## Model Creation"
   ]
  },
  {
   "cell_type": "code",
   "execution_count": 511,
   "metadata": {},
   "outputs": [],
   "source": [
    "from papers.attention_is_all_you_need.TransformerComponents.Encoder import Encoder\n",
    "from papers.attention_is_all_you_need.TransformerComponents.Decoder import Decoder\n",
    "from papers.attention_is_all_you_need.TransformerComponents.PE import PositionalEmbedding\n",
    "from papers.attention_is_all_you_need.TransformerComponents.Transformer import Transformer\n",
    "from papers.attention_is_all_you_need.TransformerComponents.UtilsLayers import Projection"
   ]
  },
  {
   "cell_type": "code",
   "execution_count": 512,
   "metadata": {},
   "outputs": [],
   "source": [
    "# vocab_size = len(vocab) + 256 + 3 # 3 special tokens\n",
    "vocab_size = 8000"
   ]
  },
  {
   "cell_type": "code",
   "execution_count": 513,
   "metadata": {},
   "outputs": [],
   "source": [
    "encoder_transformer = Encoder(config['N_ENCODERS'], config['N_HEADS'], config['D_MODEL'], config['D_MODEL'] // config['N_HEADS'], config['D_MODEL'] // config['N_HEADS'], config['FF_HIDDEN'], config['DROPOUT'])\n",
    "decoder_transformer = Decoder(config['N_DECODERS'], config['N_HEADS'], config['D_MODEL'], config['D_MODEL'] // config['N_HEADS'], config['D_MODEL'] // config['N_HEADS'], config['FF_HIDDEN'], config['DROPOUT'])\n",
    "src_embeddings = PositionalEmbedding(vocab_size, config['D_MODEL'], config['SEQ_LEN'], config['DROPOUT'])\n",
    "tgt_embeddings = PositionalEmbedding(vocab_size, config['D_MODEL'], config['SEQ_LEN'], config['DROPOUT'])\n",
    "projection = Projection(config['D_MODEL'], vocab_size)"
   ]
  },
  {
   "cell_type": "code",
   "execution_count": 514,
   "metadata": {},
   "outputs": [],
   "source": [
    "device = torch.device(\"cuda\" if torch.cuda.is_available() else \"cpu\")\n",
    "model = Transformer(encoder_transformer, decoder_transformer, src_embeddings, tgt_embeddings, projection).to(device)"
   ]
  },
  {
   "cell_type": "code",
   "execution_count": 515,
   "metadata": {},
   "outputs": [
    {
     "data": {
      "text/plain": [
       "128"
      ]
     },
     "execution_count": 515,
     "metadata": {},
     "output_type": "execute_result"
    }
   ],
   "source": [
    "config['D_MODEL']"
   ]
  },
  {
   "cell_type": "code",
   "execution_count": 516,
   "metadata": {},
   "outputs": [],
   "source": [
    "model.initialise()"
   ]
  },
  {
   "cell_type": "code",
   "execution_count": 517,
   "metadata": {},
   "outputs": [
    {
     "name": "stdout",
     "output_type": "stream",
     "text": [
      "Trainable parameters: 5579092\n"
     ]
    }
   ],
   "source": [
    "trainable_params = sum(p.numel() for p in model.parameters() if p.requires_grad)\n",
    "print(\"Trainable parameters:\", trainable_params)"
   ]
  },
  {
   "cell_type": "markdown",
   "metadata": {},
   "source": [
    "## Analysing HPC Data"
   ]
  },
  {
   "cell_type": "code",
   "execution_count": 103,
   "metadata": {},
   "outputs": [],
   "source": [
    "base_path = Path(\"../papers/attention_is_all_you_need/experiments\")\n",
    "exp_2 = \"drop_warm\"\n",
    "exp_3 = \"hindi_drop_warm_smoothen\"\n",
    "exp_1 = \"no_drop_no_warm\""
   ]
  },
  {
   "cell_type": "code",
   "execution_count": 106,
   "metadata": {},
   "outputs": [],
   "source": [
    "train_losses = {}\n",
    "test_losses = {}\n",
    "sentences = {}\n",
    "\n",
    "for exp in [exp_3]:\n",
    "    with open(base_path / f\"{exp}_sentences.pkl\", \"rb\") as f:\n",
    "        sentences[exp] = pickle.load(f)\n",
    "\n",
    "    with open(base_path / f\"{exp}_train_loss.pkl\", \"rb\") as f:\n",
    "        train_losses[exp] = pickle.load(f)\n",
    "\n",
    "    with open(base_path / f\"{exp}_test_loss.pkl\", \"rb\") as f:\n",
    "        test_losses[exp] = pickle.load(f)"
   ]
  },
  {
   "cell_type": "code",
   "execution_count": 108,
   "metadata": {},
   "outputs": [
    {
     "data": {
      "image/png": "[encoded data removed]",
      "text/plain": [
       "<Figure size 1400x600 with 2 Axes>"
      ]
     },
     "metadata": {},
     "output_type": "display_data"
    }
   ],
   "source": [
    "import matplotlib.pyplot as plt\n",
    "\n",
    "fig, axes = plt.subplots(1, 2, figsize=(14, 6))\n",
    "\n",
    "# Plot training losses\n",
    "for exp_name, losses in train_losses.items():\n",
    "    axes[0].plot(losses, label=exp_name)\n",
    "axes[0].set_title(\"Training Loss Across Experiments\")\n",
    "axes[0].set_xlabel(\"Epochs\")\n",
    "axes[0].set_ylabel(\"Training Loss\")\n",
    "axes[0].legend()\n",
    "# axes[0].set_yscale(\"log\")\n",
    "axes[0].grid(True)\n",
    "\n",
    "# Plot test losses\n",
    "for exp_name, losses in test_losses.items():\n",
    "    axes[1].plot(losses, label=exp_name)\n",
    "axes[1].set_title(\"Test Loss Across Experiments\")\n",
    "axes[1].set_xlabel(\"Epochs\")\n",
    "axes[1].set_ylabel(\"Test Loss\")\n",
    "axes[1].legend()\n",
    "# axes[1].set_yscale(\"log\")\n",
    "axes[1].grid(True)\n",
    "\n",
    "# Show the plots"
   ]
  },
  {
   "cell_type": "code",
   "execution_count": 137,
   "metadata": {},
   "outputs": [],
   "source": [
    "def get_concatenated(files):\n",
    "    train = [pd.read_csv(file + \"_train_loss.txt\", header=None) for file in files]\n",
    "    test = [pd.read_csv(file + \"_test_loss.txt\", header=None) for file in files]\n",
    "    return pd.concat(train, ignore_index=True), pd.concat(test, ignore_index=True)"
   ]
  },
  {
   "cell_type": "markdown",
   "metadata": {},
   "source": [
    "## Attention Visualisation"
   ]
  },
  {
   "cell_type": "code",
   "execution_count": 18,
   "metadata": {},
   "outputs": [],
   "source": [
    "from attention_visualisation import get_attention\n"
   ]
  },
  {
   "cell_type": "code",
   "execution_count": 19,
   "metadata": {},
   "outputs": [
    {
     "ename": "NameError",
     "evalue": "name 'inference_data' is not defined",
     "output_type": "error",
     "traceback": [
      "\u001b[0;31m---------------------------------------------------------------------------\u001b[0m",
      "\u001b[0;31mNameError\u001b[0m                                 Traceback (most recent call last)",
      "Cell \u001b[0;32mIn[19], line 1\u001b[0m\n\u001b[0;32m----> 1\u001b[0m batch \u001b[38;5;241m=\u001b[39m \u001b[38;5;28mnext\u001b[39m(\u001b[38;5;28miter\u001b[39m(\u001b[43minference_data\u001b[49m))\n\u001b[1;32m      2\u001b[0m attention_dicts \u001b[38;5;241m=\u001b[39m get_attention(model, batch)\n",
      "\u001b[0;31mNameError\u001b[0m: name 'inference_data' is not defined"
     ]
    }
   ],
   "source": [
    "batch = next(iter(inference_data))\n",
    "attention_dicts = get_attention(model, batch)"
   ]
  },
  {
   "cell_type": "code",
   "execution_count": 193,
   "metadata": {},
   "outputs": [
    {
     "data": {
      "text/plain": [
       "torch.Size([20, 4, 140, 140])"
      ]
     },
     "execution_count": 193,
     "metadata": {},
     "output_type": "execute_result"
    }
   ],
   "source": [
    "# attention_dict --> (batch x n_heads x seq_len x seq_len)\n",
    "\n",
    "import torch\n",
    "import torch.nn as nn\n",
    "import matplotlib.pyplot as plt\n",
    "import numpy as np\n",
    "\n",
    "def process_and_visualise_attention(attentions, pixel_values, patch_size, threshold=0.6, raw_attn=False):    \n",
    "    # Extract the CLS token attention (first token attending to all patches)    \n",
    "    nh = attentions.shape[0]  # Number of attention heads\n",
    "    attentions = attentions[:, 0, 1:].reshape(nh, -1)\n",
    "    \n",
    "    w_featmap = pixel_values.shape[-2] // patch_size\n",
    "    h_featmap = pixel_values.shape[-1] // patch_size\n",
    "    \n",
    "    val, idx = torch.sort(attentions)  # Sort values per query\n",
    "    val /= torch.sum(val, dim=1, keepdim=True)  # Normalize each col to sum to 1\n",
    "    cumval = torch.cumsum(val, dim=1)  # Compute cumulative sum\n",
    "    th_attn = cumval > (1 - threshold)  # Mask for top 'threshold' percentage\n",
    "    idx2 = torch.argsort(idx)\n",
    "    \n",
    "    for head in range(nh):\n",
    "        th_attn[head] = th_attn[head][idx2[head]]\n",
    "\n",
    "    th_attn = th_attn.reshape(nh, w_featmap, h_featmap).float()\n",
    "    th_attn = nn.functional.interpolate(\n",
    "        th_attn.unsqueeze(0), scale_factor=patch_size, mode=\"bicubic\"\n",
    "    )[0].cpu().detach().numpy()\n",
    "\n",
    "    attentions = attentions.reshape(nh, w_featmap, h_featmap)\n",
    "    attentions = nn.functional.interpolate(\n",
    "        attentions.unsqueeze(0), scale_factor=patch_size, mode=\"bicubic\"\n",
    "    )[0].cpu().detach().numpy()\n",
    "\n",
    "    image_np = pixel_values.permute(1, 2, 0).cpu().numpy()  # Shape: (H, W, C)\n",
    "    image_np = (image_np - image_np.min()) / (image_np.max() - image_np.min())  # Normalize to [0,1]\n",
    "    \n",
    "    num_rows = 6 if raw_attn else 3  # Adjust number of rows based on raw_attn\n",
    "    num_cols = 4  # Fixed number of columns\n",
    "    figsize = (num_cols * 4, num_rows * 3)  # Adjust figure size dynamically\n",
    "\n",
    "    fig, axes = plt.subplots(nrows=num_rows, ncols=num_cols, figsize=figsize)\n",
    "    \n",
    "    for head in range(12):  # Iterate over all heads\n",
    "        row = head // num_cols  # Calculate row index\n",
    "        col = head % num_cols   # Calculate column index\n",
    "        \n",
    "        ax = axes[row, col]\n",
    "        ax.imshow(image_np)\n",
    "        ax.imshow(th_attn[head], cmap=\"jet\", alpha=0.4)\n",
    "        ax.set_title(f\"Head {head}\")\n",
    "        ax.axis(\"off\")\n",
    "    \n",
    "    plt.tight_layout()\n",
    "    plt.show()\n"
   ]
  },
  {
   "cell_type": "markdown",
   "metadata": {},
   "source": [
    "## Metrics Calculations"
   ]
  },
  {
   "cell_type": "code",
   "execution_count": 1,
   "metadata": {},
   "outputs": [],
   "source": [
    "%load_ext autoreload\n",
    "%autoreload 2"
   ]
  },
  {
   "cell_type": "code",
   "execution_count": 4,
   "metadata": {},
   "outputs": [],
   "source": [
    "from metrics import corpus_bleu, sentence_bleu"
   ]
  },
  {
   "cell_type": "code",
   "execution_count": 11,
   "metadata": {},
   "outputs": [
    {
     "name": "stdout",
     "output_type": "stream",
     "text": [
      "generated 1 more sentences\n"
     ]
    },
    {
     "data": {
      "text/plain": [
       "0.3967088290836577"
      ]
     },
     "execution_count": 11,
     "metadata": {},
     "output_type": "execute_result"
    }
   ],
   "source": [
    "original_sentence_1 = \"प्रचीन काल में एक राजा के राज्य में एकादशी के दिन सभी लोग व्रत रखते थे।\"\n",
    "model_sentence_1 = \"प्राचीन काल में, सभी लोग एकादशी के दिन में, एकादशी के दिन में प्रचार करते थे।\"\n",
    "sentence_bleu([original_sentence_1], model_sentence_1, generate_more=True)"
   ]
  },
  {
   "cell_type": "code",
   "execution_count": 12,
   "metadata": {},
   "outputs": [
    {
     "name": "stdout",
     "output_type": "stream",
     "text": [
      "generated 1 more sentences\n"
     ]
    }
   ],
   "source": [
    "original_sentence = 'भारत-प्रशांत क्षेत्र में समुद्री स्वतंत्रता के लिए भारत-अमेरिका के आह्वान के संदर्भ में हुआ ने कहा कि समुद्र में सुरक्षा नौवहन के बारे में हम अंतरराष्ट्रीय कानून में उल्लेखित कानूनी अधिकारों को कायम रखेंगे और हम यह उम्मीद भी करते हैं कि नौवहन स्वतंत्रता के लिए पक्ष वास्तविक काम करें।' \n",
    "original_sentence_mod = \"उन्होंने कहा कि भारत-ऑस्ट्रेलिया के बीच समुद्री सुरक्षा के संबंध में भारत और अमेरिका के बीच सहमति बनी है।\"\n",
    "model_sentence = 'भारत-अमेरिका के भारत-अमेरिका के लिए समुद्री स्वतंत्रता की अपील पर हुवा ने कहा, समुद्र में सुरक्षा नौवहन के बारे में हम अंतरराष्ट्रीय कानून में दायर कानूनी अधिकारों को बनाए रखते हैं और हम उम्मीद कर सकते हैं कि पक्ष ने भी सिंचाई की स्वतंत्रता सुनिश्चित करने के लिए वास्तविक चीजें कर सकते हैं।'\n",
    "a = sentence_bleu([original_sentence, original_sentence_mod], model_sentence, generate_more=False)\n",
    "b = corpus_bleu([[original_sentence, original_sentence_mod]], [model_sentence])"
   ]
  },
  {
   "cell_type": "code",
   "execution_count": 13,
   "metadata": {},
   "outputs": [],
   "source": [
    "t1 = corpus_bleu([[original_sentence, original_sentence_mod]], [model_sentence], raw_values=True)\n",
    "t2 = corpus_bleu([[original_sentence_1]], [model_sentence_1], raw_values=True)"
   ]
  },
  {
   "cell_type": "code",
   "execution_count": 20,
   "metadata": {},
   "outputs": [],
   "source": [
    "new_num = t1[0] + t2[0]\n",
    "new_denom = t1[1] + t2[1]\n",
    "new_ref = t1[3] + t2[3]\n",
    "new_cand = t1[2] + t2[2]"
   ]
  },
  {
   "cell_type": "code",
   "execution_count": 22,
   "metadata": {},
   "outputs": [],
   "source": [
    "from metrics import brevity_penality"
   ]
  },
  {
   "cell_type": "code",
   "execution_count": 25,
   "metadata": {},
   "outputs": [
    {
     "data": {
      "text/plain": [
       "0.264586891307893"
      ]
     },
     "execution_count": 25,
     "metadata": {},
     "output_type": "execute_result"
    }
   ],
   "source": [
    "import numpy as np\n",
    "bp = brevity_penality(new_cand, new_ref)\n",
    "pn = [new_num[i] / new_denom[i] if new_denom[i] > 0 else 0 for i in range(1, 5)]\n",
    "log_sum = sum([w * np.log(p) if p > 0 else 0 for w,p in zip((0.25, 0.25, 0.25, 0.25), pn)])\n",
    "bp * np.exp(log_sum)\n"
   ]
  },
  {
   "cell_type": "code",
   "execution_count": 13,
   "metadata": {},
   "outputs": [],
   "source": [
    "import json\n",
    "import glob\n",
    "import os\n",
    "combined_data = []\n",
    "\n",
    "# Construct a file pattern to search for JSON files in the input folder\n",
    "json_files = glob.glob(os.path.join(\"../data/en-hi/\", '*.json'))\n",
    "\n",
    "for file in json_files:\n",
    "    try:\n",
    "        with open(file, 'r', encoding='utf-8') as f:\n",
    "            data = json.load(f)\n",
    "            combined_data.extend(data)\n",
    "            # print(data)\n",
    "    except json.JSONDecodeError as e:\n",
    "        print(f\"Error decoding JSON from {file}: {e}\")\n",
    "    except Exception as e:\n",
    "        print(f\"An error occurred reading {file}: {e}\")\n",
    "\n",
    "# Write the combined data to the output file\n",
    "\n",
    "with open(\"../data/en-hi/test.json\", 'w') as f:\n",
    "    json.dump(combined_data, f, indent=4)\n"
   ]
  },
  {
   "cell_type": "code",
   "execution_count": 16,
   "metadata": {},
   "outputs": [
    {
     "data": {
      "text/plain": [
       "0.264586891307893"
      ]
     },
     "execution_count": 16,
     "metadata": {},
     "output_type": "execute_result"
    }
   ],
   "source": [
    "corpus_bleu([[original_sentence, original_sentence_mod], [original_sentence_1]], [model_sentence, model_sentence_1])"
   ]
  },
  {
   "cell_type": "code",
   "execution_count": null,
   "metadata": {},
   "outputs": [],
   "source": [
    "## Future Thoughts\n",
    "# Build that visualiser for attention heads\n",
    "# build some abalation pipeline ? \n",
    "# be able to run experiments keeping the number of total parameters constant but changing number of heads etc or should I keep\n",
    "# change the variable while keeping the rest of the config params constant"
   ]
  },
  {
   "cell_type": "code",
   "execution_count": 17,
   "metadata": {},
   "outputs": [
    {
     "name": "stdout",
     "output_type": "stream",
     "text": [
      "generated 1 more sentences\n"
     ]
    },
    {
     "data": {
      "text/plain": [
       "0.43759047241829613"
      ]
     },
     "execution_count": 17,
     "metadata": {},
     "output_type": "execute_result"
    }
   ],
   "source": [
    "original_sentence =  'देश में दो टीकों-कोवैक्सीन और सीरम इंस्टीट्यूट के कोविशील्ड को आपात उपयोग की मंजूरी मिली है।'\n",
    "model_sentence = 'भारत ने देश में आपातकालीन उपयोग के लिए भारत बायोटेक और सेरम इंस्टीट्यूट ऑफ इंडिया के कोविशील्डड को दो टीके को मंजूरी दी है।'\n",
    "sentence_bleu([original_sentence], model_sentence, generate_more=True)"
   ]
  },
  {
   "cell_type": "markdown",
   "metadata": {},
   "source": [
    "## Testing Scores"
   ]
  },
  {
   "cell_type": "code",
   "execution_count": 14,
   "metadata": {},
   "outputs": [
    {
     "data": {
      "text/plain": [
       "<All keys matched successfully>"
      ]
     },
     "execution_count": 14,
     "metadata": {},
     "output_type": "execute_result"
    }
   ],
   "source": [
    "from collections import OrderedDict\n",
    "checkpoint = torch.load(\"../papers/attention_is_all_you_need/Models/hindi_model_small_full_5/Model_230\", map_location=torch.device(\"cpu\"))\n",
    "checkpoint['model_state_dict'] = OrderedDict((k.replace(\"module.\", \"\"), v) for k, v in checkpoint['model_state_dict'].items())\n",
    "model.load_state_dict(checkpoint['model_state_dict'])"
   ]
  },
  {
   "cell_type": "code",
   "execution_count": 147,
   "metadata": {},
   "outputs": [],
   "source": [
    "import sentencepiece as spm\n",
    "sp = spm.SentencePieceProcessor(model_file=\"../papers/attention_is_all_you_need/BPE/en-hi.model\")\n",
    "# model_prediction(model, None, config['SEQ_LEN'], device, sp.bos_id(), sp.eos_id(), sp.pad_id())"
   ]
  },
  {
   "cell_type": "code",
   "execution_count": 148,
   "metadata": {},
   "outputs": [],
   "source": [
    "class LanguageTranslationDataset(Dataset):\n",
    "    def __init__(self, seq_length, src_encodings, tgt_encodings, sos_token, eos_token, pad_token):\n",
    "        super().__init__()\n",
    "        self.paired_encodings = LanguageTranslationDataset.augment_encodings(src_encodings, tgt_encodings, sos_token, eos_token)\n",
    "        self.seq_len = seq_length\n",
    "        self.pad_token = pad_token\n",
    "\n",
    "    @staticmethod\n",
    "    def augment_encodings(src_encodings, tgt_encodings, sos_token, eos_token):\n",
    "        src_encodings_app = [[sos_token] + sublist + [eos_token] for sublist in src_encodings]\n",
    "        tgt_encodings_app = [[sos_token] + sublist for sublist in tgt_encodings]\n",
    "        output_encodings = [sublist + [eos_token] for sublist in tgt_encodings] \n",
    "        full_encoding = list(zip(src_encodings_app, tgt_encodings_app, output_encodings))\n",
    "        # full_encoding.sort(key=lambda x: len(x[0])) # sort sequence lengths\n",
    "        return full_encoding\n",
    "\n",
    "\n",
    "    def __getitem__(self, idx):\n",
    "            src_seq, tgt_seq, output_seq = self.paired_encodings[idx]\n",
    "            # print(src_seq)\n",
    "            \n",
    "            # Convert to tensors\n",
    "            src_tensor = torch.tensor(src_seq, dtype=torch.long)\n",
    "            tgt_tensor = torch.tensor(tgt_seq, dtype=torch.long)\n",
    "            output_tensor = torch.tensor(output_seq, dtype=torch.long)\n",
    "\n",
    "            # **Ensure the sequence length does not exceed `seq_len`**\n",
    "            if src_tensor.size(0) > self.seq_len:\n",
    "                src_tensor = src_tensor[:self.seq_len]  # Crop excess tokens\n",
    "            if tgt_tensor.size(0) > self.seq_len:\n",
    "                tgt_tensor = tgt_tensor[:self.seq_len]  # Crop excess tokens\n",
    "            if output_tensor.size(0) > self.seq_len:\n",
    "                output_tensor = output_tensor[:self.seq_len]  # Crop excess tokens\n",
    "\n",
    "            # **Pad sequences to `seq_len` if they are shorter**\n",
    "            src_tensor = F.pad(src_tensor, (0, max(0, self.seq_len - src_tensor.size(0))), value=self.pad_token)\n",
    "            tgt_tensor = F.pad(tgt_tensor, (0, max(0, self.seq_len - tgt_tensor.size(0))), value=self.pad_token)\n",
    "            output_tensor = F.pad(output_tensor, (0, max(0, self.seq_len - output_tensor.size(0))), value=self.pad_token)\n",
    "            encoder_mask = (src_tensor != self.pad_token).int()\n",
    "            subsequent_mask = torch.tril(torch.ones((self.seq_len, self.seq_len), dtype=torch.int))\n",
    "            padding_mask = (tgt_tensor != self.pad_token).int()\n",
    "            decoder_mask = subsequent_mask & padding_mask.unsqueeze(0)\n",
    "\n",
    "\n",
    "\n",
    "            return {\n",
    "                \"src\": src_tensor, # Seq_len\n",
    "                \"tgt\": tgt_tensor, # seq_len\n",
    "                \"output\": output_tensor, # seq_len\n",
    "                \"encoder_mask\" : encoder_mask.unsqueeze(0).unsqueeze(0), # 1 x 1 x seq_len\n",
    "                \"decoder_mask\" : decoder_mask.unsqueeze(0), # 1 x seq_len x seq_len\n",
    "            }\n",
    "    def __len__(self): \n",
    "            return len(self.paired_encodings)\n",
    "        "
   ]
  },
  {
   "cell_type": "code",
   "execution_count": 149,
   "metadata": {},
   "outputs": [],
   "source": [
    "import itertools\n",
    "def get_data(datapath, ref_datapath, skiprows, amount, sp):\n",
    "    english_sentences = pd.read_table(Path(datapath) /  \"english_small.txt\",  header=None, skiprows=skiprows, nrows=amount)\n",
    "    hindi_sentences = pd.read_table(Path(datapath) /  \"hindi_small.txt\",  header=None, skiprows=skiprows, nrows=amount)\n",
    "\n",
    "    english_encoded = sp.encode_as_ids(english_sentences.iloc[:, 0].to_list())\n",
    "    with open(ref_datapath / \"test.json\", 'r') as f:\n",
    "        ref_sentences = json.load(f)\n",
    "    ref_sentences = ref_sentences[ : amount]\n",
    "    encoding_hindi = list(itertools.chain.from_iterable(ref_sentences))\n",
    "    # assert len(english_encoded) == len(ref_sentences)\n",
    "    hindi_encoded = sp.encode_as_ids(encoding_hindi)[:amount]\n",
    "    return english_encoded, hindi_encoded, ref_sentences, hindi_sentences"
   ]
  },
  {
   "cell_type": "code",
   "execution_count": 150,
   "metadata": {},
   "outputs": [],
   "source": [
    "def get_dataloaders(sp, english_encoded, tgt_encoded, amount):\n",
    "    full_data = LanguageTranslationDataset(seq_length=config['SEQ_LEN'], src_encodings=english_encoded, tgt_encodings=tgt_encoded, sos_token=sp.bos_id(), eos_token=sp.eos_id(),\n",
    "                                        pad_token=sp.pad_id())\n",
    "    dataloader = DataLoader(full_data, batch_size=amount, pin_memory=True, shuffle=False)\n",
    "    return full_data, dataloader"
   ]
  },
  {
   "cell_type": "code",
   "execution_count": 151,
   "metadata": {},
   "outputs": [],
   "source": [
    "def model_prediction(model, batch, max_len, device, sos_token, eos_token, pad_token):\n",
    "    underlying_model = model.module if hasattr(model, 'module') else model\n",
    "\n",
    "    encoder_input = batch['src'].to(device)  # B x seq_len\n",
    "    encoder_mask = batch['encoder_mask'].to(device)  # B x 1 x 1 x seq_len\n",
    "    encoder_output = underlying_model.encode(encoder_input, encoder_mask)\n",
    "\n",
    "    B = encoder_input.size(0)\n",
    "    decoder_input = torch.full((B, max_len), pad_token).to(device)\n",
    "    decoder_input[:, 0] = sos_token\n",
    "    finished = torch.zeros(B, dtype=torch.bool, device=device)\n",
    "\n",
    "    for t in range(max_len - 1):\n",
    "        subsequent_mask = torch.tril(torch.ones((max_len, max_len), dtype=torch.int)).expand(B, -1, -1).to(device)\n",
    "        other_mask = (decoder_input != pad_token).int().unsqueeze(1)\n",
    "        decoder_mask = (subsequent_mask & other_mask).unsqueeze(1).to(device)\n",
    "        out = underlying_model.decode(decoder_input, encoder_output, encoder_mask, decoder_mask)\n",
    "        prediction = underlying_model.proj(out)  # shape: (B, max_len, vocab_size)\n",
    "        next_tokens = torch.argmax(prediction[:, t, :], dim=-1)\n",
    "        next_tokens = torch.where(finished, pad_token, next_tokens)\n",
    "        decoder_input[:, t + 1] = next_tokens\n",
    "        finished |= (next_tokens == eos_token)\n",
    "        if finished.all():\n",
    "            break\n",
    "\n",
    "    return decoder_input"
   ]
  },
  {
   "cell_type": "code",
   "execution_count": 152,
   "metadata": {},
   "outputs": [],
   "source": [
    "import json\n",
    "english_encoded, hindi_encoded, ref_sentences, hindi_sentences = get_data(Path(\"../data/en-hi/\"), Path(\"../data/en-hi/\"), skiprows=550_000, amount=256, sp=sp)"
   ]
  },
  {
   "cell_type": "code",
   "execution_count": 153,
   "metadata": {},
   "outputs": [],
   "source": [
    "test, dataloader = get_dataloaders(sp, english_encoded, hindi_encoded, 32)"
   ]
  },
  {
   "cell_type": "code",
   "execution_count": 154,
   "metadata": {},
   "outputs": [],
   "source": [
    "ref_sentences = hindi_sentences.iloc[:, 0].tolist()"
   ]
  },
  {
   "cell_type": "code",
   "execution_count": 155,
   "metadata": {},
   "outputs": [
    {
     "name": "stderr",
     "output_type": "stream",
     "text": [
      "0it [00:27, ?it/s]\n"
     ]
    },
    {
     "ename": "NameError",
     "evalue": "name 'corpus_bleu' is not defined",
     "output_type": "error",
     "traceback": [
      "\u001b[0;31m---------------------------------------------------------------------------\u001b[0m",
      "\u001b[0;31mNameError\u001b[0m                                 Traceback (most recent call last)",
      "Cell \u001b[0;32mIn[155], line 9\u001b[0m\n\u001b[1;32m      7\u001b[0m pred \u001b[38;5;241m=\u001b[39m model_prediction(model, batch, \u001b[38;5;241m140\u001b[39m, \u001b[38;5;124m\"\u001b[39m\u001b[38;5;124mcpu\u001b[39m\u001b[38;5;124m\"\u001b[39m, sp\u001b[38;5;241m.\u001b[39mbos_id(), sp\u001b[38;5;241m.\u001b[39meos_id(), sp\u001b[38;5;241m.\u001b[39mpad_id())\n\u001b[1;32m      8\u001b[0m decoded \u001b[38;5;241m=\u001b[39m sp\u001b[38;5;241m.\u001b[39mdecode(pred\u001b[38;5;241m.\u001b[39mdetach()\u001b[38;5;241m.\u001b[39mcpu()\u001b[38;5;241m.\u001b[39mtolist())\n\u001b[0;32m----> 9\u001b[0m val1, val2, val3, val4 \u001b[38;5;241m=\u001b[39m \u001b[43mcorpus_bleu\u001b[49m(ref_sentences[(idx) \u001b[38;5;241m*\u001b[39m \u001b[38;5;241m32\u001b[39m: (idx \u001b[38;5;241m+\u001b[39m \u001b[38;5;241m1\u001b[39m) \u001b[38;5;241m*\u001b[39m \u001b[38;5;241m32\u001b[39m], decoded, raw_values\u001b[38;5;241m=\u001b[39m\u001b[38;5;28;01mTrue\u001b[39;00m)\n\u001b[1;32m     10\u001b[0m \u001b[38;5;66;03m# break\u001b[39;00m\n\u001b[1;32m     11\u001b[0m num_c \u001b[38;5;241m+\u001b[39m\u001b[38;5;241m=\u001b[39m val1\n",
      "\u001b[0;31mNameError\u001b[0m: name 'corpus_bleu' is not defined"
     ]
    }
   ],
   "source": [
    "from collections import Counter\n",
    "num_c = Counter({1: 0, 2: 0, 3: 0, 4:0})\n",
    "denom_c = Counter({1: 0, 2: 0, 3: 0, 4:0})\n",
    "ref_len = 0\n",
    "cand_len = 0\n",
    "for idx, batch in tqdm(enumerate(dataloader)):\n",
    "    pred = model_prediction(model, batch, 140, \"cpu\", sp.bos_id(), sp.eos_id(), sp.pad_id())\n",
    "    decoded = sp.decode(pred.detach().cpu().tolist())\n",
    "    val1, val2, val3, val4 = corpus_bleu(ref_sentences[(idx) * 32: (idx + 1) * 32], decoded, raw_values=True)\n",
    "    # break\n",
    "    num_c += val1\n",
    "    denom_c += val2\n",
    "    cand_len += val3\n",
    "    ref_len += val4\n",
    "    break"
   ]
  },
  {
   "cell_type": "code",
   "execution_count": 154,
   "metadata": {},
   "outputs": [
    {
     "data": {
      "text/plain": [
       "0.48096358779693094"
      ]
     },
     "execution_count": 154,
     "metadata": {},
     "output_type": "execute_result"
    }
   ],
   "source": [
    "from metrics import brevity_penality\n",
    "import numpy as np\n",
    "bp = brevity_penality(cand_len, ref_len)\n",
    "pn = [num_c[i] / denom_c[i] if denom_c[i] > 0 else 0 for i in range(1, 5)]\n",
    "log_sum = sum([w * np.log(p) if p > 0 else 0 for w,p in zip((0.25, 0.25, 0.25, 0.25), pn)])\n",
    "bp * np.exp(log_sum)"
   ]
  },
  {
   "cell_type": "code",
   "execution_count": null,
   "metadata": {},
   "outputs": [],
   "source": []
  },
  {
   "cell_type": "markdown",
   "metadata": {},
   "source": [
    "## Attention Visualiser\n"
   ]
  },
  {
   "cell_type": "code",
   "execution_count": 38,
   "metadata": {},
   "outputs": [
    {
     "data": {
      "text/plain": [
       "<All keys matched successfully>"
      ]
     },
     "execution_count": 38,
     "metadata": {},
     "output_type": "execute_result"
    }
   ],
   "source": [
    "from collections import OrderedDict\n",
    "checkpoint = torch.load(\"../papers/attention_is_all_you_need/Models/hindi_model_4_256_2048_2_2/Model_300\", map_location=torch.device(\"cpu\"))\n",
    "checkpoint['model_state_dict'] = OrderedDict((k.replace(\"module.\", \"\"), v) for k, v in checkpoint['model_state_dict'].items())\n",
    "model.load_state_dict(checkpoint['model_state_dict'])"
   ]
  },
  {
   "cell_type": "code",
   "execution_count": 81,
   "metadata": {},
   "outputs": [],
   "source": [
    "from papers.attention_is_all_you_need.TransformerComponents.AttentionHead import MultiHeadAttention\n",
    "\n",
    "attention_values_dict = {}\n",
    "query_dict = {}\n",
    "keys_dict = {}\n",
    "def attention_hook(module, input, output, name):\n",
    "    attention_values_dict[name] = module.attention_scores\n",
    "    query_dict[name] = module.queries\n",
    "    keys_dict[name] = module.keys\n",
    "\n",
    "hooks = []\n",
    "\n",
    "for name, module in model.named_modules():\n",
    "    if isinstance(module, MultiHeadAttention):\n",
    "        def get_hook(hook_name):\n",
    "            return lambda m, i, o: attention_hook(m, i, o, hook_name)\n",
    "        \n",
    "        # Register the hook with properly bound name\n",
    "        hook = module.register_forward_hook(get_hook(name))\n",
    "        hooks.append(hook)\n"
   ]
  },
  {
   "cell_type": "code",
   "execution_count": 82,
   "metadata": {},
   "outputs": [],
   "source": [
    "import sentencepiece as spm\n",
    "sp = spm.SentencePieceProcessor(model_file=\"../papers/attention_is_all_you_need/BPE/en-hi.model\")\n",
    "\n",
    "def get_padded_sentence(english_sentence, sp, seq_len = 140):\n",
    "    english_encoded = sp.Encode(english_sentence)    \n",
    "    src_encodings = [sp.bos_id()] + english_encoded + [sp.eos_id()]\n",
    "    tgt_encodings = [sp.pad_id()] * seq_len\n",
    "    src_tensor = torch.tensor(src_encodings, dtype=torch.long)\n",
    "    tgt_tensor = torch.tensor(tgt_encodings, dtype=torch.long)\n",
    "\n",
    "    if src_tensor.size(0) > seq_len:\n",
    "        src_tensor = src_tensor[:seq_len]  # Crop excess tokens\n",
    "    if tgt_tensor.size(0) > seq_len:\n",
    "        tgt_tensor = tgt_tensor[:seq_len]  # Crop excess tokens\n",
    "\n",
    "    src_tensor = F.pad(src_tensor, (0, max(0, seq_len - src_tensor.size(0))), value=sp.pad_id())\n",
    "    encoder_mask = (src_tensor != sp.pad_id()).int()\n",
    "    subsequent_mask = torch.tril(torch.ones((seq_len, seq_len), dtype=torch.int))\n",
    "    padding_mask = (tgt_tensor != sp.pad_id()).int()\n",
    "    decoder_mask = subsequent_mask & padding_mask.unsqueeze(0)\n",
    "\n",
    "    return {\n",
    "        \"src\": src_tensor.unsqueeze(0), # Seq_len\n",
    "        \"tgt\": tgt_tensor.unsqueeze(0), # seq_len\n",
    "        \"encoder_mask\" : encoder_mask.unsqueeze(0).unsqueeze(0).unsqueeze(0), # 1 x 1 x 1 x seq_len\n",
    "        \"decoder_mask\" : decoder_mask.unsqueeze(0).unsqueeze(0), # 1 x  1 x seq_len x seq_len\n",
    "    }"
   ]
  },
  {
   "cell_type": "code",
   "execution_count": 41,
   "metadata": {},
   "outputs": [],
   "source": [
    "def model_prediction(model, batch, max_len, device, sos_token, eos_token, pad_token, method='greedy', k=3, V=100, alpha=0.6):\n",
    "    underlying_model = model.module if hasattr(model, 'module') else model\n",
    "    if method == 'greedy':\n",
    "        encoder_input = batch['src'].to(device)  # B x seq_len\n",
    "        encoder_mask = batch['encoder_mask'].to(device)  # B x 1 x 1 x seq_len\n",
    "        encoder_mask[:, 0].zero_() # head 0 encoder mask is 0\n",
    "        encoder_output = underlying_model.encode(encoder_input, encoder_mask)\n",
    "\n",
    "        B = encoder_input.size(0)\n",
    "        decoder_input = torch.full((B, max_len), pad_token).to(device)\n",
    "        decoder_input[:, 0] = sos_token\n",
    "        finished = torch.zeros(B, dtype=torch.bool, device=device)\n",
    "        subsequent_mask = torch.tril(torch.ones((max_len, max_len), dtype=torch.int)).expand(B, -1, -1).to(device)\n",
    "\n",
    "        for t in range(max_len - 1):\n",
    "            other_mask = (decoder_input != pad_token).int().unsqueeze(1)\n",
    "            decoder_mask = (subsequent_mask & other_mask).unsqueeze(1).to(device)\n",
    "            out = underlying_model.decode(decoder_input, encoder_output, encoder_mask, decoder_mask)\n",
    "            prediction = underlying_model.proj(out)  # shape: (B, max_len, vocab_size)\n",
    "            next_tokens = torch.argmax(prediction[:, t, :], dim=-1)\n",
    "            next_tokens = torch.where(finished, pad_token, next_tokens)\n",
    "            decoder_input[:, t + 1] = next_tokens\n",
    "            finished |= (next_tokens == eos_token)\n",
    "            if finished.all():\n",
    "                break\n",
    "        return decoder_input\n",
    "    \n",
    "    elif method == 'beam_search':\n",
    "        encoder_input = batch['src'].to(device)  # 1 x seq_len\n",
    "        encoder_mask = batch['encoder_mask'].to(device)  # 1 x 1 x 1 x seq_len\n",
    "        encoder_output = underlying_model.encode(encoder_input, encoder_mask)\n",
    "        decoder_input = torch.full((k, max_len), pad_token, dtype=torch.long, device=device)\n",
    "        decoder_input[:, 0] = sos_token\n",
    "        \n",
    "        scores = torch.zeros(k, device=device)\n",
    "        finished = torch.zeros(k, dtype=torch.bool, device=device)\n",
    "        \n",
    "        completed_sequences = []\n",
    "        completed_scores = []\n",
    "        \n",
    "        subsequent_mask = torch.tril(\n",
    "            torch.ones((max_len, max_len), device=device, dtype=torch.uint8)\n",
    "        ).unsqueeze(0).unsqueeze(0)  # shape: (1, 1, max_len, max_len)\n",
    "        \n",
    "        beam_encoder_output = encoder_output.expand(k, -1, -1)\n",
    "        beam_src_mask = encoder_mask.expand(k, -1, -1, -1)\n",
    "        \n",
    "        for t in range(max_len - 1):\n",
    "            if finished.all():\n",
    "                break\n",
    "                \n",
    "            pad_mask = (decoder_input != pad_token).unsqueeze(1).unsqueeze(1)\n",
    "            decoder_mask = subsequent_mask & pad_mask\n",
    "            out = model.decode(decoder_input, beam_encoder_output, beam_src_mask, decoder_mask)\n",
    "            logits = model.proj(out)  # shape: (beam_size, max_len, vocab_size)\n",
    "            log_probs = F.log_softmax(logits[:, t, :], dim=-1)  # shape: (beam_size, vocab_size)\n",
    "            all_candidates = []\n",
    "            for beam_idx in range(k):\n",
    "                if finished[beam_idx]:\n",
    "                    continue\n",
    "                    \n",
    "                top_v_logprobs, top_v_indices = log_probs[beam_idx, :].topk(V)\n",
    "                for v_idx in range(V):\n",
    "                    token = top_v_indices[v_idx].item()\n",
    "                    logprob = top_v_logprobs[v_idx].item()\n",
    "                    new_score = scores[beam_idx] + logprob\n",
    "                    \n",
    "                    # Current length is t+1 (+1 for the token we're adding)\n",
    "                    seq_len = t + 2  # +1 for current position, +1 for 0-indexing\n",
    "                    normalised_score = new_score / (seq_len ** alpha)\n",
    "                    all_candidates.append((beam_idx, token, normalised_score, new_score))\n",
    "            \n",
    "            if not all_candidates:\n",
    "                break\n",
    "            all_candidates.sort(key=lambda x: x[2], reverse=True)\n",
    "            \n",
    "            next_decoder_input = torch.full((k, max_len), pad_token, dtype=torch.long, device=device)\n",
    "            next_scores = torch.zeros(k, device=device)\n",
    "            next_finished = torch.zeros(k, dtype=torch.bool, device=device)\n",
    "            \n",
    "            for new_idx, (old_beam_idx, token, _, raw_score) in enumerate(all_candidates[:k]):\n",
    "                next_decoder_input[new_idx] = decoder_input[old_beam_idx].clone()\n",
    "                next_decoder_input[new_idx, t+1] = token\n",
    "                next_scores[new_idx] = raw_score\n",
    "                if token == eos_token:\n",
    "                    next_finished[new_idx] = True\n",
    "                    \n",
    "                    completed_sequences.append(next_decoder_input[new_idx].clone())\n",
    "                    completed_scores.append(raw_score / ((t+2) ** alpha)) \n",
    "                elif next_finished[new_idx]:\n",
    "                    completed_sequences.append(next_decoder_input[new_idx].clone())\n",
    "                    completed_scores.append(raw_score / ((t+2) ** alpha))\n",
    "            \n",
    "            decoder_input = next_decoder_input\n",
    "            scores = next_scores\n",
    "            finished = next_finished\n",
    "        \n",
    "        for beam_idx in range(k):\n",
    "            if not finished[beam_idx]:\n",
    "                completed_sequences.append(decoder_input[beam_idx].clone())\n",
    "                completed_scores.append(scores[beam_idx] / (max_len ** alpha))\n",
    "        \n",
    "        if completed_sequences:\n",
    "            best_idx = torch.tensor(completed_scores, device=device).argmax().item()\n",
    "            return completed_sequences[best_idx].unsqueeze(0)\n",
    "        else:\n",
    "            # If no completed sequences (shouldn't happen), return best from current beam\n",
    "            best_idx = scores.argmax().item()\n",
    "            return decoder_input[best_idx].unsqueeze(0)  # Add batch dimension\n"
   ]
  },
  {
   "cell_type": "code",
   "execution_count": 89,
   "metadata": {},
   "outputs": [],
   "source": [
    "class AttentionScoreHook:\n",
    "    def __init__(self, model):\n",
    "        self.model = model\n",
    "        self.attention_scores = []\n",
    "        self.queries = []\n",
    "        self.keys = []\n",
    "        self.hook_handles = []\n",
    "        self.layer_count = 0\n",
    "        \n",
    "        self._register_hooks()\n",
    "    \n",
    "    def _make_hook(self, layer_idx):\n",
    "        def hook(module, input, output):\n",
    "            if hasattr(module, 'attention_scores'):\n",
    "                self.attention_scores.append((layer_idx, module.attention_scores.detach().cpu().clone()))\n",
    "                self.queries.append((layer_idx, module.queries.detach().cpu().clone()))\n",
    "                self.keys.append((layer_idx, module.keys.detach().cpu().clone()))\n",
    "        return hook\n",
    "    \n",
    "    def _register_hooks(self):\n",
    "        \"\"\"Register hooks on all MultiHeadAttention modules\"\"\"\n",
    "        layer_idx = 0\n",
    "        \n",
    "        for encoder_layer in self.model.encoder.layers:\n",
    "            handle = encoder_layer.attention.register_forward_hook(\n",
    "                self._make_hook(layer_idx)\n",
    "            )\n",
    "            self.hook_handles.append(handle)\n",
    "            layer_idx += 1\n",
    "            self.layer_count += 1\n",
    "        \n",
    "        for decoder_layer in self.model.decoder.layers:\n",
    "            # Self-attention\n",
    "            handle = decoder_layer.attention.register_forward_hook(\n",
    "                self._make_hook(layer_idx)\n",
    "            )\n",
    "            self.hook_handles.append(handle)\n",
    "            layer_idx += 1\n",
    "            self.layer_count += 1\n",
    "            \n",
    "            # Cross-attention\n",
    "            handle = decoder_layer.attention_2.register_forward_hook(\n",
    "                self._make_hook(layer_idx)\n",
    "            )\n",
    "            self.hook_handles.append(handle)\n",
    "            layer_idx += 1\n",
    "            self.layer_count += 1\n",
    "    \n",
    "    def get_attention_scores(self):\n",
    "        \"\"\"\n",
    "        Get attention scores as [num_layers, num_heads, seq_len, seq_len]\n",
    "        \n",
    "        Args:\n",
    "            batch_idx: Which batch item to extract (default: 0)\n",
    "            \n",
    "        Returns:\n",
    "            Tensor of shape [num_layers, num_heads, seq_len, seq_len]\n",
    "        \"\"\"\n",
    "\n",
    "        sorted_scores = sorted(self.attention_scores, key=lambda x: x[0])\n",
    "        sorted_queries = sorted(self.queries, key=lambda x: x[0])\n",
    "        sorted_keys = sorted(self.keys, key=lambda x: x[0])\n",
    "        results = []\n",
    "        for sorted_tensor in [sorted_scores, sorted_queries, sorted_keys]:\n",
    "            tensors = [score for _, score in sorted_tensor]\n",
    "            stacked = torch.stack(tensors, dim=0)  # [num_layers, batch, heads, seq_len, seq_len]\n",
    "            result = stacked[:, 0].numpy()  # [num_layers, heads, seq_len, seq_len]\n",
    "            results.append(result)\n",
    "        \n",
    "        self.attention_scores = []\n",
    "        self.keys = []\n",
    "        self.queries = []\n",
    "        return results[0], results[1], results[2]\n",
    "    \n",
    "    def remove_hooks(self):\n",
    "        for handle in self.hook_handles:\n",
    "            handle.remove()\n",
    "        self.hook_handles = []\n",
    "\n",
    "def extract_attention_weights(model, src, tgt, src_mask=None, tgt_mask=None):\n",
    "    hook = AttentionScoreHook(model)\n",
    "    with torch.no_grad():\n",
    "        model(src, tgt, src_mask, tgt_mask)\n",
    "    attention_weights, queries, keys = hook.get_attention_scores()\n",
    "    hook.remove_hooks()\n",
    "    return attention_weights, queries, keys"
   ]
  },
  {
   "cell_type": "code",
   "execution_count": 90,
   "metadata": {},
   "outputs": [],
   "source": [
    "def reorder_attention_values(attention_values, n_encoders):\n",
    "    return {\n",
    "        'encoder_attention' : attention_values[:n_encoders, ...],\n",
    "        'decoder_self_attention' : attention_values[n_encoders::2, ...],\n",
    "        'decoder_cross_attention' : attention_values[n_encoders + 1::2, ...]\n",
    "    }"
   ]
  },
  {
   "cell_type": "code",
   "execution_count": 91,
   "metadata": {},
   "outputs": [],
   "source": [
    "def get_token_until_eos(tokens):\n",
    "    if '<EOS>' in tokens:\n",
    "        eos_idx = tokens.index('<EOS>')\n",
    "        return tokens[: eos_idx + 1]\n",
    "    else:\n",
    "        return tokens"
   ]
  },
  {
   "cell_type": "code",
   "execution_count": 456,
   "metadata": {},
   "outputs": [],
   "source": [
    "converted_sentence = get_padded_sentence(\"He must have gone in that room.\", sp)\n",
    "pred = model_prediction(model, converted_sentence, 140, \"cpu\", sp.bos_id(), sp.eos_id(), sp.pad_id())\n",
    "# beam_search_best = model_prediction(model, converted_sentence, 140, \"cpu\", sp.bos_id(), sp.eos_id(), sp.pad_id(), method='beam_search', k=3, V = 500)\n",
    "split_encoded = sp.id_to_piece(converted_sentence['src'][0].tolist())\n",
    "split_decoded = sp.id_to_piece(pred.detach().cpu().tolist()[0])\n",
    "subsequent_mask = torch.tril(torch.ones((140, 140), dtype=torch.int))\n",
    "padding_mask = (pred != sp.pad_id()).int()\n",
    "decoder_mask = subsequent_mask & padding_mask\n",
    "attention_vals, query_vals, keys_vals = extract_attention_weights(model, converted_sentence['src'], pred, converted_sentence['encoder_mask'], decoder_mask.unsqueeze(0))\n",
    "# organised_weights = reorder_attention_values(attention_vals, 2)\n",
    "split_encoded_trim = get_token_until_eos(split_encoded)\n",
    "split_decoded_trim = get_token_until_eos(split_decoded)"
   ]
  },
  {
   "cell_type": "code",
   "execution_count": 457,
   "metadata": {},
   "outputs": [
    {
     "data": {
      "text/plain": [
       "'वह उस कमरे में जाना चाहिए था।'"
      ]
     },
     "execution_count": 457,
     "metadata": {},
     "output_type": "execute_result"
    }
   ],
   "source": [
    "sp.Decode(pred.detach().cpu().tolist()[0])"
   ]
  },
  {
   "cell_type": "code",
   "execution_count": 477,
   "metadata": {},
   "outputs": [
    {
     "data": {
      "text/html": [
       "\n",
       "        <iframe\n",
       "            width=\"100%\"\n",
       "            height=\"650\"\n",
       "            src=\"http://127.0.0.1:8050/\"\n",
       "            frameborder=\"0\"\n",
       "            allowfullscreen\n",
       "            \n",
       "        ></iframe>\n",
       "        "
      ],
      "text/plain": [
       "<IPython.lib.display.IFrame at 0x3b6e59090>"
      ]
     },
     "metadata": {},
     "output_type": "display_data"
    }
   ],
   "source": [
    "run_attention_dashboard(attention_vals, split_encoded_trim, split_decoded_trim, colormap='Viridis')"
   ]
  },
  {
   "cell_type": "code",
   "execution_count": 96,
   "metadata": {},
   "outputs": [
    {
     "data": {
      "text/html": [
       "\n",
       "        <iframe\n",
       "            width=\"100%\"\n",
       "            height=\"650\"\n",
       "            src=\"http://127.0.0.1:8051/\"\n",
       "            frameborder=\"0\"\n",
       "            allowfullscreen\n",
       "            \n",
       "        ></iframe>\n",
       "        "
      ],
      "text/plain": [
       "<IPython.lib.display.IFrame at 0x30a84ae90>"
      ]
     },
     "metadata": {},
     "output_type": "display_data"
    }
   ],
   "source": [
    "run_model_dashboard(attention_vals, split_encoded_trim, split_decoded_trim)"
   ]
  },
  {
   "cell_type": "code",
   "execution_count": 491,
   "metadata": {},
   "outputs": [
    {
     "data": {
      "text/html": [
       "\n",
       "        <iframe\n",
       "            width=\"100%\"\n",
       "            height=\"650\"\n",
       "            src=\"http://127.0.0.1:8052/\"\n",
       "            frameborder=\"0\"\n",
       "            allowfullscreen\n",
       "            \n",
       "        ></iframe>\n",
       "        "
      ],
      "text/plain": [
       "<IPython.lib.display.IFrame at 0x3bb1e07f0>"
      ]
     },
     "metadata": {},
     "output_type": "display_data"
    }
   ],
   "source": [
    "from attention_visualisation import run_neuron_dashboard\n",
    "raw_attention = query_vals @ keys_vals.transpose(0, 1, 3, 2)\n",
    "run_neuron_dashboard(raw_attention, attention_vals, query_vals, keys_vals, split_encoded_trim,  split_decoded_trim)"
   ]
  },
  {
   "cell_type": "markdown",
   "metadata": {},
   "source": [
    "## Ablation Studies"
   ]
  },
  {
   "cell_type": "code",
   "execution_count": 492,
   "metadata": {},
   "outputs": [
    {
     "data": {
      "text/plain": [
       "Transformer(\n",
       "  (encoder): Encoder(\n",
       "    (layers): ModuleList(\n",
       "      (0-1): 2 x EncoderBlock(\n",
       "        (attention): MultiHeadAttention(\n",
       "          (w_q): Linear(in_features=256, out_features=256, bias=False)\n",
       "          (w_k): Linear(in_features=256, out_features=256, bias=False)\n",
       "          (w_v): Linear(in_features=256, out_features=256, bias=False)\n",
       "          (w_o): Linear(in_features=256, out_features=256, bias=False)\n",
       "        )\n",
       "        (ff): PositionWiseFFN(\n",
       "          (linear_1): Linear(in_features=256, out_features=2048, bias=True)\n",
       "          (linear_2): Linear(in_features=2048, out_features=256, bias=True)\n",
       "        )\n",
       "        (residuals): ModuleList(\n",
       "          (0-1): 2 x ResidualConnection(\n",
       "            (norm): LayerNormalisation()\n",
       "            (dropout): Dropout(p=0.1, inplace=False)\n",
       "          )\n",
       "        )\n",
       "      )\n",
       "    )\n",
       "  )\n",
       "  (decoder): Decoder(\n",
       "    (layers): ModuleList(\n",
       "      (0-1): 2 x DecoderBlock(\n",
       "        (attention): MultiHeadAttention(\n",
       "          (w_q): Linear(in_features=256, out_features=256, bias=False)\n",
       "          (w_k): Linear(in_features=256, out_features=256, bias=False)\n",
       "          (w_v): Linear(in_features=256, out_features=256, bias=False)\n",
       "          (w_o): Linear(in_features=256, out_features=256, bias=False)\n",
       "        )\n",
       "        (ff): PositionWiseFFN(\n",
       "          (linear_1): Linear(in_features=256, out_features=2048, bias=True)\n",
       "          (linear_2): Linear(in_features=2048, out_features=256, bias=True)\n",
       "        )\n",
       "        (attention_2): MultiHeadAttention(\n",
       "          (w_q): Linear(in_features=256, out_features=256, bias=False)\n",
       "          (w_k): Linear(in_features=256, out_features=256, bias=False)\n",
       "          (w_v): Linear(in_features=256, out_features=256, bias=False)\n",
       "          (w_o): Linear(in_features=256, out_features=256, bias=False)\n",
       "        )\n",
       "        (residuals): ModuleList(\n",
       "          (0-2): 3 x ResidualConnection(\n",
       "            (norm): LayerNormalisation()\n",
       "            (dropout): Dropout(p=0.1, inplace=False)\n",
       "          )\n",
       "        )\n",
       "      )\n",
       "    )\n",
       "  )\n",
       "  (proj): Projection(\n",
       "    (linear): Linear(in_features=256, out_features=8000, bias=True)\n",
       "  )\n",
       "  (src_embedding): PositionalEmbedding(\n",
       "    (dropout): Dropout(p=0.1, inplace=False)\n",
       "    (normal_embedding): Embedding(8000, 256)\n",
       "  )\n",
       "  (tgt_embedding): PositionalEmbedding(\n",
       "    (dropout): Dropout(p=0.1, inplace=False)\n",
       "    (normal_embedding): Embedding(8000, 256)\n",
       "  )\n",
       ")"
      ]
     },
     "execution_count": 492,
     "metadata": {},
     "output_type": "execute_result"
    }
   ],
   "source": [
    "model"
   ]
  }
 ],
 "metadata": {
  "kernelspec": {
   "display_name": "dl_scratch",
   "language": "python",
   "name": "python3"
  },
  "language_info": {
   "codemirror_mode": {
    "name": "ipython",
    "version": 3
   },
   "file_extension": ".py",
   "mimetype": "text/x-python",
   "name": "python",
   "nbconvert_exporter": "python",
   "pygments_lexer": "ipython3",
   "version": "3.10.16"
  }
 },
 "nbformat": 4,
 "nbformat_minor": 2
}
