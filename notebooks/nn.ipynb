{
 "cells": [
  {
   "cell_type": "code",
   "execution_count": 4,
   "metadata": {},
   "outputs": [],
   "source": [
    "import numpy as np\n",
    "import pandas as pd\n",
    "import matplotlib.pyplot as plt"
   ]
  },
  {
   "cell_type": "markdown",
   "metadata": {},
   "source": [
    "## Scalar"
   ]
  },
  {
   "cell_type": "code",
   "execution_count": 389,
   "metadata": {},
   "outputs": [],
   "source": [
    "class Scalar:\n",
    "    def __init__(self, value, op=None, children=()):\n",
    "        self.value = value\n",
    "        self.grad = 0\n",
    "        self.is_leaf = not children\n",
    "        self.children = children\n",
    "        self.op = op\n",
    "        self._backward = lambda : None\n",
    "\n",
    "    def __add__(self, other):\n",
    "        other = other if isinstance(other, Scalar) else Scalar(other)\n",
    "        out = Scalar(self.value + other.value, children=(self, other), op='+')\n",
    "\n",
    "        def _backward():\n",
    "            self.grad += 1.0 * out.grad\n",
    "            other.grad += 1.0 * out.grad\n",
    "        out._backward = _backward\n",
    "        return out\n",
    "    \n",
    "    def __radd__(self, other):\n",
    "        return self + other\n",
    "        \n",
    "    def __sub__(self, other):\n",
    "        other = other if isinstance(other, Scalar) else Scalar(other)\n",
    "        out = Scalar(self.value - other.value, op='-',  children=(self, other))\n",
    "        def _backward():\n",
    "            self.grad += 1.0 * out.grad\n",
    "            other.grad -= 1.0 * out.grad\n",
    "        out._backward = _backward\n",
    "        return out\n",
    "        \n",
    "\n",
    "\n",
    "    def __mul__(self, other):\n",
    "        other = other if isinstance(other, Scalar) else Scalar(other)\n",
    "        out = Scalar(self.value * other.value, op='*',  children=(self, other))\n",
    "        def _backward():\n",
    "            self.grad += other.value * out.grad\n",
    "            other.grad += self.value * out.grad\n",
    "        out._backward = _backward\n",
    "        \n",
    "        return out\n",
    "    \n",
    "    def __rmul__(self, other):\n",
    "        return other * self\n",
    "    \n",
    "    def __truediv__(self, other):\n",
    "        return self * (other ** -1)\n",
    "            \n",
    "    def __pow__(self, other):\n",
    "        out = Scalar(self.value ** other, children=(self, ), op='power')\n",
    "\n",
    "        def _backward():\n",
    "            self.grad += other * self.value ** (other - 1) * out.grad\n",
    "        \n",
    "        out._backward = _backward\n",
    "        return out\n",
    "    \n",
    "\n",
    "    def backward(self):\n",
    "        topo = []\n",
    "        visited = set()\n",
    "        def build_topo(v):\n",
    "            if v not in visited:\n",
    "                visited.add(v)\n",
    "                for child in v.children:\n",
    "                    build_topo(child)\n",
    "                topo.append(v)\n",
    "        build_topo(self)\n",
    "\n",
    "        self.grad = 1\n",
    "        for v in reversed(topo):\n",
    "            v._backward()\n",
    "        # self.grad = 1\n",
    "        # self._backward()\n",
    "        # child_list  = [c for c in self.children]\n",
    "        # while child_list:\n",
    "        #     curr = child_list.pop(0)\n",
    "        #     curr._backward()\n",
    "        #     if not curr.is_leaf:\n",
    "        #         for d in curr.children:\n",
    "        #             child_list.append(d)\n",
    "\n",
    "    def exp(self):\n",
    "        x = self.value\n",
    "        out = Scalar(np.exp(x), children=(self, ), op='exp')\n",
    "        \n",
    "        def _backward():\n",
    "            self.grad += out.grad * out.value\n",
    "        out._backward = _backward\n",
    "        return out\n",
    "    \n",
    "    def tanh(self):\n",
    "        x = self.value\n",
    "        fun = lambda x: (np.exp(x) - np.exp(-x))/(np.exp(x) + np.exp(-x))\n",
    "        out = Scalar(fun(x), children=(self, ))\n",
    "\n",
    "        def _backward():\n",
    "            self.grad += out.grad * (1 - fun(x)**2)\n",
    "        out._backward = _backward\n",
    "        return out\n",
    "    \n",
    "    def sigmoid(self):\n",
    "        x = self.value\n",
    "        fun = lambda x: 1/(1 + np.exp(-x))\n",
    "        out = Scalar(fun(x), children=(self, ))\n",
    "\n",
    "        def _backward():\n",
    "            self.grad += out.grad * fun(x) * (1-fun(x))\n",
    "        out._backward = _backward\n",
    "        return out\n",
    "    \n",
    "    def relu(self):\n",
    "        x = self.value\n",
    "        out = Scalar(np.max([0, x]), children=(self,))\n",
    "\n",
    "        def _backward():\n",
    "            self.grad += 1 if x > 0 else 0\n",
    "        out._backward = _backward\n",
    "        return out\n",
    "    \n",
    "    def leaky_relu(self, alpha=0.1):\n",
    "        x = self.value\n",
    "        out = Scalar(np.max([x, -alpha*x]), children=(self, ))\n",
    "\n",
    "        def _backward():\n",
    "            self.grad += 1 if x > 0 else alpha\n",
    "        out._backward = _backward\n",
    "        return out\n",
    "    \n",
    "    def __repr__(self):\n",
    "        return f\"Scalar(data: {self.value})\""
   ]
  },
  {
   "cell_type": "code",
   "execution_count": 390,
   "metadata": {},
   "outputs": [],
   "source": [
    "a = Scalar(2.1)\n",
    "b = Scalar(0.8)\n",
    "c = a * b\n",
    "d = c * 0.25\n",
    "e = d.tanh()\n"
   ]
  },
  {
   "cell_type": "code",
   "execution_count": 391,
   "metadata": {},
   "outputs": [],
   "source": [
    "e.backward()"
   ]
  },
  {
   "cell_type": "code",
   "execution_count": 394,
   "metadata": {},
   "outputs": [
    {
     "data": {
      "text/plain": [
       "(Scalar(data: 2.1),\n",
       " Scalar(data: 0.8),\n",
       " Scalar(data: 1.6800000000000002),\n",
       " Scalar(data: 0.42000000000000004),\n",
       " Scalar(data: 0.39693043200507755))"
      ]
     },
     "execution_count": 394,
     "metadata": {},
     "output_type": "execute_result"
    }
   ],
   "source": [
    "a,b,c,d,e"
   ]
  },
  {
   "cell_type": "markdown",
   "metadata": {},
   "source": [
    "## Neural Network"
   ]
  },
  {
   "cell_type": "code",
   "execution_count": 395,
   "metadata": {},
   "outputs": [],
   "source": [
    "class Neuron:\n",
    "    def __init__(self, nin):\n",
    "        self.w = [Scalar(x) for x in np.random.normal(size=nin)]\n",
    "        self.b = Scalar(0.0)\n",
    "\n",
    "    \n",
    "    def __call__(self, input, activation='relu', args=None):\n",
    "        assert len(input) == len(self.w), \"input size is not equal to weights initialisation\"\n",
    "        out = sum((wi * xi for wi, xi in zip(self.w, input)), self.b)\n",
    "        if activation == 'relu':\n",
    "            post_act = out.relu()\n",
    "        elif activation == 'leaky_relu':\n",
    "            alpha = 0.1 if args is None else args \n",
    "            post_act = out.leaky_relu(alpha=alpha)\n",
    "        elif activation == 'sigmoid':\n",
    "            post_act = out.sigmoid()\n",
    "        elif activation == 'tanh':\n",
    "            post_act = out.tanh()\n",
    "        else: \n",
    "            raise ValueError(\"Incorrect Activation Function provided\")\n",
    "        \n",
    "        return post_act\n",
    "    \n",
    "    def parameters(self):\n",
    "        return self.w + [self.b]\n",
    "    \n",
    "\n",
    "class Layer:\n",
    "    def __init__(self, lsize, nin):\n",
    "        self.neurons = [Neuron(nin) for _ in range(lsize)]\n",
    "\n",
    "    def __call__(self, *args, activation='relu'):\n",
    "        layer_out = [neuron(args[0], activation=activation) for neuron in self.neurons]\n",
    "        return layer_out\n",
    "    \n",
    "    def parameters(self):\n",
    "        return [p for neuron in self.neurons for p in neuron.parameters()]\n",
    "\n",
    "class MLP:\n",
    "    def __init__(self, lsizes, nin):\n",
    "        sz = [nin] + lsizes\n",
    "        self.layers = [Layer(sz[i+1], sz[i]) for i in range(len(lsizes))]\n",
    "\n",
    "    def __call__(self, *args, activation='relu'):\n",
    "        x = args[0]\n",
    "        for layer in self.layers:\n",
    "            x  = layer(x, activation=activation)\n",
    "        return x\n",
    "\n",
    "    def parameters(self):\n",
    "        return [p for layer in self.layers for p in layer.parameters()]\n"
   ]
  },
  {
   "cell_type": "code",
   "execution_count": 8,
   "metadata": {},
   "outputs": [],
   "source": [
    "xs = [\n",
    "    [2.0, 3.0, -1.0], \n",
    "    [3.0, -1, 0.5], \n",
    "    [0.5, 1.0, 1.0],\n",
    "    [1.0, 1.0, -1]\n",
    "]\n",
    "\n",
    "ys = [1, -1, -1, 1]\n"
   ]
  },
  {
   "cell_type": "code",
   "execution_count": 408,
   "metadata": {},
   "outputs": [],
   "source": [
    "model = MLP([4, 4, 1], 3)"
   ]
  },
  {
   "cell_type": "code",
   "execution_count": 409,
   "metadata": {},
   "outputs": [],
   "source": [
    "loss_t = []\n",
    "for _ in range(20):\n",
    "    ypred = [model(x, activation='tanh')[0] for x in xs]\n",
    "    loss = sum((yout - ygt)**2 for yout, ygt in zip(ypred, ys))\n",
    "    for p in model.parameters():\n",
    "        p.grad = 0.0\n",
    "\n",
    "    loss.backward()\n",
    "\n",
    "    for p in model.parameters():\n",
    "        p.value += -0.05 * p.grad\n",
    "    \n",
    "    loss_t.append(loss.value)"
   ]
  },
  {
   "cell_type": "code",
   "execution_count": 410,
   "metadata": {},
   "outputs": [
    {
     "data": {
      "text/plain": [
       "[Scalar(data: 0.9179116258156363),\n",
       " Scalar(data: -0.9671157822285359),\n",
       " Scalar(data: -0.9200399208773009),\n",
       " Scalar(data: 0.929924199466702)]"
      ]
     },
     "execution_count": 410,
     "metadata": {},
     "output_type": "execute_result"
    }
   ],
   "source": [
    "ypred"
   ]
  },
  {
   "cell_type": "code",
   "execution_count": 411,
   "metadata": {},
   "outputs": [
    {
     "data": {
      "text/plain": [
       "[<matplotlib.lines.Line2D at 0x17a789f90>]"
      ]
     },
     "execution_count": 411,
     "metadata": {},
     "output_type": "execute_result"
    },
    {
     "data": {
      "image/png": "[encoded data removed]",
      "text/plain": [
       "<Figure size 640x480 with 1 Axes>"
      ]
     },
     "metadata": {},
     "output_type": "display_data"
    }
   ],
   "source": [
    "\n",
    "plt.plot(loss_t[:], '-')"
   ]
  },
  {
   "cell_type": "markdown",
   "metadata": {},
   "source": [
    "## Tensor"
   ]
  },
  {
   "cell_type": "code",
   "execution_count": null,
   "metadata": {},
   "outputs": [],
   "source": []
  },
  {
   "cell_type": "markdown",
   "metadata": {},
   "source": [
    "#### Matrix Equations Derivations\n",
    "Let us consider a simple 2-layer perceptron with input $x_1 \\in \\mathbb{R}^{N_1 \\times 1}$ and some non-linear activation functions. We have the following equations, along with their shapes:\n",
    "$$a_1 = W_1 x_1 + b_1, \\hspace{10pt} W_1 \\in \\mathbb{R}^{M_1 \\times N_1}  \\hspace{5pt} b_1, a_1 \\in \\mathbb{R}^{M_1 \\times 1} $$\n",
    " $$ h_1 = f_1(a_1), \\hspace{10pt} h_1 \\in \\mathbb{R}^{M_1 \\times 1} $$\n",
    "$$a_2 = W_2 h_1 + b_2, \\hspace{10pt} W_2 \\in \\mathbb{R}^{M_2 \\times M_1}  \\hspace{5pt} b_2, a_2 \\in \\mathbb{R}^{M_2 \\times 1} $$\n",
    " $$ y_2 = f_2(a_2), \\hspace{10pt} y_2 \\in \\mathbb{R}^{M_2 \\times 1} $$\n",
    " $$L = \\frac{1}{2}(y_2 - y_g)^2 \\hspace{10pt} L \\in \\mathbb{R}^{M_2 \\times 1}$$\n",
    "\n",
    "\n",
    " Now, we consider the back-propagation step, starting with the first derivatives:\n",
    " $$\\frac{\\partial L} {\\partial y_2} = y_2 - y_g$$\n",
    " $$\\frac{\\partial L} {\\partial a_2} = \\frac{\\partial L} {\\partial y_2} \\cdot \\frac{\\partial y_2} {\\partial y_2} =  (y_2 - y_g) \\odot f_2'(a_2)$$\n",
    "  $$\\boxed{\\frac{\\partial L} {\\partial W_2} = \\frac{\\partial L} {\\partial a_2} \\cdot \\frac{\\partial a_2} {\\partial W_2} =   (y_2 - y_g) \\odot f_2'(a_2) \\times h_1^T}$$\n",
    "$$\\boxed{\\frac{\\partial L} {\\partial b_2} = \\frac{\\partial L} {\\partial a_2} \\cdot \\frac{\\partial a_2} {\\partial b_2} =   (y_2 - y_g) \\odot f_2'(a_2) \\times 1}$$\n",
    "$$\\frac{\\partial L} {\\partial h_1} = \\frac{\\partial L} {\\partial a_2} \\cdot \\frac{\\partial a_2} {\\partial h_1} =  W_2^T \\times \\left((y_2 - y_g) \\odot f_2'(a_2)\\right)  $$\n",
    "$$\\frac{\\partial L} {\\partial a_1} = \\frac{\\partial L} {\\partial h_1} \\cdot \\frac{\\partial h_1} {\\partial a_1} =    W_2^T \\times \\left((y_2 - y_g) \\odot f_2'(a_2)\\right) \\odot f_1'(a_1) $$\n",
    "$$\\boxed{\\frac{\\partial L} {\\partial W_1} = \\frac{\\partial L} {\\partial a_1} \\cdot \\frac{\\partial a_1} {\\partial W_1} =    W_2^T \\times \\left((y_2 - y_g) \\odot f_2'(a_2)\\right) \\odot f_1'(a_1) \\times x_1^T} $$\n",
    "$$\\boxed{\\frac{\\partial L} {\\partial b_1} = \\frac{\\partial L} {\\partial a_1} \\cdot \\frac{\\partial a_1} {\\partial b_1} =  W_2^T \\times \\left((y_2 - y_g) \\odot f_2'(a_2)\\right) \\odot f_1'(a_1)}$$\n",
    "\n",
    "\n",
    "Now, let us do this generically for an n-layer neural network:\n",
    "$$a_1 = W_1 x_1 + b_1, \\hspace{10pt} W_1 \\in \\mathbb{R}^{M_1 \\times N_1}  \\hspace{5pt} b_1, a_1 \\in \\mathbb{R}^{M_1 \\times 1} $$\n",
    " $$ h_1 = f_1(a_1), \\hspace{10pt} h_1 \\in \\mathbb{R}^{M_1 \\times 1} $$\n",
    " $$a_j = W_j h_{j-1} + b_j, \\hspace{10pt} W_j \\in \\mathbb{R}^{M_{j} \\times M_{j-1}}  \\hspace{5pt} b_j, a_j \\in \\mathbb{R}^{M_j \\times 1} $$\n",
    " $$ h_j = f_j(a_j), \\hspace{10pt} y_j \\in \\mathbb{R}^{M_j \\times 1} $$\n",
    "$$a_N = W_N h_{N-1} + b_N, \\hspace{10pt} W_n \\in \\mathbb{R}^{M_{N} \\times M_{N-1}}  \\hspace{5pt} b_N, a_N \\in \\mathbb{R}^{M_N \\times 1} $$\n",
    " $$ y_N = f_N(a_N), \\hspace{10pt} y_N \\in \\mathbb{R}^{M_N \\times 1} $$\n",
    " $$L = (y_N - y_g)^2 \\hspace{10pt} L \\in \\mathbb{R}^{M_N \\times 1}$$\n",
    "\n",
    " $$\\boxed{\\frac{\\partial L} {\\partial W_j} = \\frac{\\partial L} {\\partial a_j} \\cdot \\frac{\\partial a_j} {\\partial W_j} =   \\left(W_{j-1}^T \\times \\left(...W_N \\times (y_N - y_g) \\odot f_N'(a_N)\\right)... \\odot f_{N-1}'(a_{N-1}) \\right) \\odot f_j'(a_j) \\times h_{j-1}^T} $$\n",
    "$$\\boxed{\\frac{\\partial L} {\\partial b_j} = \\frac{\\partial L} {\\partial a_j} \\cdot \\frac{\\partial a_j} {\\partial b_j} =   \\left(W_{j-1}^T \\times \\left(...W_N \\times (y_N - y_g) \\odot f_N'(a_N)\\right)... \\odot f_{N-1}'(a_{N-1}) \\right) \\odot f_j'(a_j)}$$\n",
    "\n",
    "\n"
   ]
  },
  {
   "cell_type": "code",
   "execution_count": 15,
   "metadata": {},
   "outputs": [],
   "source": [
    "from abc import ABC, abstractmethod"
   ]
  },
  {
   "cell_type": "code",
   "execution_count": 223,
   "metadata": {},
   "outputs": [],
   "source": [
    "class Tensor:\n",
    "    def __init__(self, input):\n",
    "        self.tensor = np.array(input)\n",
    "        self.size = self.tensor.shape\n",
    "\n",
    "\n",
    "class LayerT:\n",
    "    def __init__(self, nin, nout):\n",
    "        self.biases = np.zeros(shape=(nout, 1))\n",
    "        self.weights = np.random.uniform(-np.sqrt(6/(nin + nout)), np.sqrt(6/(nin + nout)), size=(nout, nin))\n",
    "        self.weights_grad = 0.0 * self.weights\n",
    "        self.biases_grad = 0.0 * self.biases\n",
    "        self.x = None\n",
    "        \n",
    "    def _broadcast_rule_checker(self, x, y):\n",
    "        x_shape = x.shape\n",
    "        y_shape = y.shape\n",
    "\n",
    "        for i in range(1, min(len(x_shape), len(y_shape))+1):\n",
    "            if x_shape[-i] != y_shape[-i]: \n",
    "                raise ValueError(f\"Dimensions do not match: dim {-i}\")\n",
    "        \n",
    "        while len(x_shape) < len(y_shape):\n",
    "            x = np.expand_dims(x, 0)\n",
    "        while len(y_shape) < len(x_shape):\n",
    "            y = np.expand_dims(y, 0)\n",
    "        return x,y\n",
    "\n",
    "    def __call__(self, x):\n",
    "        self.x = x\n",
    "        return self.weights @ x + self.biases\n",
    "        \n",
    "    def parameters_count(self):\n",
    "        return self.weights.size + self.biases.size\n",
    "    \n",
    "    def _backward(self):\n",
    "        return \n",
    "        \n",
    "class NonLinearity(ABC):\n",
    "\n",
    "    @abstractmethod\n",
    "    def fun(self, x):\n",
    "        pass\n",
    "\n",
    "    @abstractmethod \n",
    "    def _backward(self):\n",
    "        pass\n",
    "\n",
    "class Tanh(NonLinearity):\n",
    "    def __init__(self):\n",
    "        super().__init__()\n",
    "        self.x = None\n",
    "        \n",
    "    def fun(self, x):\n",
    "        self.x = x\n",
    "        return (np.exp(x) - np.exp(-x))/(np.exp(x) + np.exp(-x))\n",
    "\n",
    "    def __call__(self, x):\n",
    "         return self.fun(x)\n",
    "    \n",
    "    def _backward(self):\n",
    "        return (1- self.fun(self.x)**2)\n",
    "    \n",
    "class Relu(NonLinearity):\n",
    "    def __init__(self, alpha=0.0):\n",
    "        self.alpha = alpha\n",
    "        self.x = None\n",
    "            \n",
    "    def fun(self, x):\n",
    "        self.x = x\n",
    "        return np.where(x > 0, x, self.alpha * x)\n",
    "    \n",
    "    def __call__(self, x):\n",
    "        return self.fun(x)\n",
    "        \n",
    "    def _backward(self):\n",
    "         return np.where(self.x > 0, 1.0, self.alpha)\n",
    "        \n",
    "\n",
    "class Sigmoid(NonLinearity):\n",
    "    def __init__(self):\n",
    "        super().__init__()\n",
    "        self.x = None\n",
    "\n",
    "    def fun(self, x):\n",
    "        self.x = x\n",
    "        return 1/(1 + np.exp(-x))\n",
    "\n",
    "    def __call__(self, x):\n",
    "        return self.fun(x)\n",
    "    \n",
    "    def _backward(self):\n",
    "        return self.fun(self.x) * (1-self.fun(self.x))\n",
    "    \n",
    "class NormLoss:\n",
    "    def __init__(self, pow=2):\n",
    "        self.pow = pow\n",
    "        self.x = None\n",
    "        self.y = None\n",
    "\n",
    "    def __call__(self, x, y):\n",
    "        self.x = x\n",
    "        self.y = y\n",
    "        return np.sum(np.abs(x-y)**self.pow)\n",
    "    \n",
    "    def _backward(self):\n",
    "        if self.x is None:\n",
    "            raise ValueError(\"No Forward Pass Called\")\n",
    "        return 2 * (self.x-self.y)\n",
    "    \n",
    "\n",
    "class NeuralNetwork:\n",
    "    def __init__(self, layers=[]):\n",
    "        self.layers = layers\n",
    "    \n",
    "    def add(self, l):\n",
    "        l = [l] if not isinstance(l, list) else l\n",
    "        self.layers.extend(l)\n",
    "    \n",
    "    def __call__(self, x):\n",
    "        x = np.array(x).reshape(-1, 1)\n",
    "        for layer in self.layers:\n",
    "            x = layer(x)\n",
    "        return x\n",
    "    \n",
    "    def backward(self, loss : NormLoss):\n",
    "        acc_grad = loss._backward()\n",
    "        temp_grad = None\n",
    "        for layer in reversed(self.layers):\n",
    "            if isinstance(layer, NonLinearity):\n",
    "                acc_grad = acc_grad * layer._backward()\n",
    "            elif isinstance(layer, LayerT):\n",
    "                temp_grad = acc_grad\n",
    "                # print(\"bias matrix grad shape:\", temp_grad.shape)\n",
    "                # print(\"layer x:\", layer.x.T.shape)\n",
    "                acc_grad = temp_grad @ layer.x.T\n",
    "                # print(\"post h multipy shape:\", acc_grad.shape)\n",
    "                layer.weights +=  -0.1 * acc_grad\n",
    "                layer.biases += -0.1 * temp_grad\n",
    "                # print(layer.weights_grad.shape == layer.weights.shape)\n",
    "                # print(layer.biases_grad.shape == layer.biases.shape)\n",
    "                acc_grad = layer.weights.T @ temp_grad\n",
    "                # print(\"post W multipy shape:\", acc_grad.shape)\n",
    "        return acc_grad\n"
   ]
  },
  {
   "cell_type": "code",
   "execution_count": 224,
   "metadata": {},
   "outputs": [
    {
     "data": {
      "text/plain": [
       "0.8278533743966844"
      ]
     },
     "execution_count": 224,
     "metadata": {},
     "output_type": "execute_result"
    }
   ],
   "source": [
    "a = LayerT(3, 10)\n",
    "s1 = Sigmoid()\n",
    "s2 = Sigmoid()\n",
    "s3 = Sigmoid()\n",
    "s4 = Sigmoid()\n",
    "b = LayerT(10, 20)\n",
    "c = LayerT(20, 5)\n",
    "d = LayerT(5, 1)\n",
    "e = Tanh()\n",
    "l = NormLoss()\n",
    "nn = NeuralNetwork([a, s1, b,s2, c, s3, d, e])\n",
    "\n",
    "xs_t = xs[0].copy()\n",
    "l(nn(xs_t), ys[0])"
   ]
  },
  {
   "cell_type": "code",
   "execution_count": 228,
   "metadata": {},
   "outputs": [],
   "source": [
    "for _ in range(500):\n",
    "    nn.backward(l)\n",
    "    l(nn(xs_t), ys[0])"
   ]
  },
  {
   "cell_type": "code",
   "execution_count": 229,
   "metadata": {},
   "outputs": [
    {
     "data": {
      "text/plain": [
       "array([[0.98214748]])"
      ]
     },
     "execution_count": 229,
     "metadata": {},
     "output_type": "execute_result"
    }
   ],
   "source": [
    "nn(xs_t)"
   ]
  },
  {
   "cell_type": "code",
   "execution_count": 230,
   "metadata": {},
   "outputs": [
    {
     "data": {
      "text/plain": [
       "0.0003187124170043572"
      ]
     },
     "execution_count": 230,
     "metadata": {},
     "output_type": "execute_result"
    }
   ],
   "source": [
    "\n",
    "l(nn(xs_t), ys[0])"
   ]
  },
  {
   "cell_type": "code",
   "execution_count": null,
   "metadata": {},
   "outputs": [],
   "source": []
  },
  {
   "cell_type": "code",
   "execution_count": 192,
   "metadata": {},
   "outputs": [
    {
     "name": "stdout",
     "output_type": "stream",
     "text": [
      "bias matrix grad shape: (1, 1)\n",
      "layer x: (1, 5)\n",
      "post h multipy shape: (1, 5)\n",
      "True\n",
      "True\n",
      "post W multipy shape: (5, 1)\n",
      "bias matrix grad shape: (5, 1)\n",
      "layer x: (1, 20)\n",
      "post h multipy shape: (5, 20)\n",
      "True\n",
      "True\n",
      "post W multipy shape: (20, 1)\n",
      "bias matrix grad shape: (20, 1)\n",
      "layer x: (1, 10)\n",
      "post h multipy shape: (20, 10)\n",
      "True\n",
      "True\n",
      "post W multipy shape: (10, 1)\n",
      "bias matrix grad shape: (10, 1)\n",
      "layer x: (1, 3)\n",
      "post h multipy shape: (10, 3)\n",
      "True\n",
      "True\n",
      "post W multipy shape: (3, 1)\n"
     ]
    },
    {
     "data": {
      "text/plain": [
       "array([[-0.0020129 ],\n",
       "       [ 0.00592731],\n",
       "       [-0.00608339]])"
      ]
     },
     "execution_count": 192,
     "metadata": {},
     "output_type": "execute_result"
    }
   ],
   "source": [
    "nn.backward(l)"
   ]
  },
  {
   "cell_type": "code",
   "execution_count": 136,
   "metadata": {},
   "outputs": [
    {
     "data": {
      "text/plain": [
       "(10, 1)"
      ]
     },
     "execution_count": 136,
     "metadata": {},
     "output_type": "execute_result"
    }
   ],
   "source": [
    "a.biases.shape"
   ]
  },
  {
   "cell_type": "code",
   "execution_count": null,
   "metadata": {},
   "outputs": [],
   "source": []
  }
 ],
 "metadata": {
  "kernelspec": {
   "display_name": "dl_scratch",
   "language": "python",
   "name": "python3"
  },
  "language_info": {
   "codemirror_mode": {
    "name": "ipython",
    "version": 3
   },
   "file_extension": ".py",
   "mimetype": "text/x-python",
   "name": "python",
   "nbconvert_exporter": "python",
   "pygments_lexer": "ipython3",
   "version": "3.10.16"
  }
 },
 "nbformat": 4,
 "nbformat_minor": 2
}
