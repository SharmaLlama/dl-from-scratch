{
 "cells": [
  {
   "cell_type": "code",
   "execution_count": 117,
   "metadata": {},
   "outputs": [],
   "source": [
    "sentences = extract_long_translations(50, 2000)"
   ]
  },
  {
   "cell_type": "code",
   "execution_count": 124,
   "metadata": {},
   "outputs": [],
   "source": [
    "english_encoded = sp.Encode(list(sentences.keys()))\n",
    "hindi_encoded = sp.Encode(list(sentences.values()))"
   ]
  },
  {
   "cell_type": "code",
   "execution_count": 6,
   "metadata": {},
   "outputs": [
    {
     "data": {
      "text/html": [
       "<div>\n",
       "<style scoped>\n",
       "    .dataframe tbody tr th:only-of-type {\n",
       "        vertical-align: middle;\n",
       "    }\n",
       "\n",
       "    .dataframe tbody tr th {\n",
       "        vertical-align: top;\n",
       "    }\n",
       "\n",
       "    .dataframe thead th {\n",
       "        text-align: right;\n",
       "    }\n",
       "</style>\n",
       "<table border=\"1\" class=\"dataframe\">\n",
       "  <thead>\n",
       "    <tr style=\"text-align: right;\">\n",
       "      <th></th>\n",
       "      <th>1</th>\n",
       "      <th>2</th>\n",
       "      <th>3</th>\n",
       "      <th>4</th>\n",
       "    </tr>\n",
       "  </thead>\n",
       "  <tbody>\n",
       "    <tr>\n",
       "      <th>0</th>\n",
       "      <td>1</td>\n",
       "      <td>5</td>\n",
       "      <td>9</td>\n",
       "      <td>13</td>\n",
       "    </tr>\n",
       "    <tr>\n",
       "      <th>1</th>\n",
       "      <td>2</td>\n",
       "      <td>6</td>\n",
       "      <td>10</td>\n",
       "      <td>14</td>\n",
       "    </tr>\n",
       "    <tr>\n",
       "      <th>2</th>\n",
       "      <td>3</td>\n",
       "      <td>7</td>\n",
       "      <td>11</td>\n",
       "      <td>15</td>\n",
       "    </tr>\n",
       "    <tr>\n",
       "      <th>3</th>\n",
       "      <td>4</td>\n",
       "      <td>8</td>\n",
       "      <td>12</td>\n",
       "      <td>16</td>\n",
       "    </tr>\n",
       "  </tbody>\n",
       "</table>\n",
       "</div>"
      ],
      "text/plain": [
       "   1  2   3   4\n",
       "0  1  5   9  13\n",
       "1  2  6  10  14\n",
       "2  3  7  11  15\n",
       "3  4  8  12  16"
      ]
     },
     "execution_count": 6,
     "metadata": {},
     "output_type": "execute_result"
    }
   ],
   "source": [
    "a = {1: [1,2,3,4], \n",
    "     2: [5,6,7,8],\n",
    "     3: [9,10,11,12],\n",
    "     4: [13,14,15,16]}\n",
    "\n",
    "import pandas as pd\n",
    "pd.DataFrame(a)"
   ]
  },
  {
   "cell_type": "code",
   "execution_count": 168,
   "metadata": {},
   "outputs": [
    {
     "name": "stdout",
     "output_type": "stream",
     "text": [
      "Total pairs: 22,522\n",
      "Combined length - Min: 50, Max: 1997\n",
      "Average combined length: 228.1 tokens\n",
      "0-140 tokens: 10,559 pairs (46.9%)\n",
      "140-200 tokens: 1,441 pairs (6.4%)\n",
      "200-300 tokens: 6,615 pairs (29.4%)\n",
      "300-500 tokens: 2,126 pairs (9.4%)\n",
      "500-750 tokens: 760 pairs (3.4%)\n",
      "750-1000 tokens: 412 pairs (1.8%)\n",
      "1000-1500 tokens: 435 pairs (1.9%)\n",
      "1500+ tokens: 174 pairs (0.8%)\n"
     ]
    }
   ],
   "source": [
    "def analyze_encoded_lengths(english_encoded, hindi_encoded):\n",
    "    \n",
    "    # Calculate lengths\n",
    "    en_lengths = [len(seq) for seq in english_encoded]\n",
    "    hi_lengths = [len(seq) for seq in hindi_encoded]\n",
    "    combined_lengths = [en for en, hi in zip(en_lengths, hi_lengths)]\n",
    "    \n",
    "    # Print summary\n",
    "    print(f\"Total pairs: {len(combined_lengths):,}\")\n",
    "    print(f\"Combined length - Min: {min(combined_lengths)}, Max: {max(combined_lengths)}\")\n",
    "    print(f\"Average combined length: {sum(combined_lengths)/len(combined_lengths):.1f} tokens\")\n",
    "    \n",
    "    # Count by length buckets\n",
    "    buckets = [(0, 140), (140, 200), (200, 300), (300, 500), (500, 750), (750, 1000), (1000, 1500),  (1500, float('inf'))]\n",
    "    for min_len, max_len in buckets:\n",
    "        count = sum(1 for l in combined_lengths if min_len <= l < max_len)\n",
    "        label = f\"{min_len}-{max_len}\" if max_len != float('inf') else f\"{min_len}+\"\n",
    "        print(f\"{label} tokens: {count:,} pairs ({count/len(combined_lengths)*100:.1f}%)\")\n",
    "    \n",
    "lengths = analyze_encoded_lengths(english_encoded, hindi_encoded)\n",
    "lengths"
   ]
  },
  {
   "cell_type": "code",
   "execution_count": 126,
   "metadata": {},
   "outputs": [
    {
     "name": "stdout",
     "output_type": "stream",
     "text": [
      "Sampling Summary:\n",
      "==================================================\n",
      "0-100       : 715,935 ->  6,000 (  0.8% kept)\n",
      "100-200     :  89,813 ->  6,000 (  6.7% kept)\n",
      "200-300     :   6,615 ->  6,615 (100.0% kept)\n",
      "300-500     :   2,126 ->  2,126 (100.0% kept)\n",
      "500-750     :     760 ->    760 (100.0% kept)\n",
      "750-1000    :     412 ->    412 (100.0% kept)\n",
      "1000-1500   :     435 ->    435 (100.0% kept)\n",
      "1500-2000   :     174 ->    174 (100.0% kept)\n",
      "2000+       :       0 ->      0 (N/A)\n",
      "--------------------------------------------------\n",
      "Total       : 816,270 -> 22,522 (2.8% kept)\n",
      "\n",
      "Sampled Data Analysis:\n",
      "Total pairs: 22,522\n",
      "Combined length - Min: 100, Max: 3946\n",
      "Average combined length: 435.2 tokens\n",
      "0-100        tokens:      0 pairs (0.0%)\n",
      "100-200      tokens:  7,134 pairs (31.7%)\n",
      "200-300      tokens:  4,243 pairs (18.8%)\n",
      "300-500      tokens:  6,010 pairs (26.7%)\n",
      "500-750      tokens:  2,649 pairs (11.8%)\n",
      "750-1000     tokens:    795 pairs (3.5%)\n",
      "1000-1500    tokens:    722 pairs (3.2%)\n",
      "1500-2000    tokens:    394 pairs (1.7%)\n",
      "2000+        tokens:    575 pairs (2.6%)\n",
      "\n",
      "Data successfully sampled!\n",
      "Original dataset reduced from 816,270 to 22,522 pairs\n"
     ]
    }
   ],
   "source": [
    "import random\n",
    "import numpy as np\n",
    "\n",
    "def sample_by_length_buckets(english_encoded, hindi_encoded, target_samples=6000, random_seed=42):\n",
    "    \"\"\"\n",
    "    Sample data to limit the number of pairs in specific length buckets\n",
    "    \n",
    "    Args:\n",
    "        english_encoded: List of encoded English sequences\n",
    "        hindi_encoded: List of encoded Hindi sequences  \n",
    "        target_samples: Target number of samples for 0-100 and 100-200 buckets\n",
    "        random_seed: Random seed for reproducibility\n",
    "    \n",
    "    Returns:\n",
    "        Tuple of (sampled_english, sampled_hindi, sampling_info)\n",
    "    \"\"\"\n",
    "    random.seed(random_seed)\n",
    "    np.random.seed(random_seed)\n",
    "    \n",
    "    # Calculate lengths for each pair\n",
    "    en_lengths = [len(seq) for seq in english_encoded]\n",
    "    hi_lengths = [len(seq) for seq in hindi_encoded]\n",
    "    combined_lengths = [en for en, hi in zip(en_lengths, hi_lengths)]\n",
    "    \n",
    "    # Create buckets with indices\n",
    "    buckets = {\n",
    "        '0-100': [],\n",
    "        '100-200': [], \n",
    "        '200-300': [],\n",
    "        '300-500': [],\n",
    "        '500-750': [],\n",
    "        '750-1000': [],\n",
    "        '1000-1500': [],\n",
    "        '1500-2000': [],\n",
    "        '2000+': []\n",
    "    }\n",
    "    \n",
    "    # Assign each pair to appropriate bucket\n",
    "    for i, length in enumerate(combined_lengths):\n",
    "        if 0 <= length < 100:\n",
    "            buckets['0-100'].append(i)\n",
    "        elif 100 <= length < 200:\n",
    "            buckets['100-200'].append(i)\n",
    "        elif 200 <= length < 300:\n",
    "            buckets['200-300'].append(i)\n",
    "        elif 300 <= length < 500:\n",
    "            buckets['300-500'].append(i)\n",
    "        elif 500 <= length < 750:\n",
    "            buckets['500-750'].append(i)\n",
    "        elif 750 <= length < 1000:\n",
    "            buckets['750-1000'].append(i)\n",
    "        elif 1000 <= length < 1500:\n",
    "            buckets['1000-1500'].append(i)\n",
    "        elif 1500 <= length < 2000:\n",
    "            buckets['1500-2000'].append(i)\n",
    "        else:\n",
    "            buckets['2000+'].append(i)\n",
    "    \n",
    "    # Sample indices to keep\n",
    "    selected_indices = []\n",
    "    sampling_info = {}\n",
    "    \n",
    "    for bucket_name, indices in buckets.items():\n",
    "        original_count = len(indices)\n",
    "        \n",
    "        if bucket_name in ['0-100', '100-200']:\n",
    "            # Sample target_samples from these buckets\n",
    "            if original_count <= target_samples:\n",
    "                sampled_indices = indices\n",
    "                sampled_count = original_count\n",
    "            else:\n",
    "                sampled_indices = random.sample(indices, target_samples)\n",
    "                sampled_count = target_samples\n",
    "        else:\n",
    "            # Keep all indices from other buckets\n",
    "            sampled_indices = indices\n",
    "            sampled_count = original_count\n",
    "        \n",
    "        selected_indices.extend(sampled_indices)\n",
    "        sampling_info[bucket_name] = {\n",
    "            'original': original_count,\n",
    "            'sampled': sampled_count,\n",
    "            'percentage_kept': (sampled_count / original_count * 100) if original_count > 0 else 0\n",
    "        }\n",
    "    \n",
    "    # Sort indices to maintain some order\n",
    "    selected_indices.sort()\n",
    "    \n",
    "    # Create sampled datasets\n",
    "    sampled_english = [english_encoded[i] for i in selected_indices]\n",
    "    sampled_hindi = [hindi_encoded[i] for i in selected_indices]\n",
    "    \n",
    "    return sampled_english, sampled_hindi, sampling_info\n",
    "\n",
    "def print_sampling_summary(sampling_info):\n",
    "    \"\"\"Print a summary of the sampling results\"\"\"\n",
    "    print(\"Sampling Summary:\")\n",
    "    print(\"=\" * 50)\n",
    "    \n",
    "    total_original = sum(info['original'] for info in sampling_info.values())\n",
    "    total_sampled = sum(info['sampled'] for info in sampling_info.values())\n",
    "    \n",
    "    for bucket_name, info in sampling_info.items():\n",
    "        original = info['original']\n",
    "        sampled = info['sampled']\n",
    "        percentage = info['percentage_kept']\n",
    "        \n",
    "        if original > 0:\n",
    "            print(f\"{bucket_name:12}: {original:7,} -> {sampled:6,} ({percentage:5.1f}% kept)\")\n",
    "        else:\n",
    "            print(f\"{bucket_name:12}: {original:7,} -> {sampled:6,} (N/A)\")\n",
    "    \n",
    "    print(\"-\" * 50)\n",
    "    print(f\"{'Total':12}: {total_original:7,} -> {total_sampled:6,} ({total_sampled/total_original*100:.1f}% kept)\")\n",
    "sampled_english, sampled_hindi, sampling_info = sample_by_length_buckets(\n",
    "    english_encoded, \n",
    "    hindi_encoded, \n",
    "    target_samples=6000,\n",
    "    random_seed=42\n",
    ")\n",
    "\n",
    "print_sampling_summary(sampling_info)\n",
    "english_encoded = sampled_english\n",
    "hindi_encoded = sampled_hindi"
   ]
  },
  {
   "cell_type": "code",
   "execution_count": 169,
   "metadata": {},
   "outputs": [
    {
     "name": "stdout",
     "output_type": "stream",
     "text": [
      "Total pairs: 22,522\n",
      "Combined length - Min: 50, Max: 1997\n",
      "Average combined length: 228.1 tokens\n",
      "0-140 tokens: 10,559 pairs (46.9%)\n",
      "140-200 tokens: 1,441 pairs (6.4%)\n",
      "200-300 tokens: 6,615 pairs (29.4%)\n",
      "300-500 tokens: 2,126 pairs (9.4%)\n",
      "500-750 tokens: 760 pairs (3.4%)\n",
      "750-1000 tokens: 412 pairs (1.8%)\n",
      "1000-1500 tokens: 435 pairs (1.9%)\n",
      "1500+ tokens: 174 pairs (0.8%)\n"
     ]
    }
   ],
   "source": [
    "analyze_encoded_lengths(english_encoded, hindi_encoded)"
   ]
  },
  {
   "cell_type": "code",
   "execution_count": 163,
   "metadata": {},
   "outputs": [],
   "source": [
    "bins = [(0, 140), (140, 200), (200, 300), (300, 500), (500, 750), (750, 1000), (1000, 1500), (1500, 2000)]\n",
    "\n",
    "from papers.CommonTransformerComponents.train_sp import LanguageTranslationDataset\n",
    "\n",
    "varying_lengths = {bin: [] for bin in bins}\n",
    "for a,b in zip(english_encoded, hindi_encoded):\n",
    "    if 0 <= len(a) <= 140:\n",
    "        varying_lengths[(0, 140)].append((a, b))\n",
    "    elif 140 < len(a) <= 200:\n",
    "        varying_lengths[(140, 200)].append((a, b))\n",
    "    elif 200 < len(a) <= 300:\n",
    "        varying_lengths[(200, 300)].append((a, b))\n",
    "    elif 300 < len(a) <= 500:\n",
    "        varying_lengths[(300, 500)].append((a, b))\n",
    "    elif 500 < len(a) <= 750:\n",
    "        varying_lengths[(500, 750)].append((a, b))\n",
    "    elif 750 < len(a) <= 1000:\n",
    "        varying_lengths[(750, 1000)].append((a, b))\n",
    "    elif 1000 < len(a) <= 1500:\n",
    "        varying_lengths[(1000, 1500)].append((a, b))\n",
    "    elif 1500 < len(a) <= 2000:\n",
    "        varying_lengths[(1500, 2000)].append((a, b))\n"
   ]
  },
  {
   "cell_type": "code",
   "execution_count": 180,
   "metadata": {},
   "outputs": [],
   "source": [
    "from torch.utils.data import DataLoader\n",
    "vals = {}\n",
    "\n",
    "for binned, pairs in varying_lengths.items():\n",
    "    tmp_eng, tmp_hindi = [pair[0] for pair in pairs], [pair[1] for pair in pairs]\n",
    "    full_data = LanguageTranslationDataset(seq_length=binned[-1], src_encodings=tmp_eng, tgt_encodings=tmp_hindi, \n",
    "                                           sos_token=sp.bos_id(), eos_token=sp.eos_id(), pad_token=sp.pad_id())\n",
    "    train_dataloader = DataLoader(full_data, batch_size=16, shuffle=True, pin_memory=True, num_workers=4)\n",
    "    vals[binned] = train_dataloader"
   ]
  },
  {
   "cell_type": "code",
   "execution_count": 1,
   "metadata": {},
   "outputs": [],
   "source": [
    "import os\n",
    "import sys\n",
    "parent_dir = os.path.abspath(\"../../\")\n",
    "sys.path.append(parent_dir)\n",
    "parent_dir = os.path.abspath(\"../../utils/\")\n",
    "sys.path.append(parent_dir)"
   ]
  },
  {
   "cell_type": "code",
   "execution_count": 2,
   "metadata": {},
   "outputs": [],
   "source": [
    "from utils.long_sentence_test import extract_long_translations, sample_by_length_buckets"
   ]
  },
  {
   "cell_type": "code",
   "execution_count": 3,
   "metadata": {},
   "outputs": [],
   "source": [
    "import sentencepiece as spm\n",
    "sp = spm.SentencePieceProcessor(model_file=\"../attention_is_all_you_need/BPE/en-hi.model\")\n",
    "sentences = extract_long_translations(1000, 2000, sp)\n",
    "info = sample_by_length_buckets(sentences, sp, target_samples=6000)"
   ]
  },
  {
   "cell_type": "code",
   "execution_count": 4,
   "metadata": {},
   "outputs": [],
   "source": [
    "from papers.CommonTransformerComponents.train_sp import LanguageTranslationDataset\n",
    "from datasets import load_dataset, Dataset, DatasetDict"
   ]
  },
  {
   "cell_type": "code",
   "execution_count": 14,
   "metadata": {},
   "outputs": [
    {
     "ename": "NameError",
     "evalue": "name 'DataLoader' is not defined",
     "output_type": "error",
     "traceback": [
      "\u001b[0;31m---------------------------------------------------------------------------\u001b[0m",
      "\u001b[0;31mNameError\u001b[0m                                 Traceback (most recent call last)",
      "Cell \u001b[0;32mIn[14], line 10\u001b[0m\n\u001b[1;32m      7\u001b[0m tmp_eng, tmp_hindi \u001b[38;5;241m=\u001b[39m pairs[\u001b[38;5;241m0\u001b[39m], pairs[\u001b[38;5;241m1\u001b[39m]\n\u001b[1;32m      8\u001b[0m full_data \u001b[38;5;241m=\u001b[39m LanguageTranslationDataset(seq_length\u001b[38;5;241m=\u001b[39mmax_len, src_encodings\u001b[38;5;241m=\u001b[39mtmp_eng, tgt_encodings\u001b[38;5;241m=\u001b[39mtmp_hindi, \n\u001b[1;32m      9\u001b[0m                                        sos_token\u001b[38;5;241m=\u001b[39msp\u001b[38;5;241m.\u001b[39mbos_id(), eos_token\u001b[38;5;241m=\u001b[39msp\u001b[38;5;241m.\u001b[39meos_id(), pad_token\u001b[38;5;241m=\u001b[39msp\u001b[38;5;241m.\u001b[39mpad_id())\n\u001b[0;32m---> 10\u001b[0m train_dataloader \u001b[38;5;241m=\u001b[39m \u001b[43mDataLoader\u001b[49m(full_data, batch_size\u001b[38;5;241m=\u001b[39m\u001b[38;5;241m16\u001b[39m, shuffle\u001b[38;5;241m=\u001b[39m\u001b[38;5;28;01mTrue\u001b[39;00m, pin_memory\u001b[38;5;241m=\u001b[39m\u001b[38;5;28;01mTrue\u001b[39;00m, num_workers\u001b[38;5;241m=\u001b[39m\u001b[38;5;241m4\u001b[39m)\n\u001b[1;32m     11\u001b[0m vals[binned] \u001b[38;5;241m=\u001b[39m train_dataloader\n",
      "\u001b[0;31mNameError\u001b[0m: name 'DataLoader' is not defined"
     ]
    }
   ],
   "source": [
    "vals = {}\n",
    "\n",
    "for binned, pairs in info.items():\n",
    "    if pairs == \"2000+\": \n",
    "        continue\n",
    "    max_len = int(binned.split(\"-\")[1])\n",
    "    tmp_eng, tmp_hindi = pairs[0], pairs[1]\n",
    "    full_data = LanguageTranslationDataset(seq_length=max_len, src_encodings=tmp_eng, tgt_encodings=tmp_hindi, \n",
    "                                           sos_token=sp.bos_id(), eos_token=sp.eos_id(), pad_token=sp.pad_id())\n",
    "    train_dataloader = DataLoader(full_data, batch_size=16, shuffle=True, pin_memory=True, num_workers=4)\n",
    "    vals[binned] = train_dataloader"
   ]
  }
 ],
 "metadata": {
  "kernelspec": {
   "display_name": "dl_scratch",
   "language": "python",
   "name": "python3"
  },
  "language_info": {
   "codemirror_mode": {
    "name": "ipython",
    "version": 3
   },
   "file_extension": ".py",
   "mimetype": "text/x-python",
   "name": "python",
   "nbconvert_exporter": "python",
   "pygments_lexer": "ipython3",
   "version": "3.10.16"
  }
 },
 "nbformat": 4,
 "nbformat_minor": 2
}
