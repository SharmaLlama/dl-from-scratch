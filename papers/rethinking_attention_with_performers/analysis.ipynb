{
 "cells": [
  {
   "cell_type": "code",
   "execution_count": 59,
   "metadata": {},
   "outputs": [],
   "source": [
    "%load_ext autoreload\n",
    "%autoreload 2"
   ]
  },
  {
   "cell_type": "code",
   "execution_count": 60,
   "metadata": {},
   "outputs": [],
   "source": [
    "import torch\n",
    "from torch.utils.data import DataLoader\n",
    "from torch.utils.data import Dataset, random_split\n",
    "import torch.nn.functional as F\n",
    "import sys\n",
    "import numpy as np\n",
    "np.random.seed(42)\n",
    "import os\n",
    "import pickle\n",
    "import pandas as pd\n",
    "from torch.utils.tensorboard import SummaryWriter\n",
    "parent_dir = os.path.abspath(\"../../\")\n",
    "sys.path.append(parent_dir)\n",
    "parent_dir = os.path.abspath(\"../../utils/\")\n",
    "sys.path.append(parent_dir)\n",
    "from pathlib import Path\n",
    "from attention_visualisation import run_attention_dashboard, run_model_dashboard, run_neuron_dashboard"
   ]
  },
  {
   "cell_type": "markdown",
   "metadata": {},
   "source": [
    "## Analysis"
   ]
  },
  {
   "cell_type": "markdown",
   "metadata": {},
   "source": [
    "$\\phi(\\boldsymbol{u})$ is a random feature map for $\\boldsymbol{u} \\in \\mathbb{R}^d$. For $\\boldsymbol{Q'}, \\boldsymbol{K'} \\in \\mathbb{R}^{L \\times r}$ with rows given as  $\\phi(\\boldsymbol{q_i}^T)^T$ and $\\phi(\\boldsymbol{k_i}^T)^T$ respectively, leads to the more efficient attention mechanism of the form:\n",
    " $$\n",
    "\\begin{aligned}\n",
    "  &\\mathrm{Att}_{\\!\\leftrightarrow}(\\mathbf{Q},\\mathbf{K},\\mathbf{V})\n",
    "   = \\hat{\\mathbf{D}}^{-1}\\bigl(\\mathbf{Q}'((\\mathbf{K}')^{\\!\\top}\\mathbf{V})\\bigr),\n",
    "  &\n",
    "  &\\hat{\\mathbf{D}}\n",
    "   = \\operatorname{diag}\\!\\bigl(\\mathbf{Q}'((\\mathbf{K}')^{\\!\\top}\\mathbf{1}_L)\\bigr).\n",
    "\\end{aligned}\n",
    "$$\n",
    "\n",
    "In the paper, they choose: \n",
    "$$\\phi(\\mathbf{x}) = \\frac{h(\\mathbf{x})}{\\sqrt{m}} \\left(f_1(\\omega_1^T \\mathbf{x}), \\dots, f_1(\\omega_m^T \\mathbf{x}), ..., f_l(\\omega_1^T \\mathbf{x}), ..., f_l(\\omega_m^T \\mathbf{x})\\right)$$\n",
    "\n",
    "Here are 3 possible combinations to try:\n",
    "1. $$\\hat{SM_{m}}^{trig} (\\mathbf{x}, \\mathbf{y}) := h(x) = exp\\left(\\frac{\\|\\mathbf{x}\\|^2}{2}\\right), l=2, f_1 = sin, f_2 = cos$$\n",
    "2. $$\\hat{SM_{m}}^{+} (\\mathbf{x}, \\mathbf{y}) := h(x) = exp\\left(-\\frac{\\|\\mathbf{x}\\|^2}{2}\\right), l=1, f_1 = exp$$\n",
    "3. $$\\hat{SM_{m}}^{hyp+} (\\mathbf{x}, \\mathbf{y}) := h(x) = \\frac{1}{\\sqrt{2}}exp\\left(-\\frac{\\|\\mathbf{x}\\|^2}{2}\\right), l=2, f_1 = exp(u), f_2 = exp(-u)$$\n",
    "\n",
    "\n",
    "How to choose $w_i$'s such that it is orthogonal:\n",
    "We want to choose different random samples $\\omega_1,...,\\omega_m$ such that they come from $D \\sim \\mathcal{N}(0, \\mathbf{I_d})$. We can use the Gram-Schmidt orthogonalisation to generate these. \n"
   ]
  },
  {
   "cell_type": "code",
   "execution_count": 61,
   "metadata": {},
   "outputs": [],
   "source": [
    "import numpy as np\n",
    "import matplotlib.pyplot as plt\n",
    "from scipy.stats import multivariate_normal\n",
    "\n",
    "def gram_schmidt(vectors):\n",
    "    \"\"\"\n",
    "    Apply Gram-Schmidt orthogonalization to a set of vectors.\n",
    "    \n",
    "    Args:\n",
    "        vectors: numpy array of shape (m, n) where m is number of vectors\n",
    "                and n is the dimension of each vector\n",
    "    \n",
    "    Returns:\n",
    "        orthogonal_vectors: numpy array of orthogonalized vectors\n",
    "    \"\"\"\n",
    "    vectors = vectors.copy().astype(float)\n",
    "    m, n = vectors.shape\n",
    "    \n",
    "    for i in range(m):\n",
    "        vectors[i] = vectors[i] / np.linalg.norm(vectors[i])\n",
    "        for j in range(i + 1, m):\n",
    "            projection = np.dot(vectors[j], vectors[i]) * vectors[i]\n",
    "            vectors[j] = vectors[j] - projection\n",
    "    \n",
    "    return vectors\n",
    "\n",
    "def generate_random_vectors_gaussian(m, n, mean=0, std=1):\n",
    "    \"\"\"Generate m random vectors from Gaussian distribution.\"\"\"\n",
    "    return np.random.normal(mean, std, (m, n))\n",
    "\n",
    "def generate_random_vectors_uniform(m, n, low=-1, high=1):\n",
    "    \"\"\"Generate m random vectors from uniform distribution.\"\"\"\n",
    "    return np.random.uniform(low, high, (m, n))\n",
    "\n",
    "def generate_random_vectors_multivariate_normal(m, n, mean=None, cov=None):\n",
    "    \"\"\"Generate m random vectors from multivariate normal distribution.\"\"\"\n",
    "    if mean is None:\n",
    "        mean = np.zeros(n)\n",
    "    if cov is None:\n",
    "        cov = np.eye(n)\n",
    "    \n",
    "    return np.random.multivariate_normal(mean, cov, m)\n",
    "\n",
    "def generate_orthogonal_random_vectors(m, n, distribution='gaussian', **kwargs):\n",
    "    \"\"\"\n",
    "    Generate m orthogonal random vectors of dimension n.\n",
    "    \n",
    "    Args:\n",
    "        m: number of vectors\n",
    "        n: dimension of each vector\n",
    "        distribution: 'gaussian', 'uniform', or 'multivariate_normal'\n",
    "        **kwargs: additional parameters for distribution\n",
    "    \n",
    "    Returns:\n",
    "        orthogonal_vectors: numpy array of orthogonalized random vectors\n",
    "    \"\"\"\n",
    "    if m > n:\n",
    "        raise ValueError(f\"Cannot generate {m} orthogonal vectors in {n}D space\")\n",
    "    \n",
    "    if distribution == 'gaussian':\n",
    "        vectors = generate_random_vectors_gaussian(m, n, **kwargs)\n",
    "    elif distribution == 'uniform':\n",
    "        vectors = generate_random_vectors_uniform(m, n, **kwargs)\n",
    "    elif distribution == 'multivariate_normal':\n",
    "        vectors = generate_random_vectors_multivariate_normal(m, n, **kwargs)\n",
    "    else:\n",
    "        raise ValueError(\"Distribution must be 'gaussian', 'uniform', or 'multivariate_normal'\")\n",
    "    \n",
    "    return gram_schmidt(vectors)"
   ]
  },
  {
   "cell_type": "code",
   "execution_count": 71,
   "metadata": {},
   "outputs": [],
   "source": [
    "import numpy as np\n",
    "\n",
    "d = 512\n",
    "L = 140\n",
    "m = 128\n",
    "def random_feature_map(omegas, x, kernel_type=\"trig\"):\n",
    "    if kernel_type == \"trig\":\n",
    "        num = np.exp(np.linalg.norm(x)**2 / 2) / np.sqrt(omegas.shape[0])\n",
    "        ws =  omegas @ x\n",
    "        f1, f2 = np.sin(ws), np.cos(ws)\n",
    "        return num * np.concatenate([f1, f2])\n",
    "    elif kernel_type == \"+\":\n",
    "        num = np.exp(-np.linalg.norm(x)**2 / 2) / np.sqrt(omegas.shape[0])\n",
    "        ws = omegas @ x\n",
    "        f1 = np.exp(ws)\n",
    "        return num * f1\n",
    "    elif kernel_type == \"hyp\":\n",
    "        num = np.exp(-np.linalg.norm(x)**2 / 2) / np.sqrt(2 * omegas.shape[0])\n",
    "        ws = omegas @ x\n",
    "        f1, f2 = np.exp(ws), np.exp(-ws)\n",
    "        return num * np.concatenate([f1, f2])\n",
    "    else:\n",
    "        raise ValueError(f\"Unknown kernel type: {kernel_type}\")\n",
    "    "
   ]
  },
  {
   "cell_type": "code",
   "execution_count": 72,
   "metadata": {},
   "outputs": [],
   "source": [
    "query = np.random.normal(size=(L, d))\n",
    "key = np.random.normal(size=(L, d))\n",
    "value = np.random.normal(size=(L, d))\n",
    "omegas = generate_orthogonal_random_vectors(m, d, 'gaussian')\n",
    "new_query = np.zeros((L, m))\n",
    "new_key = np.zeros((L, m))\n",
    "\n",
    "query_norm = query / (d ** 0.5)\n",
    "key_norm = key / (d ** 0.5)\n",
    "for i in range(L):\n",
    "    new_query[i] = random_feature_map(omegas, query_norm[i], kernel_type=\"+\")\n",
    "    new_key[i] = random_feature_map(omegas, key_norm[i], kernel_type=\"+\")"
   ]
  },
  {
   "cell_type": "code",
   "execution_count": 73,
   "metadata": {},
   "outputs": [],
   "source": [
    "def attention_hat(new_query, new_key, v):\n",
    "    l, d = new_query.shape\n",
    "    q_prime = new_query\n",
    "    k_prime = new_key\n",
    "    d_inv = np.diag(1 / (q_prime @ (k_prime.T @ np.ones(l))))\n",
    "    return d_inv @ (q_prime @ (k_prime.T @ v))"
   ]
  },
  {
   "cell_type": "code",
   "execution_count": 74,
   "metadata": {},
   "outputs": [],
   "source": [
    "other = attention_hat(new_query, new_key, value)"
   ]
  },
  {
   "cell_type": "code",
   "execution_count": 75,
   "metadata": {},
   "outputs": [],
   "source": [
    "C = np.column_stack([value, np.ones((L, 1))])\n",
    "buf_1 = new_key.T @ C\n",
    "buf_2 = new_query @ buf_1\n",
    "buf_3 = buf_2[:, :-1]\n",
    "buf_4 = buf_2[:, -1]\n",
    "ans = buf_3 / buf_4[:, np.newaxis]"
   ]
  },
  {
   "cell_type": "code",
   "execution_count": 86,
   "metadata": {},
   "outputs": [
    {
     "data": {
      "text/plain": [
       "(128, 1)"
      ]
     },
     "execution_count": 86,
     "metadata": {},
     "output_type": "execute_result"
    }
   ],
   "source": [
    "new_key[i][:, np.newaxis].shape"
   ]
  },
  {
   "cell_type": "code",
   "execution_count": 90,
   "metadata": {},
   "outputs": [
    {
     "data": {
      "text/plain": [
       "(1, 513)"
      ]
     },
     "execution_count": 90,
     "metadata": {},
     "output_type": "execute_result"
    }
   ],
   "source": [
    "C[i][np.newaxis].shape"
   ]
  },
  {
   "cell_type": "code",
   "execution_count": 94,
   "metadata": {},
   "outputs": [],
   "source": [
    "G_temp = np.einsum('lm,ln->lmn', new_key, C)\n",
    "G = np.cumsum(G_temp, axis=0)\n",
    "buf_2 = np.einsum('lm,ln->lmn', new_query, G)"
   ]
  },
  {
   "cell_type": "code",
   "execution_count": 34,
   "metadata": {},
   "outputs": [],
   "source": [
    "attn = query @ key.T / (d ** 0.5)\n",
    "attn = F.softmax(torch.tensor(attn), dim=-1)\n",
    "attn = attn @ value"
   ]
  },
  {
   "cell_type": "code",
   "execution_count": 65,
   "metadata": {},
   "outputs": [
    {
     "name": "stdout",
     "output_type": "stream",
     "text": [
      "Are they close? False\n",
      "Max absolute difference: 0.311621\n",
      "Mean absolute difference: 0.032524\n"
     ]
    }
   ],
   "source": [
    "import numpy as np\n",
    "import torch\n",
    "import torch.nn.functional as F\n",
    "\n",
    "# Parameters\n",
    "L = 1024\n",
    "d = 128\n",
    "m = d # Number of random features (m = d is a good choice)\n",
    "\n",
    "# Generate random data\n",
    "query = np.random.normal(size=(L, d))\n",
    "key = np.random.normal(size=(L, d))\n",
    "value = np.random.normal(size=(L, d))\n",
    "omegas = generate_orthogonal_random_vectors(m, d, 'gaussian')\n",
    "query_norm = query / (d ** 0.25)\n",
    "key_norm = key / (d * 0.25)\n",
    "\n",
    "new_query = np.zeros((L, m))\n",
    "new_key = np.zeros((L, m))\n",
    "\n",
    "for i in range(L):\n",
    "    new_query[i] = random_feature_map(omegas, query_norm[i], kernel_type=\"+\")\n",
    "    new_key[i] = random_feature_map(omegas, key_norm[i], kernel_type=\"+\")\n",
    "\n",
    "# FAVOR+ attention computation\n",
    "C = np.column_stack([value, np.ones((L, 1))])\n",
    "buf_1 = new_key.T @ C\n",
    "buf_2 = new_query @ buf_1\n",
    "buf_3 = buf_2[:, :-1]\n",
    "buf_4 = buf_2[:, -1]\n",
    "favor_output = buf_3 / buf_4[:, np.newaxis]\n",
    "\n",
    "\n",
    "attn_scores = query @ key.T / np.sqrt(d)\n",
    "attn_weights = F.softmax(torch.tensor(attn_scores, dtype=torch.float32), dim=-1)\n",
    "regular_attention_output = attn_weights @ torch.tensor(value, dtype=torch.float32)\n",
    "\n",
    "# Compare\n",
    "is_close = torch.allclose(\n",
    "    torch.tensor(favor_output, dtype=torch.float32), \n",
    "    regular_attention_output, \n",
    "    atol=1e-3,  # You might need to relax tolerance\n",
    "    rtol=1e-3\n",
    ")\n",
    "\n",
    "print(f\"Are they close? {is_close}\")\n",
    "print(f\"Max absolute difference: {torch.max(torch.abs(torch.tensor(favor_output) - regular_attention_output)):.6f}\")\n",
    "print(f\"Mean absolute difference: {torch.mean(torch.abs(torch.tensor(favor_output) - regular_attention_output)):.6f}\")"
   ]
  },
  {
   "cell_type": "code",
   "execution_count": 71,
   "metadata": {},
   "outputs": [
    {
     "data": {
      "image/png": "[encoded data removed]",
      "text/plain": [
       "<Figure size 640x480 with 1 Axes>"
      ]
     },
     "metadata": {},
     "output_type": "display_data"
    }
   ],
   "source": [
    "plt.hist((torch.tensor(favor_output, dtype=torch.float32) - regular_attention_output).reshape(-1), bins=1000);"
   ]
  },
  {
   "cell_type": "code",
   "execution_count": 37,
   "metadata": {},
   "outputs": [],
   "source": [
    "def my_favour(query, key, value, d, omegas):\n",
    "    query_norm = query / (d ** 0.25)\n",
    "    key_norm = key / (d ** 0.25)\n",
    "\n",
    "    new_query = np.zeros((L, m))\n",
    "    new_key = np.zeros((L, m))\n",
    "\n",
    "    for i in range(L):\n",
    "        new_query[i] = random_feature_map(omegas, query_norm[i], kernel_type=\"+\")\n",
    "        new_key[i] = random_feature_map(omegas, key_norm[i], kernel_type=\"+\")\n",
    "\n",
    "    # FAVOR+ attention computation\n",
    "    C = np.column_stack([value, np.ones((L, 1))])\n",
    "    buf_1 = new_key.T @ C\n",
    "    buf_2 = new_query @ buf_1\n",
    "    buf_3 = buf_2[:, :-1]\n",
    "    buf_4 = buf_2[:, -1]\n",
    "    favor_output = buf_3 / buf_4[:, np.newaxis]\n",
    "    return favor_output"
   ]
  },
  {
   "cell_type": "code",
   "execution_count": 52,
   "metadata": {},
   "outputs": [
    {
     "name": "stdout",
     "output_type": "stream",
     "text": [
      "Are they close? False\n",
      "Max absolute difference: 0.288896\n",
      "Mean absolute difference: 0.038061\n",
      "Are they close? False\n",
      "Max absolute difference: 0.288896\n",
      "Mean absolute difference: 0.038061\n",
      "Are they close? True\n",
      "Max absolute difference: 0.000000\n",
      "Mean absolute difference: 0.000000\n"
     ]
    }
   ],
   "source": [
    "d = 512\n",
    "L = 1024\n",
    "q = np.random.randn(L, d)\n",
    "k = np.random.randn(L, d)\n",
    "v = np.random.randn(L, d)\n",
    "m = 16 * d\n",
    "random_feats = orthogonal_gaussian(m, d)\n",
    "true_val = att(q, k, v)\n",
    "guess = positive_att_hat(q, k, v, random_feats)\n",
    "my_guess = my_favour(q, k, v, d, random_feats)\n",
    "is_close = np.allclose(\n",
    "    true_val, guess, \n",
    ")\n",
    "print(f\"Are they close? {is_close}\")\n",
    "print(f\"Max absolute difference: {np.max(np.abs(true_val - guess)):.6f}\")\n",
    "print(f\"Mean absolute difference: {np.mean(np.abs(true_val - guess)):.6f}\")\n",
    "\n",
    "is_close = np.allclose(\n",
    "    true_val, my_guess, \n",
    ")\n",
    "print(f\"Are they close? {is_close}\")\n",
    "print(f\"Max absolute difference: {np.max(np.abs(true_val - my_guess)):.6f}\")\n",
    "print(f\"Mean absolute difference: {np.mean(np.abs(true_val - my_guess)):.6f}\")\n",
    "\n",
    "\n",
    "print(f\"Are they close? {np.allclose(guess, my_guess)}\")\n",
    "print(f\"Max absolute difference: {np.max(np.abs(guess - my_guess)):.6f}\")\n",
    "print(f\"Mean absolute difference: {np.mean(np.abs(guess - my_guess)):.6f}\")"
   ]
  },
  {
   "cell_type": "code",
   "execution_count": 57,
   "metadata": {},
   "outputs": [],
   "source": [
    "import numpy as np\n",
    "import matplotlib.pyplot as plt\n",
    "\n",
    "\n",
    "# Vanila Transformer attention implementation\n",
    "def att(q, k, v, normalize=True):\n",
    "    l, d = q.shape\n",
    "    normalizer = 1 / (d ** 0.5) if normalize else 1\n",
    "    a = np.exp(q @ k.T * normalizer)\n",
    "    d_inv = np.diag(1 / (a @ np.ones(l)))\n",
    "    return d_inv @ a @ v\n",
    "\n",
    "\n",
    "# Perfomer attention implementation using some random feature map phi\n",
    "def att_hat(q, k, v, phi, normalize=True):\n",
    "    l, d = q.shape\n",
    "    normalizer = 1 / (d ** 0.25)\n",
    "    q_prime = phi(q * normalizer)\n",
    "    k_prime = phi(k * normalizer)\n",
    "    d_inv = np.diag(1 / (q_prime @ (k_prime.T @ np.ones(l))))\n",
    "    return d_inv @ (q_prime @ (k_prime.T @ v))\n",
    "\n",
    "\n",
    "# random feature map\n",
    "def phi(h, fs, random_feats):\n",
    "    return lambda x: (\n",
    "        h(x)\n",
    "        / np.sqrt(m)\n",
    "        * np.concatenate(\n",
    "            [f(np.einsum(\"...d,md->...m\", x, random_feats)) for f in fs],\n",
    "            axis=-1,\n",
    "        )\n",
    "    )\n",
    "\n",
    "# Performer \"positive\" attention\n",
    "def positive_att_hat(q, k, v, random_feats, normalize=True):\n",
    "    def h(x):\n",
    "        return np.exp(-np.square(x).sum(axis=-1, keepdims=True) / 2)\n",
    "\n",
    "    kernel = phi(h, [np.exp], random_feats)\n",
    "    return att_hat(q, k, v, kernel, normalize)\n",
    "\n",
    "\n",
    "# generate IID Gaussian random features\n",
    "def iid_gaussian(m, d):\n",
    "    return np.random.normal(size=(m, d))\n",
    "\n",
    "\n",
    "# generate orthogonal Gaussian random features\n",
    "def orthogonal_gaussian(m, d):\n",
    "    def orthogonal_square():\n",
    "        # create orthogonal square matrix using Gram-Schmidt\n",
    "        q, _ = np.linalg.qr(iid_gaussian(d, d))\n",
    "        return q.T\n",
    "\n",
    "    num_squares = int(m / d)\n",
    "    blocks = [orthogonal_square() for _ in range(num_squares)]\n",
    "\n",
    "    remainder = m - d * num_squares\n",
    "    if remainder:\n",
    "        blocks.append(orthogonal_square()[:remainder])\n",
    "\n",
    "    matrix = np.vstack(blocks)\n",
    "    matrix /= np.sqrt(num_squares + remainder / d)\n",
    "\n",
    "    return matrix\n",
    "\n",
    "\n",
    "# mean squared error\n",
    "def mse(a, b):\n",
    "    return np.square(a - b).mean()\n"
   ]
  },
  {
   "cell_type": "code",
   "execution_count": 55,
   "metadata": {},
   "outputs": [
    {
     "data": {
      "text/plain": [
       "array([0.11917704, 0.11976755, 0.12102224, 0.11897399, 0.12284543,\n",
       "       0.11786566, 0.11869317, 0.12015633, 0.12225063, 0.11584556,\n",
       "       0.11789622, 0.11763824])"
      ]
     },
     "execution_count": 55,
     "metadata": {},
     "output_type": "execute_result"
    }
   ],
   "source": [
    "sincos.mean(axis=1)"
   ]
  },
  {
   "cell_type": "code",
   "execution_count": 56,
   "metadata": {},
   "outputs": [
    {
     "data": {
      "text/plain": [
       "array([0.11917704, 0.11976755, 0.12102224, 0.11897399, 0.12284543,\n",
       "       0.11786566, 0.11869317, 0.12015633, 0.12225063, 0.11584556,\n",
       "       0.11789622, 0.11763824])"
      ]
     },
     "execution_count": 56,
     "metadata": {},
     "output_type": "execute_result"
    }
   ],
   "source": [
    "positive.mean(axis=1)"
   ]
  }
 ],
 "metadata": {
  "kernelspec": {
   "display_name": "dl_scratch",
   "language": "python",
   "name": "python3"
  },
  "language_info": {
   "codemirror_mode": {
    "name": "ipython",
    "version": 3
   },
   "file_extension": ".py",
   "mimetype": "text/x-python",
   "name": "python",
   "nbconvert_exporter": "python",
   "pygments_lexer": "ipython3",
   "version": "3.10.16"
  }
 },
 "nbformat": 4,
 "nbformat_minor": 2
}
